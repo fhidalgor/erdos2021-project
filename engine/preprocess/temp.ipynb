{
 "metadata": {
  "language_info": {
   "codemirror_mode": {
    "name": "ipython",
    "version": 3
   },
   "file_extension": ".py",
   "mimetype": "text/x-python",
   "name": "python",
   "nbconvert_exporter": "python",
   "pygments_lexer": "ipython3",
   "version": "3.8.3"
  },
  "orig_nbformat": 2,
  "kernelspec": {
   "name": "python383jvsc74a57bd05ff2e97f2700942b88f4f63a758b83b1732fbe9984934997a5f4b9403efe2385",
   "display_name": "Python 3.8.3 64-bit ('erdos2021-project-_DDWgEhi-py3.8': venv)"
  }
 },
 "nbformat": 4,
 "nbformat_minor": 2,
 "cells": [
  {
   "cell_type": "code",
   "execution_count": 1,
   "metadata": {},
   "outputs": [],
   "source": [
    "import pandas as pd"
   ]
  },
  {
   "cell_type": "code",
   "execution_count": 4,
   "metadata": {},
   "outputs": [],
   "source": [
    "df = pd.read_csv(\"../../datasets/medal/full_data.csv\", nrows=100)"
   ]
  },
  {
   "cell_type": "code",
   "execution_count": 61,
   "metadata": {},
   "outputs": [
    {
     "output_type": "execute_result",
     "data": {
      "text/plain": [
       "                                                 TEXT  \\\n",
       "0   alphabisabolol has a primary antipeptic action...   \n",
       "1   a report is given on the recent discovery of o...   \n",
       "2   the virostatic compound nndiethyloxotetradecyl...   \n",
       "3   rmi rmi and rmi are newly synthetized nrdibenz...   \n",
       "4   a doubleblind study with intraindividual compa...   \n",
       "..                                                ...   \n",
       "95  the apparent isoelectric points pi in isoelect...   \n",
       "96  the feasibility of using isoelectric focusing ...   \n",
       "97  certain climatic and edaphic conformations in ...   \n",
       "98  both udpglucuronyltransferase gt and betaglucu...   \n",
       "99  SS CL and renal gammaglutamyl transpeptidase g...   \n",
       "\n",
       "                      LOCATION  \\\n",
       "0                           56   \n",
       "1         24|49|68|113|137|172   \n",
       "2                           55   \n",
       "3            25|82|127|182|222   \n",
       "4   22|26|28|77|90|144|158|203   \n",
       "..                         ...   \n",
       "95                26|66|74|119   \n",
       "96                     135|211   \n",
       "97                          95   \n",
       "98        19|37|59|101|130|184   \n",
       "99                  0|1|35|131   \n",
       "\n",
       "                                                LABEL  \n",
       "0                                           substrate  \n",
       "1   carcinosarcoma|recovery|reference|recovery|aft...  \n",
       "2                                           substrate  \n",
       "3   compounds|compounds|inhibitory|lethal doses|ca...  \n",
       "4   oxazepam|placebo|oral administration|pentagast...  \n",
       "..                                                ...  \n",
       "95                        pituitary|after|major|major  \n",
       "96                             pituitary|preparations  \n",
       "97                                            feeding  \n",
       "98  liver|activities|substrate|identical|functiona...  \n",
       "99                            serum|liver|serum|serum  \n",
       "\n",
       "[100 rows x 3 columns]"
      ],
      "text/html": "<div>\n<style scoped>\n    .dataframe tbody tr th:only-of-type {\n        vertical-align: middle;\n    }\n\n    .dataframe tbody tr th {\n        vertical-align: top;\n    }\n\n    .dataframe thead th {\n        text-align: right;\n    }\n</style>\n<table border=\"1\" class=\"dataframe\">\n  <thead>\n    <tr style=\"text-align: right;\">\n      <th></th>\n      <th>TEXT</th>\n      <th>LOCATION</th>\n      <th>LABEL</th>\n    </tr>\n  </thead>\n  <tbody>\n    <tr>\n      <th>0</th>\n      <td>alphabisabolol has a primary antipeptic action...</td>\n      <td>56</td>\n      <td>substrate</td>\n    </tr>\n    <tr>\n      <th>1</th>\n      <td>a report is given on the recent discovery of o...</td>\n      <td>24|49|68|113|137|172</td>\n      <td>carcinosarcoma|recovery|reference|recovery|aft...</td>\n    </tr>\n    <tr>\n      <th>2</th>\n      <td>the virostatic compound nndiethyloxotetradecyl...</td>\n      <td>55</td>\n      <td>substrate</td>\n    </tr>\n    <tr>\n      <th>3</th>\n      <td>rmi rmi and rmi are newly synthetized nrdibenz...</td>\n      <td>25|82|127|182|222</td>\n      <td>compounds|compounds|inhibitory|lethal doses|ca...</td>\n    </tr>\n    <tr>\n      <th>4</th>\n      <td>a doubleblind study with intraindividual compa...</td>\n      <td>22|26|28|77|90|144|158|203</td>\n      <td>oxazepam|placebo|oral administration|pentagast...</td>\n    </tr>\n    <tr>\n      <th>...</th>\n      <td>...</td>\n      <td>...</td>\n      <td>...</td>\n    </tr>\n    <tr>\n      <th>95</th>\n      <td>the apparent isoelectric points pi in isoelect...</td>\n      <td>26|66|74|119</td>\n      <td>pituitary|after|major|major</td>\n    </tr>\n    <tr>\n      <th>96</th>\n      <td>the feasibility of using isoelectric focusing ...</td>\n      <td>135|211</td>\n      <td>pituitary|preparations</td>\n    </tr>\n    <tr>\n      <th>97</th>\n      <td>certain climatic and edaphic conformations in ...</td>\n      <td>95</td>\n      <td>feeding</td>\n    </tr>\n    <tr>\n      <th>98</th>\n      <td>both udpglucuronyltransferase gt and betaglucu...</td>\n      <td>19|37|59|101|130|184</td>\n      <td>liver|activities|substrate|identical|functiona...</td>\n    </tr>\n    <tr>\n      <th>99</th>\n      <td>SS CL and renal gammaglutamyl transpeptidase g...</td>\n      <td>0|1|35|131</td>\n      <td>serum|liver|serum|serum</td>\n    </tr>\n  </tbody>\n</table>\n<p>100 rows × 3 columns</p>\n</div>"
     },
     "metadata": {},
     "execution_count": 61
    }
   ],
   "source": [
    "df"
   ]
  },
  {
   "cell_type": "code",
   "execution_count": 6,
   "metadata": {},
   "outputs": [
    {
     "output_type": "execute_result",
     "data": {
      "text/plain": [
       "'alphabisabolol has a primary antipeptic action depending on dosage which is not caused by an alteration of the phvalue the proteolytic activity of pepsin is reduced by percent through addition of bisabolol in the ratio of the antipeptic action of bisabolol only occurs in case of direct contact in case of a previous contact with the ATP the inhibiting effect is lost'"
      ]
     },
     "metadata": {},
     "execution_count": 6
    }
   ],
   "source": [
    "x-special/nautilus-clipboard\n",
    "copy\n",
    "file:///home/frankhidalgo/Erdos/erdos2021-project/datasets/pubmed/ftp.ncbi.nlm.nih.gov/pubmed/updatefiles/pubmed21n1063.xml.gz\n"
   ]
  },
  {
   "cell_type": "code",
   "execution_count": 11,
   "metadata": {},
   "outputs": [
    {
     "output_type": "execute_result",
     "data": {
      "text/plain": [
       "'if __name__ == \\'__main__\\':\\n    args = parse_args()\\n\\n    # get filenames\\n    all_filenames = os.listdir(args.input_directory)\\n    filenames = []\\n    for filename in all_filenames:\\n        if os.path.splitext(os.path.splitext(filename)[0])[1] == \\'.xml\\' and os.path.splitext(filename)[1] == \\'.gz\\':\\n            filenames.append(filename)\\n    print(\\'[\\' + time.ctime() + \\']\\', len(all_filenames), \"files found in\", args.input_directory)\\n    print(\\'[\\' + time.ctime() + \\']\\', len(filenames), \"are xml.gz files\")\\n\\n    # parse and save\\n    with Pool(processes=args.max_cores) as pool:\\n        pool.map(extract_abstract, zip(repeat(args.input_directory), repeat(args.output_directory), filenames))\\n    print(\\'[\\' + time.ctime() + \\']\\', \"abstracts parsed and saved\")'"
      ]
     },
     "metadata": {},
     "execution_count": 11
    }
   ],
   "source": [
    "from lxml import etree\n",
    "import argparse\n",
    "import os\n",
    "import time\n",
    "from multiprocessing import Pool\n",
    "import tqdm\n",
    "from itertools import repeat\n",
    "\n",
    "'''def parse_args():\n",
    "    parser = argparse.ArgumentParser(description='Parse xml.gz files and extract abstracts')\n",
    "    parser.add_argument('input_directory', help='directory containing xml.gz files')\n",
    "    parser.add_argument('output_directory', help='output directory')\n",
    "    parser.add_argument('--max_cores', default=4, type=int, help='max number of cpu cores')\n",
    "    return parser.parse_args()'''\n",
    "\n",
    "def extract_abstract(input_tuple):\n",
    "    input_directory, output_directory, filename = input_tuple\n",
    "    tree = etree.parse(os.path.join(input_directory, filename))\n",
    "    root = tree.getroot()\n",
    "    abstracts = {}\n",
    "    for idx, child in enumerate(root):\n",
    "        text = None\n",
    "        for value in child[0][3]:\n",
    "            if value.tag == 'Abstract':\n",
    "                text = value[0].text\n",
    "                break\n",
    "        if not text:\n",
    "            continue\n",
    "        text = \" \".join(text.split())\n",
    "        if text != \"\\n\" and text:\n",
    "            abstracts[str(idx)] = text\n",
    "    output_abstracts = [':'.join([key, value]) for key, value in abstracts.items()]\n",
    "\n",
    "    with open(os.path.join(output_directory, os.path.splitext(os.path.splitext(filename)[0])[0] + '.txt'), 'w') as file:\n",
    "        file.writelines('\\n'.join(output_abstracts) + '\\n')\n",
    "\n",
    "'''if __name__ == '__main__':\n",
    "    args = parse_args()\n",
    "\n",
    "    # get filenames\n",
    "    all_filenames = os.listdir(args.input_directory)\n",
    "    filenames = []\n",
    "    for filename in all_filenames:\n",
    "        if os.path.splitext(os.path.splitext(filename)[0])[1] == '.xml' and os.path.splitext(filename)[1] == '.gz':\n",
    "            filenames.append(filename)\n",
    "    print('[' + time.ctime() + ']', len(all_filenames), \"files found in\", args.input_directory)\n",
    "    print('[' + time.ctime() + ']', len(filenames), \"are xml.gz files\")\n",
    "\n",
    "    # parse and save\n",
    "    with Pool(processes=args.max_cores) as pool:\n",
    "        pool.map(extract_abstract, zip(repeat(args.input_directory), repeat(args.output_directory), filenames))\n",
    "    print('[' + time.ctime() + ']', \"abstracts parsed and saved\")'''"
   ]
  },
  {
   "cell_type": "code",
   "execution_count": 12,
   "metadata": {},
   "outputs": [],
   "source": [
    "from lxml import etree\n",
    "import argparse\n",
    "import os\n",
    "import time\n",
    "from multiprocessing import Pool\n",
    "import tqdm\n",
    "from itertools import repeat"
   ]
  },
  {
   "cell_type": "code",
   "execution_count": 22,
   "metadata": {},
   "outputs": [],
   "source": [
    "import xml.etree.ElementTree as ET\n",
    "input_directory = ''\n",
    "filename = \"pubmed21n1063.xml\"\n",
    "tree = ET.parse(os.path.join(input_directory, filename))\n",
    "root = tree.getroot()"
   ]
  },
  {
   "cell_type": "code",
   "execution_count": 86,
   "metadata": {},
   "outputs": [],
   "source": [
    "import time\n"
   ]
  },
  {
   "cell_type": "code",
   "execution_count": 87,
   "metadata": {},
   "outputs": [
    {
     "output_type": "stream",
     "name": "stdout",
     "text": [
      "--- 1.2205195426940918 seconds ---\n"
     ]
    }
   ],
   "source": [
    "start_time = time.time()\n",
    "abstracts: list = []\n",
    "for child in root.iter():\n",
    "    if child.tag == 'Abstract':\n",
    "        if child[0].text and child[0].text != \"\\n\":\n",
    "            abstracts.append(\" \".join(child[0].text.split()))\n",
    "\n",
    "with open('demo3.txt', 'w') as filehandle:\n",
    "    filehandle.writelines(\"%s\\n\" % abstract for abstract in abstracts)\n",
    "print(\"--- %s seconds ---\" % (time.time() - start_time))\n"
   ]
  },
  {
   "cell_type": "code",
   "execution_count": 88,
   "metadata": {},
   "outputs": [
    {
     "output_type": "stream",
     "name": "stdout",
     "text": [
      "--- 2.679959297180176 seconds ---\n"
     ]
    }
   ],
   "source": [
    "start_time = time.time()\n",
    "\n",
    "with open('demo4.txt', 'w') as filehandle:\n",
    "    for child in root.iter():\n",
    "        if child.tag == 'Abstract':\n",
    "            if child[0].text and child[0].text != \"\\n\":\n",
    "                abstract: str = \" \".join(child[0].text.split())\n",
    "                filehandle.writelines(\"%s\\n\" % abstract)\n",
    "print(\"--- %s seconds ---\" % (time.time() - start_time))\n"
   ]
  },
  {
   "cell_type": "code",
   "execution_count": 76,
   "metadata": {},
   "outputs": [],
   "source": [
    "with open('demo.txt', 'w') as filehandle:\n",
    "    filehandle.writelines(\"%s\\n\" % abstract for abstract in abstracts)"
   ]
  },
  {
   "cell_type": "code",
   "execution_count": 82,
   "metadata": {},
   "outputs": [],
   "source": [
    "with open('demo.txt', 'r') as filehandle:\n",
    "    file_abs = [abstract.rstrip() for abstract in filehandle.readlines()]\n"
   ]
  },
  {
   "cell_type": "code",
   "execution_count": 110,
   "metadata": {},
   "outputs": [
    {
     "output_type": "execute_result",
     "data": {
      "text/plain": [
       "float"
      ]
     },
     "metadata": {},
     "execution_count": 110
    }
   ],
   "source": [
    "os.listdir(self.input_path)"
   ]
  },
  {
   "cell_type": "code",
   "execution_count": 84,
   "metadata": {},
   "outputs": [
    {
     "output_type": "execute_result",
     "data": {
      "text/plain": [
       "'Of a series of 58 aliphatic nucleoside analogues, (S)-9-(2,3-dihydroxypropyl)adenine [(S)-DHPA] proved to be the most active congener, when assayed for antiviral activity in primary rabbit kidney cell cultures challenged with either vaccinia or vesicular stomatitis virus. Whereas most analogues derived from substituted purine and pyrimidine bases and bearing various hydroxy- or amino-substituted alkyl chains did not show evidence of antiviral activity at a concentration of 2 mM, (S)-DHPA inhibited both vaccinia and vesicular stomatitis virus replication at 0.05-0.1 mM. For 9-[(RS)-2,3-diazidopropyl]adenine and some di- and trihydroxybutyl analogues of DHPA, viz., 9-[(2RS,3SR)-2,3-dihydroxybutylladenine, 9-[(RS)- or 9-[(S)-3,4-dihydroxybutyl]adenine, 9-[(2S,3R)-2,3,4-trihydroxybutyl]adenine, and 3-(adenin-9-yl)-(RS)-alanine, an antiviral effect was noted at a concentration of 0.5-1 mM.'"
      ]
     },
     "metadata": {},
     "execution_count": 84
    }
   ],
   "source": [
    "file_abs[0]"
   ]
  },
  {
   "cell_type": "code",
   "execution_count": 70,
   "metadata": {},
   "outputs": [],
   "source": [
    "temp=# get filenames\n",
    "    all_filenames = os.listdir(args.input_directory)\n"
   ]
  },
  {
   "cell_type": "code",
   "execution_count": 71,
   "metadata": {
    "tags": []
   },
   "outputs": [],
   "source": [
    "lower = temp.lower()\n",
    "no_punc = lower.translate(str.maketrans(\"\", \"\", string.punctuation))\n",
    "no_white = \" \".join(no_punc.split())\n",
    "no_num = no_white.translate(str.maketrans(\"\", \"\", string.digits))"
   ]
  },
  {
   "cell_type": "code",
   "execution_count": 112,
   "metadata": {},
   "outputs": [
    {
     "output_type": "execute_result",
     "data": {
      "text/plain": [
       "'of a series of  aliphatic nucleoside analogues sdihydroxypropyladenine sdhpa proved to be the most active congener when assayed for antiviral activity in primary rabbit kidney cell cultures challenged with either vaccinia or vesicular stomatitis virus whereas most analogues derived from substituted purine and pyrimidine bases and bearing various hydroxy or aminosubstituted alkyl chains did not show evidence of antiviral activity at a concentration of  mm sdhpa inhibited both vaccinia and vesicular stomatitis virus replication at  mm for rsdiazidopropyladenine and some di and trihydroxybutyl analogues of dhpa viz rssrdihydroxybutylladenine rs or sdihydroxybutyladenine srtrihydroxybutyladenine and adeninylrsalanine an antiviral effect was noted at a concentration of  mm'"
      ]
     },
     "metadata": {},
     "execution_count": 112
    }
   ],
   "source": [
    "no_num"
   ]
  },
  {
   "cell_type": "code",
   "execution_count": 113,
   "metadata": {},
   "outputs": [],
   "source": [
    "lower = \"Hello my name 56. Tengo 26!\".lower()\n",
    "no_punc = lower.translate(str.maketrans(\"\", \"\", string.punctuation))\n",
    "no_white = \" \".join(no_punc.split())\n",
    "no_num = no_white.translate(str.maketrans(\"\", \"\", string.digits))"
   ]
  },
  {
   "cell_type": "code",
   "execution_count": 117,
   "metadata": {},
   "outputs": [
    {
     "output_type": "execute_result",
     "data": {
      "text/plain": [
       "'Hello my name . Tengo !'"
      ]
     },
     "metadata": {},
     "execution_count": 117
    }
   ],
   "source": [
    "\"Hello my name 56. Tengo 26!\".translate(str.maketrans(\"\", \"\", string.digits))"
   ]
  },
  {
   "cell_type": "code",
   "execution_count": 139,
   "metadata": {},
   "outputs": [],
   "source": [
    "import re\n",
    "from typing import Iterable, List\n",
    "from wordfreq import top_n_list, tokenize\n",
    "\n",
    "TOKENS_REG = re.compile(r\"(?u)\\b\\w+\\b\\D\")\n",
    "b = re.compile(r\"\\d+\")\n"
   ]
  },
  {
   "cell_type": "code",
   "execution_count": 145,
   "metadata": {},
   "outputs": [
    {
     "output_type": "execute_result",
     "data": {
      "text/plain": [
       "'Hello my name . Tengo !'"
      ]
     },
     "metadata": {},
     "execution_count": 145
    }
   ],
   "source": [
    "no_num = text.translate(str.maketrans(\"\", \"\", string.digits))\n",
    "no_num"
   ]
  },
  {
   "cell_type": "code",
   "execution_count": 143,
   "metadata": {},
   "outputs": [
    {
     "output_type": "execute_result",
     "data": {
      "text/plain": [
       "['56', '26']"
      ]
     },
     "metadata": {},
     "execution_count": 143
    }
   ],
   "source": [
    "text = \"Hello my name 56. Tengo 26!\"\n",
    "s = re.compile(r\"\\b\\d+\\b\")\n",
    "s.findall(text.lower())"
   ]
  },
  {
   "cell_type": "code",
   "execution_count": 151,
   "metadata": {},
   "outputs": [
    {
     "output_type": "execute_result",
     "data": {
      "text/plain": [
       "True"
      ]
     },
     "metadata": {},
     "execution_count": 151
    }
   ],
   "source": [
    "l = '56'\n",
    "l.isdigit()"
   ]
  },
  {
   "cell_type": "code",
   "execution_count": 68,
   "metadata": {},
   "outputs": [
    {
     "output_type": "execute_result",
     "data": {
      "text/plain": [
       "'Of a series of 58 aliphatic nucleoside analogues, (S)-9-(2,3-dihydroxypropyl)adenine [(S)-DHPA] proved to be the most active congener, when assayed for antiviral activity in primary rabbit kidney cell cultures challenged with either vaccinia or vesicular stomatitis virus. Whereas most analogues derived from substituted purine and pyrimidine bases and bearing various hydroxy- or amino-substituted alkyl chains did not show evidence of antiviral activity at a concentration of 2 mM, (S)-DHPA inhibited both vaccinia and vesicular stomatitis virus replication at 0.05-0.1 mM. For 9-[(RS)-2,3-diazidopropyl]adenine and some di- and trihydroxybutyl analogues of DHPA, viz., 9-[(2RS,3SR)-2,3-dihydroxybutylladenine, 9-[(RS)- or 9-[(S)-3,4-dihydroxybutyl]adenine, 9-[(2S,3R)-2,3,4-trihydroxybutyl]adenine, and 3-(adenin-9-yl)-(RS)-alanine, an antiviral effect was noted at a concentration of 0.5-1 mM.'"
      ]
     },
     "metadata": {},
     "execution_count": 68
    }
   ],
   "source": [
    "abstracts[0]"
   ]
  },
  {
   "cell_type": "code",
   "execution_count": null,
   "metadata": {},
   "outputs": [],
   "source": []
  },
  {
   "cell_type": "code",
   "execution_count": 52,
   "metadata": {
    "tags": []
   },
   "outputs": [
    {
     "output_type": "stream",
     "name": "stdout",
     "text": [
      "136\nOf a series of 58 aliphatic nucleoside analogues, (S)-9-(2,3-dihydroxypropyl)adenine [(S)-DHPA] proved to be the most active congener, when assayed for antiviral activity in primary rabbit kidney cell cultures challenged with either vaccinia or vesicular stomatitis virus. Whereas most analogues derived from substituted purine and pyrimidine bases and bearing various hydroxy- or amino-substituted alkyl chains did not show evidence of antiviral activity at a concentration of 2 mM, (S)-DHPA inhibited both vaccinia and vesicular stomatitis virus replication at 0.05-0.1 mM. For 9-[(RS)-2,3-diazidopropyl]adenine and some di- and trihydroxybutyl analogues of DHPA, viz., 9-[(2RS,3SR)-2,3-dihydroxybutylladenine, 9-[(RS)- or 9-[(S)-3,4-dihydroxybutyl]adenine, 9-[(2S,3R)-2,3,4-trihydroxybutyl]adenine, and 3-(adenin-9-yl)-(RS)-alanine, an antiviral effect was noted at a concentration of 0.5-1 mM.\n247\nRecent studies have shown that Ro/SSA autoantigen is heterogeneous and the autoanti-Ro/SSA response is correspondingly heterogeneous. There are two isoform families; the 60 kD forms and the 52 kD forms. We studied the antigenic difference between the native and denatured Ro/SSA isoforms and found that the autoanti-Ro/SSA response to the native 60 kD antigen is quite homogeneous. All anti-Ro/SSA sera recognize the native kD antigen regardless of the reactivities to the 60 kD band on the Western blot. Surprisingly, no anti-Ro/SSA sera without anti-La/SSB reacts with the native 52 kD Ro/SSA, although sera with both precipitating anti-Ro/SSA and anti-La/SSB can immunoprecipitate the native 52 kD antigen. Anti-Ro/SSA sera exist which react exclusively with the native 60 kD Ro/SSA protein (10/43, 23%) while no anti-Ro/SSA sera have been found which react exclusively with the denatured 52 kD Ro/SSA antigen. In sera with anti-Ro/SSA precipitins alone, only antibody to the denatured 52 kD Ro/SSA molecule is found! In sera with anti-Ro/SSA and anti-U1 RNP precipitins, no antibody to either native or denatured 52 kD Ro/SSA is found, while in sera with both anti-Ro/SSA and anti-La/SSB precipitins, antibodies to both the native and denatured forms of 52 kD Ro/SSA are present. These data suggest that the anti-Ro/SSA response to the 60 kD molecule is driven by the native 60 kD Ro/SSA molecule while the molecular identification of the antigen drive in the anti-52 kD Ro/SSA response is unknown.\n397\nForty Japanese anti-SSA(Ro) positive patients with Sjögren's syndrome were typed for HLA-A, B, C, DR and DQ antigens. No patient had either HLA-B8 or HLA-DR3 which has been reportedly associated with the immune response to SSA(Ro) antigens in white and black patients. Our patients had higher frequencies of HLA-DRw8 and HLA-DRw52 than the control population.\n530\nAntibodies against recombinant 52 kD-Ro, recombinant 60 kD-Ro and recombinant La protein were determined by ELISA in over 300 central European patients with systemic lupus erythematosus (SLE). A strong association with HLA-DR3 was found for antibodies against 52 kD-Ro and La, but not for recombinant 60 kD-Ro antibodies in the absence of antibodies against 52 kD-Ro or La. Ro/La negative SLE patients still showed an increased frequency of HLA-DR3 as compared to healthy controls. These results indicated that the preferential formation of Ro and La antibodies was not due to an unspecific stimulatory effect of HLA-DR3 but that the antibody response to certain defined proteins (52 kD-Ro and La) was influenced by MHC genes in SLE. Furthermore, the association of SLE with HLA-DR3 was independent of the effects of DR3 on the formation of 52 kD-Ro and La antibodies.\n843\nThe immune response to the Ro/SSA particles is conformation dependent. In sera with only anti-Ro/SSA precipitins, the autoantibodies to the 60 kD Ro/SSA are largely to the native 60 kD Ro/SSA while autoantibodies to the 52 kD Ro/SSA particle when present are exclusively to the denatured 52 kD Ro/SSA particle. Antibodies eluted from a recombinant 52 kD Ro/SSA fusion protein reacted in a sandwich ELISA which only measures antibody to native 60 kD Ro/SSA antigens and this reaction is largely inhibited by native homogeneous 60 kD Ro/SSA. In addition, antibody binding to the 52 kD Ro/SSA antigen in Western blot is also strongly inhibited by native 60 kD Ro/SSA. These experiment strongly suggest that reactivity of denatured 52 kD Ro/SSA antigen represents a cross reaction with autoantibodies directed to the native 60 kD Ro/SSA antigen. As a corollary of these experiments, data are presented that suggest the hY-RNAs are not associated with the 52 kD Ro/SSA protein but only with the 60 kD Ro/SSA protein. These data are consistent with the hypothesis that the autoanti-Ro/SSA response is driven by native 60 kD Ro/SSA and the immune response to denatured 52 kD Ro/SSA is largely a cross-reactive subset of the immune response to native 60 kD Ro/SSA.\n985\nUltraviolet B light (UVB) has previously been shown to induce the expression of the extractable nuclear antigens (e.g. Ro/SSA) on the surfaces of human keratinocytes in vitro. This study assessed whether injurious, metabolic, inflammatory, immunological or hormonal stimuli would also induce this expression or modulate that produced by UVB. No stimulus initiated expression alone, but 17-beta oestradiol doubled that found in response to UVB. These findings confirm the potential role of UVB in the initiation and potentiation of cutaneous lupus lesions and may help to explain the female preponderance of the disease.\n1136\nAlthough systemic lupus erythematosus (SLE) and Sjögren's syndrome (SS) are distinct collagen vascular illnesses, they share certain features. Both have clinical manifestations involving skin and mucous membranes and characteristically have high titers of circulating autoantibodies to the cellular components Ro/SS-A, calreticulin/Ro, 52 kDa Ro and La/SS-B. Viruses have been postulated to be involved in the pathogenesis of both diseases. Sensitivity to sun is a cardinal feature of SLE, and UV light may be involved in its pathogenesis. Using human B-lymphoblastoid cell lines, the effect of the resident Epstein-Barr virus on the expression of the above cellular components was investigated by flow cytometry. Sublethal irradiation with ultraviolet B light appeared to diminish EBV antigen expression (gp350/220) during the first 48 to 72 hours in culture, whereas there was no change in the expression of MHC class I or immunoglobulin host cell proteins, and an apparent increase in the expression of host cell autoantigens. The virus appeared to be more sensitive to UVB-induced damage yet did appear to be able to undergo repair. No direct correlation could be made between the presence of the virus and the increase in autoantigen expression. La/SS-B and/or 52 kDa Ro antigen(s) were found to be present in the cytoplasm of the B lymphoblastoid cells at a higher base level in EBV-infected cell lines than in the EBV-negative cell lines.\n1290\nFive synthetic peptides corresponding to the N-, the C- and a central domain in 60-kD SSA/Ro protein were prepared and tested with sera from 112 patients with systemic lupus erythematosus (SLE), 55 with primary Sjögren's syndrome (pSS) and 29 with rheumatoid arthritis. Among these five fragments, one representing residues 21-41, was recognized by antibodies in 57% of pSS patients. Interestingly, this peptide was recognized by only a few (less than or equal to 7%) of SLE sera, while 63% of pSS sera and 46% of SLE sera tested in parallel possessed antibodies reacting in ELISA with purified 60-kD SSA protein. The ELISA results were compared with the pattern of reactivity obtained in immunodiffusion and immunoblotting. The results indicate that the sensitivity of ELISA using peptide 21-41 and pSS sera was in the same range as immunoblotting and higher than immunodiffusion. Thus the peptide 21-41 proved useful for the detection of anti-SSA antibodies in the sera of patients with pSS. Furthermore, a positive ELISA using peptide 21-41 could be of potential use to discriminate pSS with systemic features from SLE. The fact that peptide 21-41 is recognized by antibodies in pSS but only by very few SLE sera implies that different mechanisms are involved in the anti-SSA immune response in these two autoimmune diseases.\n1630\nAutoantibodies reacting with the human Ro 60 kDa protein are present in anti-Ro/SS-A positive sera from patients with several different connective tissue diseases including Sjögren's syndrome and systemic lupus erythematosus. To investigate the humoral immune response to this protein, the pattern of antibody recognition of recombinant Ro 60 kDa proteins encoded by both full-length and deletion clones was analysed by immunoblotting. An antigenic region recognized by nearly all anti-Ro 60 kDa positive sera was found to reside in the middle part of the protein. In addition, some sera reacted with two other antigenic regions located in the amino-terminal and carboxyl-terminal part of the protein. For further mapping, overlapping peptides covering the most frequently recognized region of the protein were synthesized by solid-phase methods and used as antigens in ELISA. Three major patterns of reactivity to Ro 60 kDa peptides were found. These results not only indicate the presence of an immunodominant region but also heterogeneity in the autoimmune human response to the Ro 60 kDa antigen.\n2224\nThe human Y RNAs, small RNAs with an unknown function, are complexed with at least three proteins: the 60,000 M(r) Ro protein (Ro60), the 52,000 M(r) Ro protein (Ro52) and the La protein (La). In this study we examined the intermolecular interactions between the components of these so-called Ro ribonucleoprotein (Ro RNP) complexes. Incubation of 32P-labelled hY1 RNA in HeLa S100 extract allows the reconstitution of Ro RNP complexes, which were analysed by immunoprecipitation with monospecific antisera. By immunodepletion of HeLa S100 extracts for either Ro60, Ro52 or La, followed by supplementation with recombinant Ro60 or La, it was demonstrated that both Ro60 and La bind to hY1 RNA directly without being influenced by one of the other proteins. However, binding of Ro52 to hY1 RNA required the presence of Ro60, which strongly suggests that the association of Ro52 with Ro RNPs is mediated by protein-protein interactions between Ro60 and Ro52.\n2368\nThe SSA/Ro and SSB/La antigens are polypeptides which serve as autoantigens in systemic lupus erythematosus and Sjogren's syndrome. The SSA/Ro contains two major isoforms of 60 kD and 52 kD. The former is the main native antigen while the latter is a major autoantigen in its denatured form. The SSB/La is a single phosphorylated protein of 48 kD. Recently a new protein of 46 kD, termed calregulin, was suggested as an additional component of the SSA/Ro antigens. However, extensive investigations failed to confirm its relation to the SSA/Ro system. Based on molecular techniques and cDNA cloning of these antigens, it was demonstrated that the 60 kD protein is capable of binding RNA and DNA molecules, suggesting a regulatory role in transcription for this antigen. The 52 kD polypeptide contains multiple zinc finger motifs and its sequence is homologous to the mouse rptl protein, which is a T-cell regulating peptide. The SSB/La is associated with precursors of 5S RNA and tRNA, implying that it has a role in the synthesis and maturation of RNA polymerase III transcripts. The 60 kD and 52 kD SSA/Ro components may be associated within the cell. The SSA/Ro and SSB/La may also be in complex in some points of the cell cycle.\n2509\nIn this work we compared in rats the influence of heptapeptide 1-7-angiotensin II, hexapeptide 2-7-angiotensin II, pentapeptide 3-7-angiotensin II and angiotensin II on motility, stereotypy, learning of conditioned avoidance responses and recall of passive avoidance behaviour allowing to avoid aversive stimulation. The 4 peptides administered 15 min before the experiment, tended to increase the number of crossings, rearings and bar approaches in open field, significantly accelerated acquisition of conditioned avoidance responses and improved recall of the passive avoidance. All the peptides applied immediately before the experiment intensified stereotypy evoked by apomorphine in the dose 1 mg/kg and amphetamine in the dose 6.5 mg/kg given intraperitoneally. These results show full psychotropic activity of the examined fragments of angiotensin II, comparable with the activity of the parent octapeptide. Our previous hypothesis that the Val-Tyr-Ile-His-Pro fragment of angiotensin II is responsible for the psychotropic activity evoked by angiotensins in rats is thus confirmed.\n"
     ]
    }
   ],
   "source": [
    "i = 0\n",
    "for j, child in enumerate(root.iter()):\n",
    "    if child.tag == 'Abstract':\n",
    "        print(j)\n",
    "        print (child[0].text)\n",
    "        i = i +1\n",
    "    if i > 11:\n",
    "        break"
   ]
  },
  {
   "cell_type": "code",
   "execution_count": 13,
   "metadata": {},
   "outputs": [
    {
     "output_type": "error",
     "ename": "IndexError",
     "evalue": "list index out of range",
     "traceback": [
      "\u001b[0;31m---------------------------------------------------------------------------\u001b[0m",
      "\u001b[0;31mIndexError\u001b[0m                                Traceback (most recent call last)",
      "\u001b[0;32m<ipython-input-13-bacbba53a088>\u001b[0m in \u001b[0;36m<module>\u001b[0;34m\u001b[0m\n\u001b[1;32m      6\u001b[0m \u001b[0;32mfor\u001b[0m \u001b[0midx\u001b[0m\u001b[0;34m,\u001b[0m \u001b[0mchild\u001b[0m \u001b[0;32min\u001b[0m \u001b[0menumerate\u001b[0m\u001b[0;34m(\u001b[0m\u001b[0mroot\u001b[0m\u001b[0;34m)\u001b[0m\u001b[0;34m:\u001b[0m\u001b[0;34m\u001b[0m\u001b[0;34m\u001b[0m\u001b[0m\n\u001b[1;32m      7\u001b[0m     \u001b[0mtext\u001b[0m \u001b[0;34m=\u001b[0m \u001b[0;32mNone\u001b[0m\u001b[0;34m\u001b[0m\u001b[0;34m\u001b[0m\u001b[0m\n\u001b[0;32m----> 8\u001b[0;31m     \u001b[0;32mfor\u001b[0m \u001b[0mvalue\u001b[0m \u001b[0;32min\u001b[0m \u001b[0mchild\u001b[0m\u001b[0;34m[\u001b[0m\u001b[0;36m0\u001b[0m\u001b[0;34m]\u001b[0m\u001b[0;34m[\u001b[0m\u001b[0;36m3\u001b[0m\u001b[0;34m]\u001b[0m\u001b[0;34m:\u001b[0m\u001b[0;34m\u001b[0m\u001b[0;34m\u001b[0m\u001b[0m\n\u001b[0m\u001b[1;32m      9\u001b[0m         \u001b[0;32mif\u001b[0m \u001b[0mvalue\u001b[0m\u001b[0;34m.\u001b[0m\u001b[0mtag\u001b[0m \u001b[0;34m==\u001b[0m \u001b[0;34m'Abstract'\u001b[0m\u001b[0;34m:\u001b[0m\u001b[0;34m\u001b[0m\u001b[0;34m\u001b[0m\u001b[0m\n\u001b[1;32m     10\u001b[0m             \u001b[0mtext\u001b[0m \u001b[0;34m=\u001b[0m \u001b[0mvalue\u001b[0m\u001b[0;34m[\u001b[0m\u001b[0;36m0\u001b[0m\u001b[0;34m]\u001b[0m\u001b[0;34m.\u001b[0m\u001b[0mtext\u001b[0m\u001b[0;34m\u001b[0m\u001b[0;34m\u001b[0m\u001b[0m\n",
      "\u001b[0;32msrc/lxml/etree.pyx\u001b[0m in \u001b[0;36mlxml.etree._Element.__getitem__\u001b[0;34m()\u001b[0m\n",
      "\u001b[0;31mIndexError\u001b[0m: list index out of range"
     ]
    }
   ],
   "source": [
    "input_directory = ''\n",
    "filename = \"pubmed21n1063.xml\"\n",
    "tree = etree.parse(os.path.join(input_directory, filename))\n",
    "root = tree.getroot()\n",
    "abstracts = {}\n",
    "for idx, child in enumerate(root):\n",
    "    text = None\n",
    "    for value in child[0][3]:\n",
    "        if value.tag == 'Abstract':\n",
    "            text = value[0].text\n",
    "            break\n",
    "    if not text:\n",
    "        continue\n",
    "    text = \" \".join(text.split())\n",
    "    if text != \"\\n\" and text:\n",
    "        abstracts[str(idx)] = text\n",
    "output_abstracts = [':'.join([key, value]) for key, value in abstracts.items()]\n"
   ]
  },
  {
   "cell_type": "code",
   "execution_count": 15,
   "metadata": {},
   "outputs": [
    {
     "output_type": "execute_result",
     "data": {
      "text/plain": [
       "<Element PubmedArticleSet at 0x7f5c1ebf4840>"
      ]
     },
     "metadata": {},
     "execution_count": 15
    }
   ],
   "source": [
    "root"
   ]
  },
  {
   "cell_type": "code",
   "execution_count": 21,
   "metadata": {},
   "outputs": [],
   "source": [
    "for value in child[0]:\n",
    "    print(value)"
   ]
  },
  {
   "cell_type": "code",
   "execution_count": null,
   "metadata": {},
   "outputs": [],
   "source": []
  }
 ]
}