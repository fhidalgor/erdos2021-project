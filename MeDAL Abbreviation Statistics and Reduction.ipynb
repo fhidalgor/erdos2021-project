{
 "cells": [
  {
   "cell_type": "markdown",
   "id": "2f67b8ac",
   "metadata": {},
   "source": [
    "# Visualizing MeDAL Dataset\n",
    "\n",
    "Here we look at the just a subset of the entire MeDAL dataset found in \"train.csv\". We examine the \n",
    "\n",
    "1. Distribution of length of text entries later sent to the neural network models\n",
    "2. Distribution of number of abbreviations (ABBVs) used in each unique text entry\n",
    "3. Distribution of how often each ABBV occurs in the dataset"
   ]
  },
  {
   "cell_type": "code",
   "execution_count": 13,
   "id": "92720d86",
   "metadata": {},
   "outputs": [],
   "source": [
    "import os, pickle\n",
    "import numpy as np\n",
    "import pandas as pd\n",
    "from collections import Counter\n",
    "import matplotlib.pyplot as plt\n",
    "\n",
    "PATH = 'data/metal-emnlp/pretrain_subset/'"
   ]
  },
  {
   "cell_type": "code",
   "execution_count": 2,
   "id": "fa0789e2",
   "metadata": {},
   "outputs": [],
   "source": [
    "train = pd.read_csv(PATH + \"train.csv\")"
   ]
  },
  {
   "cell_type": "code",
   "execution_count": 5,
   "id": "ea244593",
   "metadata": {},
   "outputs": [
    {
     "data": {
      "text/html": [
       "<div>\n",
       "<style scoped>\n",
       "    .dataframe tbody tr th:only-of-type {\n",
       "        vertical-align: middle;\n",
       "    }\n",
       "\n",
       "    .dataframe tbody tr th {\n",
       "        vertical-align: top;\n",
       "    }\n",
       "\n",
       "    .dataframe thead th {\n",
       "        text-align: right;\n",
       "    }\n",
       "</style>\n",
       "<table border=\"1\" class=\"dataframe\">\n",
       "  <thead>\n",
       "    <tr style=\"text-align: right;\">\n",
       "      <th></th>\n",
       "      <th>ABSTRACT_ID</th>\n",
       "      <th>TEXT</th>\n",
       "      <th>LOCATION</th>\n",
       "      <th>LABEL</th>\n",
       "    </tr>\n",
       "  </thead>\n",
       "  <tbody>\n",
       "    <tr>\n",
       "      <th>0</th>\n",
       "      <td>14145090</td>\n",
       "      <td>velvet antlers vas are commonly used in tradit...</td>\n",
       "      <td>63</td>\n",
       "      <td>transverse aortic constriction</td>\n",
       "    </tr>\n",
       "    <tr>\n",
       "      <th>1</th>\n",
       "      <td>1900667</td>\n",
       "      <td>the clinical features of our cases demonstrate...</td>\n",
       "      <td>85</td>\n",
       "      <td>hodgkins lymphoma</td>\n",
       "    </tr>\n",
       "    <tr>\n",
       "      <th>2</th>\n",
       "      <td>8625554</td>\n",
       "      <td>ceftobiprole bpr is an investigational cephalo...</td>\n",
       "      <td>90</td>\n",
       "      <td>methicillinsusceptible s aureus</td>\n",
       "    </tr>\n",
       "    <tr>\n",
       "      <th>3</th>\n",
       "      <td>8157202</td>\n",
       "      <td>we have taken a basic biologic RPA to elucidat...</td>\n",
       "      <td>26</td>\n",
       "      <td>parathyroid hormonerelated protein</td>\n",
       "    </tr>\n",
       "    <tr>\n",
       "      <th>4</th>\n",
       "      <td>6784974</td>\n",
       "      <td>lipoperoxidationderived aldehydes for example ...</td>\n",
       "      <td>157</td>\n",
       "      <td>lipoperoxidation</td>\n",
       "    </tr>\n",
       "    <tr>\n",
       "      <th>...</th>\n",
       "      <td>...</td>\n",
       "      <td>...</td>\n",
       "      <td>...</td>\n",
       "      <td>...</td>\n",
       "    </tr>\n",
       "    <tr>\n",
       "      <th>2999995</th>\n",
       "      <td>10674546</td>\n",
       "      <td>the results of a surveillance study conducted ...</td>\n",
       "      <td>99</td>\n",
       "      <td>argon plasma coagulation</td>\n",
       "    </tr>\n",
       "    <tr>\n",
       "      <th>2999996</th>\n",
       "      <td>15628733</td>\n",
       "      <td>approximately of patients with celiac disease ...</td>\n",
       "      <td>12</td>\n",
       "      <td>glutenfree diet</td>\n",
       "    </tr>\n",
       "    <tr>\n",
       "      <th>2999997</th>\n",
       "      <td>15419189</td>\n",
       "      <td>the LT survivorship and PET outcomes of the mo...</td>\n",
       "      <td>15</td>\n",
       "      <td>unicompartmental knee arthroplasty</td>\n",
       "    </tr>\n",
       "    <tr>\n",
       "      <th>2999998</th>\n",
       "      <td>2075862</td>\n",
       "      <td>previous work has demonstrated the presence of...</td>\n",
       "      <td>60</td>\n",
       "      <td>complete</td>\n",
       "    </tr>\n",
       "    <tr>\n",
       "      <th>2999999</th>\n",
       "      <td>532074</td>\n",
       "      <td>a hospital warm water system was monitored for...</td>\n",
       "      <td>18</td>\n",
       "      <td>legionella pneumophila</td>\n",
       "    </tr>\n",
       "  </tbody>\n",
       "</table>\n",
       "<p>3000000 rows × 4 columns</p>\n",
       "</div>"
      ],
      "text/plain": [
       "         ABSTRACT_ID                                               TEXT  \\\n",
       "0           14145090  velvet antlers vas are commonly used in tradit...   \n",
       "1            1900667  the clinical features of our cases demonstrate...   \n",
       "2            8625554  ceftobiprole bpr is an investigational cephalo...   \n",
       "3            8157202  we have taken a basic biologic RPA to elucidat...   \n",
       "4            6784974  lipoperoxidationderived aldehydes for example ...   \n",
       "...              ...                                                ...   \n",
       "2999995     10674546  the results of a surveillance study conducted ...   \n",
       "2999996     15628733  approximately of patients with celiac disease ...   \n",
       "2999997     15419189  the LT survivorship and PET outcomes of the mo...   \n",
       "2999998      2075862  previous work has demonstrated the presence of...   \n",
       "2999999       532074  a hospital warm water system was monitored for...   \n",
       "\n",
       "         LOCATION                               LABEL  \n",
       "0              63      transverse aortic constriction  \n",
       "1              85                   hodgkins lymphoma  \n",
       "2              90     methicillinsusceptible s aureus  \n",
       "3              26  parathyroid hormonerelated protein  \n",
       "4             157                    lipoperoxidation  \n",
       "...           ...                                 ...  \n",
       "2999995        99            argon plasma coagulation  \n",
       "2999996        12                     glutenfree diet  \n",
       "2999997        15  unicompartmental knee arthroplasty  \n",
       "2999998        60                            complete  \n",
       "2999999        18              legionella pneumophila  \n",
       "\n",
       "[3000000 rows x 4 columns]"
      ]
     },
     "execution_count": 5,
     "metadata": {},
     "output_type": "execute_result"
    }
   ],
   "source": [
    "train.head()"
   ]
  },
  {
   "cell_type": "code",
   "execution_count": 31,
   "id": "8e50989e",
   "metadata": {},
   "outputs": [],
   "source": [
    "IDs = train[\"ABSTRACT_ID\"]\n",
    "uni_IDs = np.unique(IDs);\n",
    "Labels = train[\"LABEL\"];\n",
    "uni_labels = np.unique(Labels)"
   ]
  },
  {
   "cell_type": "code",
   "execution_count": 59,
   "id": "911ec0ef",
   "metadata": {},
   "outputs": [],
   "source": [
    "text_len = [];\n",
    "num_abbvs = [];\n",
    "abbvs = [];\n",
    "locations = train[\"Lo\"]\n",
    "\n",
    "for ID in uni_IDs[len(text_len):]:\n",
    "    lines = train.loc[train[\"ABSTRACT_ID\"] == ID];\n",
    "    num_abbvs.append(len(lines));\n",
    "    text_lines =  lines[\"TEXT\"].to_numpy()[0].split()\n",
    "    text_len.append(len(text_lines));"
   ]
  },
  {
   "cell_type": "code",
   "execution_count": 85,
   "id": "c0424540",
   "metadata": {},
   "outputs": [],
   "source": [
    "counts, bins = np.histogram(text_len_ray, bins=100)"
   ]
  },
  {
   "cell_type": "code",
   "execution_count": 127,
   "id": "4505c55b",
   "metadata": {},
   "outputs": [
    {
     "data": {
      "image/png": "[encoded data removed]",
      "text/plain": [
       "<Figure size 432x288 with 1 Axes>"
      ]
     },
     "metadata": {
      "needs_background": "light"
     },
     "output_type": "display_data"
    }
   ],
   "source": [
    "plt.hist(text_len_ray, bins=bins[1:]);\n",
    "plt.axvline(np.mean(text_len_ray), color = 'r', ls='--');\n",
    "plt.xlabel('Article Length')\n",
    "plt.ylabel(r'# of Articles')\n",
    "\n",
    "plt.semilogy()"
   ]
  },
  {
   "cell_type": "code",
   "execution_count": 131,
   "id": "51465778",
   "metadata": {},
   "outputs": [
    {
     "data": {
      "image/png": "[encoded data removed]",
      "text/plain": [
       "<Figure size 432x288 with 1 Axes>"
      ]
     },
     "metadata": {
      "needs_background": "light"
     },
     "output_type": "display_data"
    }
   ],
   "source": [
    "plt.hist(num_abv_ray, bins=12, color='g');\n",
    "plt.axvline(np.mean(num_abv_ray), color = 'r', ls='--');\n",
    "plt.xlabel('Abbv. in Article')\n",
    "plt.ylabel(r'# of Articles')\n",
    "\n",
    "plt.semilogy()"
   ]
  },
  {
   "cell_type": "code",
   "execution_count": 10,
   "id": "dfb7d088",
   "metadata": {},
   "outputs": [],
   "source": [
    "abbvs = [];\n",
    "locations = train[\"LOCATION\"];\n",
    "texts = train[\"TEXT\"];\n",
    "\n",
    "for i in range(len(locations)):\n",
    "    text_ray = texts[i].split()\n",
    "    abbvs.append(text_ray[locations[i]]);\n",
    "    #print(text_ray[locations[i]]);"
   ]
  },
  {
   "cell_type": "code",
   "execution_count": 14,
   "id": "8fb3018a",
   "metadata": {},
   "outputs": [],
   "source": [
    "words = abbvs;\n",
    "\n",
    "keys = Counter(words).keys() # equals to list(set(words))\n",
    "occurences = list(Counter(words).values()) # counts the elements' frequency"
   ]
  },
  {
   "cell_type": "code",
   "execution_count": 17,
   "id": "3eaab1a1",
   "metadata": {},
   "outputs": [
    {
     "data": {
      "text/plain": [
       "[]"
      ]
     },
     "execution_count": 17,
     "metadata": {},
     "output_type": "execute_result"
    },
    {
     "data": {
      "image/png": "[encoded data removed]",
      "text/plain": [
       "<Figure size 432x288 with 1 Axes>"
      ]
     },
     "metadata": {
      "needs_background": "light"
     },
     "output_type": "display_data"
    }
   ],
   "source": [
    "plt.hist(occurences, bins=50, color='c');\n",
    "plt.axvline(np.mean(occurences), color = 'r', ls='--');\n",
    "plt.xlabel('Occurences in Training Set')\n",
    "plt.ylabel(r'# Abbv')\n",
    "\n",
    "plt.semilogy()"
   ]
  },
  {
   "cell_type": "markdown",
   "id": "0cb3c78c",
   "metadata": {},
   "source": [
    "# Reducing Initial MeDAL Data\n",
    "\n",
    "Initial MeDAL data is too large for training new models. We will simply take some of the most occuring abbreviations as found in the training set of data and extract entries with occurances greater than some arbitrary [CUTOFF]. The cutoff is then applied to reduce the data by extracting only 'TEXT' and 'LABEL' entries that fall into this new list of abbreviations. This has the benefit of reducing the data set and also actively biases abbreviations with the largest number of expansions and intuitively those with the greatest entropy."
   ]
  },
  {
   "cell_type": "code",
   "execution_count": 20,
   "id": "06bbad08",
   "metadata": {},
   "outputs": [],
   "source": [
    "text_list = train[\"TEXT\"];\n",
    "location_list = train[\"LOCATION\"];\n",
    "abbvs = []\n",
    "\n",
    "for i in range(len(location_list)):\n",
    "    abbvs.append(text_list[i].split()[location_list[i]])"
   ]
  },
  {
   "cell_type": "code",
   "execution_count": 22,
   "id": "daec0f99",
   "metadata": {},
   "outputs": [
    {
     "data": {
      "text/plain": [
       "177"
      ]
     },
     "execution_count": 22,
     "metadata": {},
     "output_type": "execute_result"
    }
   ],
   "source": [
    "len(values[np.where(counts > 2500)[0]])"
   ]
  },
  {
   "cell_type": "code",
   "execution_count": 42,
   "id": "f440366f",
   "metadata": {},
   "outputs": [
    {
     "data": {
      "image/png": "[encoded data removed]",
      "text/plain": [
       "<Figure size 432x288 with 1 Axes>"
      ]
     },
     "metadata": {
      "needs_background": "light"
     },
     "output_type": "display_data"
    }
   ],
   "source": [
    "cutoffs = np.arange(0, 2000, 1);\n",
    "\n",
    "size = 5000;\n",
    "\n",
    "above_val = np.zeros([size]);\n",
    "steps = np.arange(0, size, 1);\n",
    "for step in steps:\n",
    "    above_val[step] = len(values[np.where(counts > step)[0]])\n",
    "\n",
    "plt.plot(above_val);\n",
    "#plt.plot(above_val2);\n",
    "plt.xlabel(r'Instance cutoff');\n",
    "plt.ylabel(r'Counts');"
   ]
  },
  {
   "cell_type": "markdown",
   "id": "c194d40f",
   "metadata": {},
   "source": [
    "(Above) Data shows the number of abbreviations that occur more than Instance Cutoff number of times. We see that of the original ~6k ABBVs, almost half of them occur only "
   ]
  },
  {
   "cell_type": "code",
   "execution_count": 23,
   "id": "864d0252",
   "metadata": {},
   "outputs": [],
   "source": [
    "abbvs = np.array(abbvs);\n",
    "values, counts = np.unique(abbvs, return_counts=True)"
   ]
  },
  {
   "cell_type": "code",
   "execution_count": 24,
   "id": "6c5305b7",
   "metadata": {},
   "outputs": [],
   "source": [
    "values_2500 = values[np.where(counts > 2500)[0]]\n",
    "\n",
    "redux_abbv_index = [abbvs[i] in values_2500 for i in range(len(abbvs))];"
   ]
  },
  {
   "cell_type": "code",
   "execution_count": 26,
   "id": "422b5e7d",
   "metadata": {},
   "outputs": [],
   "source": [
    "new_train_25 = train[redux_abbv_index]\n",
    "#new_train_25.to_csv(PATH + \"train_2500.csv\")"
   ]
  },
  {
   "cell_type": "code",
   "execution_count": 34,
   "id": "d2b8a607",
   "metadata": {},
   "outputs": [
    {
     "name": "stdout",
     "output_type": "stream",
     "text": [
      "Reduced length of total data from 3000000 to 820885.\n",
      "Reduced length of total data by 72.64 percent \n",
      "\n",
      "Reduced number of ABBVs from 5798 to 177.\n",
      "Reduced number of ABBVs by 96.95 percent \n",
      "\n"
     ]
    }
   ],
   "source": [
    "print(\"Reduced length of total data from %0.1d to %0.1d.\" % (len(train), len(new_train_25)))\n",
    "print(\"Reduced length of total data by %0.2f percent \\n\" % (100 - len(new_train_25) / len(train) * 100))\n",
    "print(\"Reduced number of ABBVs from %0.1d to %0.1d.\" % (len(values), len(values_2500)))\n",
    "print(\"Reduced number of ABBVs by %0.2f percent \\n\" % (100 - len(values_2500) / len(values) * 100))"
   ]
  },
  {
   "cell_type": "code",
   "execution_count": null,
   "id": "a723c263",
   "metadata": {},
   "outputs": [],
   "source": [
    "test = pd.read_csv(PATH + \"test.csv\")\n",
    "valid = pd.read_csv(PATH + \"valid.csv\")"
   ]
  },
  {
   "cell_type": "code",
   "execution_count": 122,
   "id": "3e1929f1",
   "metadata": {},
   "outputs": [
    {
     "name": "stdout",
     "output_type": "stream",
     "text": [
      "273579\n"
     ]
    }
   ],
   "source": [
    "text_list_test = test[\"TEXT\"];\n",
    "text_list_valid = valid[\"TEXT\"];\n",
    "location_list_test = test[\"LOCATION\"];\n",
    "location_list_valid = valid[\"LOCATION\"];\n",
    "\n",
    "abbvs_test = [];\n",
    "abbvs_valid = [];\n",
    "\n",
    "for i in range(len(location_list_test)):\n",
    "    abbvs_test.append(text_list_test[i].split()[location_list_test[i]]);\n",
    "    abbvs_valid.append(text_list_valid[i].split()[location_list_valid[i]]);\n",
    "\n",
    "\n",
    "redux_abbv_index_test = [abbvs_test[i] in values_2500 for i in range(len(abbvs_test))];\n",
    "redux_abbv_index_valid = [abbvs_valid[i] in values_2500 for i in range(len(abbvs_valid))];\n",
    "\n",
    "new_test = test[redux_abbv_index_test]\n",
    "#new_test.to_csv(PATH + \"test_2500.csv\");"
   ]
  },
  {
   "cell_type": "code",
   "execution_count": 123,
   "id": "5a2d5cdc",
   "metadata": {},
   "outputs": [
    {
     "name": "stdout",
     "output_type": "stream",
     "text": [
      "273554\n"
     ]
    }
   ],
   "source": [
    "new_valid = valid[redux_abbv_index_valid];\n",
    "new_valid.to_csv(PATH + \"valid_2500.csv\");"
   ]
  },
  {
   "cell_type": "code",
   "execution_count": 35,
   "id": "587ffcf9",
   "metadata": {},
   "outputs": [
    {
     "name": "stdout",
     "output_type": "stream",
     "text": [
      "Number of unique labels in reduced set: 4131\n"
     ]
    }
   ],
   "source": [
    "uniques = new_train_25.LABEL.unique();\n",
    "print(\"Number of unique labels in reduced set: %0.1d\" % len(uniques))"
   ]
  },
  {
   "cell_type": "code",
   "execution_count": 125,
   "id": "86127991",
   "metadata": {},
   "outputs": [],
   "source": [
    "df = new_train_25\n",
    "save = 'train_2500'\n",
    "uniques = df.LABEL.unique();\n",
    "texts = df.TEXT.to_numpy()\n",
    "locs = df.LOCATION.to_numpy()\n",
    "labels = df.LABEL.to_list()\n",
    "\n",
    "indexes = [labels.index(x) for x in set(labels)]\n",
    "\n",
    "dict_ray = np.zeros([len(uniques), 2], dtype=object);\n",
    "\n",
    "i=0;\n",
    "for index in indexes:\n",
    "    AB = texts[index].split()[locs[index]];\n",
    "    EX = labels[index];\n",
    "    dict_ray[i] = AB, EX\n",
    "    i+=1;\n",
    "\n",
    "df = pd.DataFrame(dict_ray, columns = ['PREFERRED_AB','EXPANSION'])\n",
    "df.sort_values(by=['PREFERRED_AB', \"EXPANSION\"]).to_csv(save + '_sort_AB_Exp.txt', sep='\\t', index=False)"
   ]
  }
 ],
 "metadata": {
  "kernelspec": {
   "display_name": "Python 3",
   "language": "python",
   "name": "python3"
  },
  "language_info": {
   "codemirror_mode": {
    "name": "ipython",
    "version": 3
   },
   "file_extension": ".py",
   "mimetype": "text/x-python",
   "name": "python",
   "nbconvert_exporter": "python",
   "pygments_lexer": "ipython3",
   "version": "3.7.10"
  }
 },
 "nbformat": 4,
 "nbformat_minor": 5
}
