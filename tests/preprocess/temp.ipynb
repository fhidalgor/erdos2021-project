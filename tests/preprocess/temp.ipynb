{
 "metadata": {
  "language_info": {
   "codemirror_mode": {
    "name": "ipython",
    "version": 3
   },
   "file_extension": ".py",
   "mimetype": "text/x-python",
   "name": "python",
   "nbconvert_exporter": "python",
   "pygments_lexer": "ipython3",
   "version": "3.8.3"
  },
  "orig_nbformat": 2,
  "kernelspec": {
   "name": "python383jvsc74a57bd05ff2e97f2700942b88f4f63a758b83b1732fbe9984934997a5f4b9403efe2385",
   "display_name": "Python 3.8.3 64-bit ('erdos2021-project-_DDWgEhi-py3.8': poetry)"
  }
 },
 "nbformat": 4,
 "nbformat_minor": 2,
 "cells": [
  {
   "cell_type": "code",
   "execution_count": 1,
   "metadata": {},
   "outputs": [],
   "source": [
    "import pandas as pd"
   ]
  },
  {
   "cell_type": "code",
   "execution_count": 3,
   "metadata": {},
   "outputs": [],
   "source": [
    "df = pd.read_csv(\"../../datasets/adam/valid_adam.txt\", sep='\\t')"
   ]
  },
  {
   "cell_type": "code",
   "execution_count": 9,
   "metadata": {},
   "outputs": [
    {
     "output_type": "execute_result",
     "data": {
      "text/plain": [
       "     PREFERRED_AB                      VARIANT_AB  \\\n",
       "4000          CNS                          CNS:19   \n",
       "4001          CNS                          CNS:13   \n",
       "4002          CNS                          CNS:27   \n",
       "4003          CNV                          CNV:72   \n",
       "4004          CNV                         CNV:547   \n",
       "...           ...                             ...   \n",
       "4095          CPB                          CPB:10   \n",
       "4096         cPCR          cPCR:14|C-PCR:4|CPCR:1   \n",
       "4097         cPCR  cPCR:15|C-PCR:2|c-PCR:2|CPCR:1   \n",
       "4098         CPCs                         CPCs:14   \n",
       "4099         CPCs                          CPCs:6   \n",
       "\n",
       "                                  EXPANSION  \n",
       "4000            canadian neurological scale  \n",
       "4001                        central nervous  \n",
       "4002          congenital nephrotic syndrome  \n",
       "4003           choroidal neovascularisation  \n",
       "4004           choroidal neovascularization  \n",
       "...                                     ...  \n",
       "4095                           plexus block  \n",
       "4096                        competitive pcr  \n",
       "4097  competitive polymerase chain reaction  \n",
       "4098              calcium phosphate cements  \n",
       "4099              choroid plexus carcinomas  \n",
       "\n",
       "[100 rows x 3 columns]"
      ],
      "text/html": "<div>\n<style scoped>\n    .dataframe tbody tr th:only-of-type {\n        vertical-align: middle;\n    }\n\n    .dataframe tbody tr th {\n        vertical-align: top;\n    }\n\n    .dataframe thead th {\n        text-align: right;\n    }\n</style>\n<table border=\"1\" class=\"dataframe\">\n  <thead>\n    <tr style=\"text-align: right;\">\n      <th></th>\n      <th>PREFERRED_AB</th>\n      <th>VARIANT_AB</th>\n      <th>EXPANSION</th>\n    </tr>\n  </thead>\n  <tbody>\n    <tr>\n      <th>4000</th>\n      <td>CNS</td>\n      <td>CNS:19</td>\n      <td>canadian neurological scale</td>\n    </tr>\n    <tr>\n      <th>4001</th>\n      <td>CNS</td>\n      <td>CNS:13</td>\n      <td>central nervous</td>\n    </tr>\n    <tr>\n      <th>4002</th>\n      <td>CNS</td>\n      <td>CNS:27</td>\n      <td>congenital nephrotic syndrome</td>\n    </tr>\n    <tr>\n      <th>4003</th>\n      <td>CNV</td>\n      <td>CNV:72</td>\n      <td>choroidal neovascularisation</td>\n    </tr>\n    <tr>\n      <th>4004</th>\n      <td>CNV</td>\n      <td>CNV:547</td>\n      <td>choroidal neovascularization</td>\n    </tr>\n    <tr>\n      <th>...</th>\n      <td>...</td>\n      <td>...</td>\n      <td>...</td>\n    </tr>\n    <tr>\n      <th>4095</th>\n      <td>CPB</td>\n      <td>CPB:10</td>\n      <td>plexus block</td>\n    </tr>\n    <tr>\n      <th>4096</th>\n      <td>cPCR</td>\n      <td>cPCR:14|C-PCR:4|CPCR:1</td>\n      <td>competitive pcr</td>\n    </tr>\n    <tr>\n      <th>4097</th>\n      <td>cPCR</td>\n      <td>cPCR:15|C-PCR:2|c-PCR:2|CPCR:1</td>\n      <td>competitive polymerase chain reaction</td>\n    </tr>\n    <tr>\n      <th>4098</th>\n      <td>CPCs</td>\n      <td>CPCs:14</td>\n      <td>calcium phosphate cements</td>\n    </tr>\n    <tr>\n      <th>4099</th>\n      <td>CPCs</td>\n      <td>CPCs:6</td>\n      <td>choroid plexus carcinomas</td>\n    </tr>\n  </tbody>\n</table>\n<p>100 rows × 3 columns</p>\n</div>"
     },
     "metadata": {},
     "execution_count": 9
    }
   ],
   "source": [
    "df.iloc[4000:4100]"
   ]
  },
  {
   "cell_type": "code",
   "execution_count": null,
   "metadata": {},
   "outputs": [],
   "source": [
    "ADI autism diagnostic interview\n",
    "CNS congenital nephrotic syndrome\n"
   ]
  },
  {
   "cell_type": "code",
   "execution_count": 16,
   "metadata": {},
   "outputs": [],
   "source": [
    "text = str(\"The kid had an autism diagnostic interview with the doctor because\"\\\n",
    "\"had a congenital nephrotic syndrome. However, the autismplexus\"\\\n",
    "    \"blockdiagnostic interview suffered from congenital-nephrotic-syndrome.\")"
   ]
  },
  {
   "cell_type": "code",
   "execution_count": 24,
   "metadata": {},
   "outputs": [],
   "source": [
    "text2 = str(\"The kid had an ADI with the doctor because\"\\\n",
    "\"had a CNS. However, the autismplexus\"\\\n",
    "    \"blockdiagnostic interview suffered from congenital-nephrotic-syndrome.\")"
   ]
  },
  {
   "cell_type": "code",
   "execution_count": null,
   "metadata": {},
   "outputs": [],
   "source": [
    "[(15,42), (89, 118)]"
   ]
  },
  {
   "cell_type": "code",
   "execution_count": null,
   "metadata": {},
   "outputs": [],
   "source": [
    "[(15,18), (48, 51)]"
   ]
  },
  {
   "cell_type": "code",
   "execution_count": 25,
   "metadata": {},
   "outputs": [
    {
     "output_type": "execute_result",
     "data": {
      "text/plain": [
       "48"
      ]
     },
     "metadata": {},
     "execution_count": 25
    }
   ],
   "source": [
    "text2.index('CNS')"
   ]
  },
  {
   "cell_type": "code",
   "execution_count": 23,
   "metadata": {},
   "outputs": [
    {
     "output_type": "execute_result",
     "data": {
      "text/plain": [
       "118"
      ]
     },
     "metadata": {},
     "execution_count": 23
    }
   ],
   "source": [
    "text.index('autism diagnostic interview')\n",
    "len('congenital nephrotic syndrome')+89"
   ]
  },
  {
   "cell_type": "code",
   "execution_count": 20,
   "metadata": {},
   "outputs": [
    {
     "output_type": "execute_result",
     "data": {
      "text/plain": [
       "89"
      ]
     },
     "metadata": {},
     "execution_count": 20
    }
   ],
   "source": [
    "text.index('congenital nephrotic syndrome')"
   ]
  },
  {
   "cell_type": "code",
   "execution_count": null,
   "metadata": {},
   "outputs": [],
   "source": []
  }
 ]
}