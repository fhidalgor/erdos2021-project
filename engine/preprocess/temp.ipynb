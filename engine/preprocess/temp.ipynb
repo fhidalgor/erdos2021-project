{
 "metadata": {
  "language_info": {
   "codemirror_mode": {
    "name": "ipython",
    "version": 3
   },
   "file_extension": ".py",
   "mimetype": "text/x-python",
   "name": "python",
   "nbconvert_exporter": "python",
   "pygments_lexer": "ipython3",
   "version": "3.8.3"
  },
  "orig_nbformat": 2,
  "kernelspec": {
   "name": "python383jvsc74a57bd05ff2e97f2700942b88f4f63a758b83b1732fbe9984934997a5f4b9403efe2385",
   "display_name": "Python 3.8.3 64-bit ('erdos2021-project-_DDWgEhi-py3.8': poetry)"
  }
 },
 "nbformat": 4,
 "nbformat_minor": 2,
 "cells": [
  {
   "cell_type": "code",
   "execution_count": 2,
   "metadata": {},
   "outputs": [],
   "source": [
    "import pandas as pd"
   ]
  },
  {
   "cell_type": "code",
   "execution_count": 3,
   "metadata": {},
   "outputs": [],
   "source": [
    "df = pd.read_csv(\"../../datasets/medal/full_data.csv\", nrows=100)"
   ]
  },
  {
   "cell_type": "code",
   "execution_count": 6,
   "metadata": {},
   "outputs": [
    {
     "output_type": "execute_result",
     "data": {
      "text/plain": [
       "                                                TEXT              LOCATION  \\\n",
       "0  alphabisabolol has a primary antipeptic action...                    56   \n",
       "1  a report is given on the recent discovery of o...  24|49|68|113|137|172   \n",
       "\n",
       "                                               LABEL  \n",
       "0                                          substrate  \n",
       "1  carcinosarcoma|recovery|reference|recovery|aft...  "
      ],
      "text/html": "<div>\n<style scoped>\n    .dataframe tbody tr th:only-of-type {\n        vertical-align: middle;\n    }\n\n    .dataframe tbody tr th {\n        vertical-align: top;\n    }\n\n    .dataframe thead th {\n        text-align: right;\n    }\n</style>\n<table border=\"1\" class=\"dataframe\">\n  <thead>\n    <tr style=\"text-align: right;\">\n      <th></th>\n      <th>TEXT</th>\n      <th>LOCATION</th>\n      <th>LABEL</th>\n    </tr>\n  </thead>\n  <tbody>\n    <tr>\n      <th>0</th>\n      <td>alphabisabolol has a primary antipeptic action...</td>\n      <td>56</td>\n      <td>substrate</td>\n    </tr>\n    <tr>\n      <th>1</th>\n      <td>a report is given on the recent discovery of o...</td>\n      <td>24|49|68|113|137|172</td>\n      <td>carcinosarcoma|recovery|reference|recovery|aft...</td>\n    </tr>\n  </tbody>\n</table>\n</div>"
     },
     "metadata": {},
     "execution_count": 6
    }
   ],
   "source": [
    "df.head(2)"
   ]
  },
  {
   "cell_type": "code",
   "execution_count": 8,
   "metadata": {
    "tags": []
   },
   "outputs": [
    {
     "output_type": "stream",
     "name": "stdout",
     "text": [
      "substrate\ncarcinosarcoma|recovery|reference|recovery|after|plaque\nsubstrate\ncompounds|compounds|inhibitory|lethal doses|catecholamines\noxazepam|placebo|oral administration|pentagastrin|evaluation|oxazepam|oxazepam|preparations\nred cells|serum|activated|classical\nmajor|pentose phosphate\nfeeding|feeding|after|live weight\nactive|study|active|substrate|substrate|active|amino acid\nstable|assay|binding|glutamate\ncaudate\ndisplacement\ngroups|functional|after|reactivity\narginine|arginine|change\ndihydrofolate|specific|degradation|antiserum|dihydrofolate\ngel filtration|electrophoresis|dihydrofolate|organic cations|substrate|dihydrofolate\ntransition state|active\neffective|inhibitory|line|line|line|line|relaxation\nheterologous\npolysaccharide antigen\nfunctional|homologous|functional|functional|subunit|subunit|active|sites\nsubstrate|sequence|alkaline\nintact|glucose|erythrocyte membranes\nglyceraldehydephosphate|model|binding|reactivity|groups|after|equilibrium dialysis|subunit|binding\nstable|activation energies\nreactivity\nbinding|membranes|binding|membranes|binding|electrophysiological|membranes|functioning\nbiochemical|glutamate\nheart|energy\nenriched|oxidized|photosystem\nplastoquinone|semiquinone|preparations|oxidized form\nsulphydryl\nphosphatidate\npreparations|liver|liver|substrate\nlevels|diethylstilbestrol|enzyme activity\naqueous|acetone|acetone|aqueous|aqueous\nactive\noligosaccharides|active|substrate\nenzyme activity|smooth endoplasmic reticulum|layer\nspecific|myosin|polyacrylamide gel electrophoresis|heavy chains|agreement|binding|release|myosin\ngroups|functioning|heavy chains|variation|light|myosin|myosin|cardiac myosin\nmichaelis constant|substrate|oxidized|binding|serum|oxidized form\nliver|active|substrate|binding|liver|active|crude extract|appropriate|after\nrabbit|erythrocyte|casein|casein|serum|casein|active|casein|diphosphoglycerate|casein\nsubstrate|enzymesubstrate|substrate\nafter\npulse\nsites|binding|sites|diphosphoglycerate\ngroups|binding|binding|sites|nterminal\npolyacrylamide gel electrophoresis in sodium dodecyl sulfate|subunit\nfunction|actomyosin|myosin\nalkaline|function\ngroups|substrate|uridine|trinucleotide\npreparations\nmembranes|electrophoresis|alkaline|polyacrylamide gel electrophoresis|large|alkaline\npolymer\npulse|electrical activity|intercostal|development|pulse\nliver|serum\nconditioned|reticular\noxidized\narsenic|quality\nstudy|symptoms|after|truncal vagotomy|truncal vagotomy|symptoms|superficial gastritis|operation|intact\ndiphosphoglycerate|binding|electrophoresis|plasma volume\nmotoneurons|membrane conductance|inhibitory|picrotoxin|inhibitory\ncortex|synaptic vesicles|electric organ|crude synaptosomal|cerebral|synaptic vesicles|after\nelectromagnetic|output\nrabbit|after\nperipheral|secondary|change\namino acid\nnitrofurazone|nitrofurazone\npolysaccharides\nactivities|activities\nsucrose|invertase|groups\nfunction|assay|maximal activity|assay|functional\npennsylvania\ncb|activities|feeding|pretreatment\ncb|liver|homogenate|spleen|dihydrofolate|pretreatment|cb\nintraabdominal|highly purified|enzyme activity|fatty acid synthetase|complete|fatty acid synthetase\nspontaneously hypertensive\ncerebral|cerebral|cerebral|cerebral|hemorrhagic hypotension|cerebral\nvenous|arterial blood gas|lactic acidosis|lactic acidosis\nheart|administered|coronary flow|after|cholinergic|carotid sinus|identical\npeak systolic pressure|levels|ventricular\nischemic|glyceraldehydephosphate|major\nright|right ventricular apex|developed tension|right|ventricular|right\nlactate dehydrogenase activity|assay\nvariation\nhydrazine\nelectrophoresis|neutral amino acids|identification|staining|amino acid\nsubstrate|serum\nspecific\nstimulus\nlevels|plasma noradrenaline\nventricular fibrillation threshold|study|levels|energy\nsymptoms\npituitary|after|major|major\npituitary|preparations\nfeeding\nliver|activities|substrate|identical|functional|liver\nserum|liver|serum|serum\n"
     ]
    }
   ],
   "source": [
    "for index, row in df.iterrows():\n",
    "    print(row['LABEL'])"
   ]
  },
  {
   "cell_type": "code",
   "execution_count": 44,
   "metadata": {},
   "outputs": [
    {
     "output_type": "stream",
     "name": "stdout",
     "text": [
      "luteal phase\nmenstrual cycle\nskin testing\nintramuscular\nsymptoms\nappropriate\n"
     ]
    }
   ],
   "source": [
    "span = [(922, 933), (270, 289), (160, 172), (180, 195), (472, 480), (260, 272)]\n",
    "long_forms = ['appropriate', 'intramuscular', 'luteal phase', 'menstrual cycle', 'symptoms', 'skin testing']\n",
    "res = dict(zip(span, long_forms))\n",
    "\n",
    "def getKey(item):\n",
    "    return item[0]\n",
    "for key in sorted(res.keys(), key=lambda x: x[0]):\n",
    "    print(res[key])"
   ]
  },
  {
   "cell_type": "code",
   "execution_count": 49,
   "metadata": {},
   "outputs": [
    {
     "output_type": "execute_result",
     "data": {
      "text/plain": [
       "[(160, 172), (180, 195), (260, 272), (270, 289), (472, 480), (922, 933)]"
      ]
     },
     "metadata": {},
     "execution_count": 49
    }
   ],
   "source": [
    "sorted(res.keys(), key=lambda x: x[0])"
   ]
  },
  {
   "cell_type": "code",
   "execution_count": 35,
   "metadata": {},
   "outputs": [
    {
     "output_type": "execute_result",
     "data": {
      "text/plain": [
       "[(922, 933), (270, 289), (160, 172), (180, 195), (472, 480), (260, 272)]"
      ]
     },
     "metadata": {},
     "execution_count": 35
    }
   ],
   "source": [
    "list(res.keys())"
   ]
  },
  {
   "cell_type": "code",
   "execution_count": 38,
   "metadata": {},
   "outputs": [
    {
     "output_type": "execute_result",
     "data": {
      "text/plain": [
       "[(160, 172), (180, 195), (260, 272), (270, 289), (472, 480), (922, 933)]"
      ]
     },
     "metadata": {},
     "execution_count": 38
    }
   ],
   "source": [
    "def getKey(item):\n",
    "    return item[0]\n",
    "sorted(span, key=getKey)\n"
   ]
  },
  {
   "cell_type": "code",
   "execution_count": 51,
   "metadata": {},
   "outputs": [],
   "source": [
    "test_tup = (922, 933)\n",
    "tup = (932, 936)\n",
    "\n",
    "sorted_tuple = sorted(res.keys(), key=lambda x: x[0])\n",
    "final_tuple = [sorted_tuple[0]]\n",
    "\n",
    "i = 0\n",
    "for tup in sorted_tuple[1:]:\n",
    "    if tup[1]>= final_tuple[i][0] and tup[0]<= final_tuple[i][1]:\n",
    "        pass\n",
    "    else:\n",
    "        final_tuple.append(tup)\n",
    "        i = i + 1"
   ]
  },
  {
   "cell_type": "code",
   "execution_count": 62,
   "metadata": {},
   "outputs": [],
   "source": [
    "text = str(span)\n",
    "asas = list(eval(text))"
   ]
  },
  {
   "cell_type": "code",
   "execution_count": 68,
   "metadata": {},
   "outputs": [
    {
     "output_type": "execute_result",
     "data": {
      "text/plain": [
       "int"
      ]
     },
     "metadata": {},
     "execution_count": 68
    }
   ],
   "source": [
    "sorted_tuples = sorted(asas, key=lambda x: x[0])\n",
    "type(sorted_tuples[1][0])"
   ]
  },
  {
   "cell_type": "code",
   "execution_count": 77,
   "metadata": {},
   "outputs": [
    {
     "output_type": "execute_result",
     "data": {
      "text/plain": [
       "'retention'"
      ]
     },
     "metadata": {},
     "execution_count": 77
    }
   ],
   "source": [
    "df = pd.read_csv(\"../../datasets/pubmed/replaced_abstracts/demo_longforms.csv\", converters={'long_forms': eval})\n",
    "df['long_forms'][0][0]"
   ]
  },
  {
   "cell_type": "code",
   "execution_count": null,
   "metadata": {},
   "outputs": [],
   "source": [
    "    if tup[1]>= test_tup[0] and tup[0]<= test_tup[1]:\n",
    "        print('overlap')"
   ]
  },
  {
   "cell_type": "code",
   "execution_count": 86,
   "metadata": {},
   "outputs": [],
   "source": [
    "text = \"transendothelial migration tem of neutrophils under blood flow is critical in the inflammatory cascade however the role of EC STDP in this process is not fully understood therefore we used an in vitro model to MMthe dynamics of human polymorphonuclear neutrophil pmn PMNL lipopolysaccharide treated human umbilical veHUVEyers interestingly shrna e selectin knockdown in huvecs destabilized endothelial junctional integrity by reducing actin branching and increasing stress fiber at cell celAStions this process is accomplished by downregulating the activation of cortactin and arp2 which in turn alters the adhesive function of ve cadherin enhancing pmn transmigrationCFle redundant p selectins possess overlapping functions in e selectin mediated neutrophil adhesion and transmigration these results demonstrate to our knowledge for the first time that e selectins negatively regulate neutrophil transmigration through alterations in endothelial plasticity furthermore it improves our understanding of the mechanisms underlying actin remodeling and junctional integrity in endothelial cellsCR leukocyte tem\"\n"
   ]
  },
  {
   "cell_type": "code",
   "execution_count": 96,
   "metadata": {},
   "outputs": [],
   "source": [
    "text2 = \"transendothelial migration tem of neutrophils under blood flow is critical in the inflammatory cascade however the role of EC STDP in this process is not fully understood therefore we used an in vitro MM to test the dynamics of human polymorphonuclear PMNL pmn tem across lipopolysaccharide treated HUVE cell huvec monolayers interestingly shrna e selectin knockdown in huvecs destabilized endothelial junctional integrity by reducing actin branching and increasing AS fiber at cell cell junctions this process is accomplished by downregulating the activation of cortactin and arp2 which in turn alters the adhesive CF of ve cadherin enhancing pmn transmigration meanwhile redundant p selectins possess overlapping functions in e selectin mediated neutrophil adhesion and transmigration these results demonstrate to our knowledge for the first time that e selectins negatively regulate neutrophil transmigration through alterations in endothelial plasticity furthermore it improves our understanding of the mechanisms underlying actin CR and junctional integrity in endothelial cells mediating leukocyte tem\"\n"
   ]
  },
  {
   "cell_type": "code",
   "execution_count": 93,
   "metadata": {},
   "outputs": [
    {
     "output_type": "execute_result",
     "data": {
      "text/plain": [
       "      PREFERRED_AB VARIANT_AB     EXPANSION\n",
       "16308         PMNL    PMNL:14  granulocytes\n",
       "16309         PMNL    PMNL:15    neutrophil"
      ],
      "text/html": "<div>\n<style scoped>\n    .dataframe tbody tr th:only-of-type {\n        vertical-align: middle;\n    }\n\n    .dataframe tbody tr th {\n        vertical-align: top;\n    }\n\n    .dataframe thead th {\n        text-align: right;\n    }\n</style>\n<table border=\"1\" class=\"dataframe\">\n  <thead>\n    <tr style=\"text-align: right;\">\n      <th></th>\n      <th>PREFERRED_AB</th>\n      <th>VARIANT_AB</th>\n      <th>EXPANSION</th>\n    </tr>\n  </thead>\n  <tbody>\n    <tr>\n      <th>16308</th>\n      <td>PMNL</td>\n      <td>PMNL:14</td>\n      <td>granulocytes</td>\n    </tr>\n    <tr>\n      <th>16309</th>\n      <td>PMNL</td>\n      <td>PMNL:15</td>\n      <td>neutrophil</td>\n    </tr>\n  </tbody>\n</table>\n</div>"
     },
     "metadata": {},
     "execution_count": 93
    }
   ],
   "source": [
    "ADAM_DF[ADAM_DF.PREFERRED_AB=='PMNL']"
   ]
  },
  {
   "cell_type": "code",
   "execution_count": 99,
   "metadata": {},
   "outputs": [
    {
     "output_type": "execute_result",
     "data": {
      "text/plain": [
       "'PMNL'"
      ]
     },
     "metadata": {},
     "execution_count": 99
    }
   ],
   "source": [
    "text2[252:256]"
   ]
  },
  {
   "cell_type": "code",
   "execution_count": 11,
   "metadata": {},
   "outputs": [
    {
     "output_type": "execute_result",
     "data": {
      "text/plain": [
       "'if __name__ == \\'__main__\\':\\n    args = parse_args()\\n\\n    # get filenames\\n    all_filenames = os.listdir(args.input_directory)\\n    filenames = []\\n    for filename in all_filenames:\\n        if os.path.splitext(os.path.splitext(filename)[0])[1] == \\'.xml\\' and os.path.splitext(filename)[1] == \\'.gz\\':\\n            filenames.append(filename)\\n    print(\\'[\\' + time.ctime() + \\']\\', len(all_filenames), \"files found in\", args.input_directory)\\n    print(\\'[\\' + time.ctime() + \\']\\', len(filenames), \"are xml.gz files\")\\n\\n    # parse and save\\n    with Pool(processes=args.max_cores) as pool:\\n        pool.map(extract_abstract, zip(repeat(args.input_directory), repeat(args.output_directory), filenames))\\n    print(\\'[\\' + time.ctime() + \\']\\', \"abstracts parsed and saved\")'"
      ]
     },
     "metadata": {},
     "execution_count": 11
    }
   ],
   "source": [
    "from lxml import etree\n",
    "import argparse\n",
    "import os\n",
    "import time\n",
    "from multiprocessing import Pool\n",
    "import tqdm\n",
    "from itertools import repeat\n",
    "\n",
    "'''def parse_args():\n",
    "    parser = argparse.ArgumentParser(description='Parse xml.gz files and extract abstracts')\n",
    "    parser.add_argument('input_directory', help='directory containing xml.gz files')\n",
    "    parser.add_argument('output_directory', help='output directory')\n",
    "    parser.add_argument('--max_cores', default=4, type=int, help='max number of cpu cores')\n",
    "    return parser.parse_args()'''\n",
    "\n",
    "def extract_abstract(input_tuple):\n",
    "    input_directory, output_directory, filename = input_tuple\n",
    "    tree = etree.parse(os.path.join(input_directory, filename))\n",
    "    root = tree.getroot()\n",
    "    abstracts = {}\n",
    "    for idx, child in enumerate(root):\n",
    "        text = None\n",
    "        for value in child[0][3]:\n",
    "            if value.tag == 'Abstract':\n",
    "                text = value[0].text\n",
    "                break\n",
    "        if not text:\n",
    "            continue\n",
    "        text = \" \".join(text.split())\n",
    "        if text != \"\\n\" and text:\n",
    "            abstracts[str(idx)] = text\n",
    "    output_abstracts = [':'.join([key, value]) for key, value in abstracts.items()]\n",
    "\n",
    "    with open(os.path.join(output_directory, os.path.splitext(os.path.splitext(filename)[0])[0] + '.txt'), 'w') as file:\n",
    "        file.writelines('\\n'.join(output_abstracts) + '\\n')\n",
    "\n",
    "'''if __name__ == '__main__':\n",
    "    args = parse_args()\n",
    "\n",
    "    # get filenames\n",
    "    all_filenames = os.listdir(args.input_directory)\n",
    "    filenames = []\n",
    "    for filename in all_filenames:\n",
    "        if os.path.splitext(os.path.splitext(filename)[0])[1] == '.xml' and os.path.splitext(filename)[1] == '.gz':\n",
    "            filenames.append(filename)\n",
    "    print('[' + time.ctime() + ']', len(all_filenames), \"files found in\", args.input_directory)\n",
    "    print('[' + time.ctime() + ']', len(filenames), \"are xml.gz files\")\n",
    "\n",
    "    # parse and save\n",
    "    with Pool(processes=args.max_cores) as pool:\n",
    "        pool.map(extract_abstract, zip(repeat(args.input_directory), repeat(args.output_directory), filenames))\n",
    "    print('[' + time.ctime() + ']', \"abstracts parsed and saved\")'''"
   ]
  },
  {
   "cell_type": "code",
   "execution_count": 12,
   "metadata": {},
   "outputs": [],
   "source": [
    "from lxml import etree\n",
    "import argparse\n",
    "import os\n",
    "import time\n",
    "from multiprocessing import Pool\n",
    "import tqdm\n",
    "from itertools import repeat"
   ]
  },
  {
   "cell_type": "code",
   "execution_count": 22,
   "metadata": {},
   "outputs": [],
   "source": [
    "import xml.etree.ElementTree as ET\n",
    "input_directory = ''\n",
    "filename = \"pubmed21n1063.xml\"\n",
    "tree = ET.parse(os.path.join(input_directory, filename))\n",
    "root = tree.getroot()"
   ]
  },
  {
   "cell_type": "code",
   "execution_count": 86,
   "metadata": {},
   "outputs": [],
   "source": [
    "import time\n"
   ]
  },
  {
   "cell_type": "code",
   "execution_count": 87,
   "metadata": {},
   "outputs": [
    {
     "output_type": "stream",
     "name": "stdout",
     "text": [
      "--- 1.2205195426940918 seconds ---\n"
     ]
    }
   ],
   "source": [
    "start_time = time.time()\n",
    "abstracts: list = []\n",
    "for child in root.iter():\n",
    "    if child.tag == 'Abstract':\n",
    "        if child[0].text and child[0].text != \"\\n\":\n",
    "            abstracts.append(\" \".join(child[0].text.split()))\n",
    "\n",
    "with open('demo3.txt', 'w') as filehandle:\n",
    "    filehandle.writelines(\"%s\\n\" % abstract for abstract in abstracts)\n",
    "print(\"--- %s seconds ---\" % (time.time() - start_time))\n"
   ]
  },
  {
   "cell_type": "code",
   "execution_count": 88,
   "metadata": {},
   "outputs": [
    {
     "output_type": "stream",
     "name": "stdout",
     "text": [
      "--- 2.679959297180176 seconds ---\n"
     ]
    }
   ],
   "source": [
    "start_time = time.time()\n",
    "\n",
    "with open('demo4.txt', 'w') as filehandle:\n",
    "    for child in root.iter():\n",
    "        if child.tag == 'Abstract':\n",
    "            if child[0].text and child[0].text != \"\\n\":\n",
    "                abstract: str = \" \".join(child[0].text.split())\n",
    "                filehandle.writelines(\"%s\\n\" % abstract)\n",
    "print(\"--- %s seconds ---\" % (time.time() - start_time))\n"
   ]
  },
  {
   "cell_type": "code",
   "execution_count": 76,
   "metadata": {},
   "outputs": [],
   "source": [
    "with open('demo.txt', 'w') as filehandle:\n",
    "    filehandle.writelines(\"%s\\n\" % abstract for abstract in abstracts)"
   ]
  },
  {
   "cell_type": "code",
   "execution_count": 82,
   "metadata": {},
   "outputs": [],
   "source": [
    "with open('demo.txt', 'r') as filehandle:\n",
    "    file_abs = [abstract.rstrip() for abstract in filehandle.readlines()]\n"
   ]
  },
  {
   "cell_type": "code",
   "execution_count": 110,
   "metadata": {},
   "outputs": [
    {
     "output_type": "execute_result",
     "data": {
      "text/plain": [
       "float"
      ]
     },
     "metadata": {},
     "execution_count": 110
    }
   ],
   "source": [
    "os.listdir(self.input_path)"
   ]
  },
  {
   "cell_type": "code",
   "execution_count": 84,
   "metadata": {},
   "outputs": [
    {
     "output_type": "execute_result",
     "data": {
      "text/plain": [
       "'Of a series of 58 aliphatic nucleoside analogues, (S)-9-(2,3-dihydroxypropyl)adenine [(S)-DHPA] proved to be the most active congener, when assayed for antiviral activity in primary rabbit kidney cell cultures challenged with either vaccinia or vesicular stomatitis virus. Whereas most analogues derived from substituted purine and pyrimidine bases and bearing various hydroxy- or amino-substituted alkyl chains did not show evidence of antiviral activity at a concentration of 2 mM, (S)-DHPA inhibited both vaccinia and vesicular stomatitis virus replication at 0.05-0.1 mM. For 9-[(RS)-2,3-diazidopropyl]adenine and some di- and trihydroxybutyl analogues of DHPA, viz., 9-[(2RS,3SR)-2,3-dihydroxybutylladenine, 9-[(RS)- or 9-[(S)-3,4-dihydroxybutyl]adenine, 9-[(2S,3R)-2,3,4-trihydroxybutyl]adenine, and 3-(adenin-9-yl)-(RS)-alanine, an antiviral effect was noted at a concentration of 0.5-1 mM.'"
      ]
     },
     "metadata": {},
     "execution_count": 84
    }
   ],
   "source": [
    "file_abs[0]"
   ]
  },
  {
   "cell_type": "code",
   "execution_count": 70,
   "metadata": {},
   "outputs": [],
   "source": [
    "temp=# get filenames\n",
    "    all_filenames = os.listdir(args.input_directory)\n"
   ]
  },
  {
   "cell_type": "code",
   "execution_count": 71,
   "metadata": {
    "tags": []
   },
   "outputs": [],
   "source": [
    "lower = temp.lower()\n",
    "no_punc = lower.translate(str.maketrans(\"\", \"\", string.punctuation))\n",
    "no_white = \" \".join(no_punc.split())\n",
    "no_num = no_white.translate(str.maketrans(\"\", \"\", string.digits))"
   ]
  },
  {
   "cell_type": "code",
   "execution_count": 112,
   "metadata": {},
   "outputs": [
    {
     "output_type": "execute_result",
     "data": {
      "text/plain": [
       "'of a series of  aliphatic nucleoside analogues sdihydroxypropyladenine sdhpa proved to be the most active congener when assayed for antiviral activity in primary rabbit kidney cell cultures challenged with either vaccinia or vesicular stomatitis virus whereas most analogues derived from substituted purine and pyrimidine bases and bearing various hydroxy or aminosubstituted alkyl chains did not show evidence of antiviral activity at a concentration of  mm sdhpa inhibited both vaccinia and vesicular stomatitis virus replication at  mm for rsdiazidopropyladenine and some di and trihydroxybutyl analogues of dhpa viz rssrdihydroxybutylladenine rs or sdihydroxybutyladenine srtrihydroxybutyladenine and adeninylrsalanine an antiviral effect was noted at a concentration of  mm'"
      ]
     },
     "metadata": {},
     "execution_count": 112
    }
   ],
   "source": [
    "no_num"
   ]
  },
  {
   "cell_type": "code",
   "execution_count": 113,
   "metadata": {},
   "outputs": [],
   "source": [
    "lower = \"Hello my name 56. Tengo 26!\".lower()\n",
    "no_punc = lower.translate(str.maketrans(\"\", \"\", string.punctuation))\n",
    "no_white = \" \".join(no_punc.split())\n",
    "no_num = no_white.translate(str.maketrans(\"\", \"\", string.digits))"
   ]
  },
  {
   "cell_type": "code",
   "execution_count": 117,
   "metadata": {},
   "outputs": [
    {
     "output_type": "execute_result",
     "data": {
      "text/plain": [
       "'Hello my name . Tengo !'"
      ]
     },
     "metadata": {},
     "execution_count": 117
    }
   ],
   "source": [
    "\"Hello my name 56. Tengo 26!\".translate(str.maketrans(\"\", \"\", string.digits))"
   ]
  },
  {
   "cell_type": "code",
   "execution_count": 139,
   "metadata": {},
   "outputs": [],
   "source": [
    "import re\n",
    "from typing import Iterable, List\n",
    "from wordfreq import top_n_list, tokenize\n",
    "\n",
    "TOKENS_REG = re.compile(r\"(?u)\\b\\w+\\b\\D\")\n",
    "b = re.compile(r\"\\d+\")\n"
   ]
  },
  {
   "cell_type": "code",
   "execution_count": 145,
   "metadata": {},
   "outputs": [
    {
     "output_type": "execute_result",
     "data": {
      "text/plain": [
       "'Hello my name . Tengo !'"
      ]
     },
     "metadata": {},
     "execution_count": 145
    }
   ],
   "source": [
    "no_num = text.translate(str.maketrans(\"\", \"\", string.digits))\n",
    "no_num"
   ]
  },
  {
   "cell_type": "code",
   "execution_count": 143,
   "metadata": {},
   "outputs": [
    {
     "output_type": "execute_result",
     "data": {
      "text/plain": [
       "['56', '26']"
      ]
     },
     "metadata": {},
     "execution_count": 143
    }
   ],
   "source": [
    "text = \"Hello my name 56. Tengo 26!\"\n",
    "s = re.compile(r\"\\b\\d+\\b\")\n",
    "s.findall(text.lower())"
   ]
  },
  {
   "cell_type": "code",
   "execution_count": 151,
   "metadata": {},
   "outputs": [
    {
     "output_type": "execute_result",
     "data": {
      "text/plain": [
       "True"
      ]
     },
     "metadata": {},
     "execution_count": 151
    }
   ],
   "source": [
    "l = '56'\n",
    "l.isdigit()"
   ]
  },
  {
   "cell_type": "code",
   "execution_count": 68,
   "metadata": {},
   "outputs": [
    {
     "output_type": "execute_result",
     "data": {
      "text/plain": [
       "'Of a series of 58 aliphatic nucleoside analogues, (S)-9-(2,3-dihydroxypropyl)adenine [(S)-DHPA] proved to be the most active congener, when assayed for antiviral activity in primary rabbit kidney cell cultures challenged with either vaccinia or vesicular stomatitis virus. Whereas most analogues derived from substituted purine and pyrimidine bases and bearing various hydroxy- or amino-substituted alkyl chains did not show evidence of antiviral activity at a concentration of 2 mM, (S)-DHPA inhibited both vaccinia and vesicular stomatitis virus replication at 0.05-0.1 mM. For 9-[(RS)-2,3-diazidopropyl]adenine and some di- and trihydroxybutyl analogues of DHPA, viz., 9-[(2RS,3SR)-2,3-dihydroxybutylladenine, 9-[(RS)- or 9-[(S)-3,4-dihydroxybutyl]adenine, 9-[(2S,3R)-2,3,4-trihydroxybutyl]adenine, and 3-(adenin-9-yl)-(RS)-alanine, an antiviral effect was noted at a concentration of 0.5-1 mM.'"
      ]
     },
     "metadata": {},
     "execution_count": 68
    }
   ],
   "source": [
    "abstracts[0]"
   ]
  },
  {
   "cell_type": "code",
   "execution_count": null,
   "metadata": {},
   "outputs": [],
   "source": []
  },
  {
   "cell_type": "code",
   "execution_count": 52,
   "metadata": {
    "tags": []
   },
   "outputs": [
    {
     "output_type": "stream",
     "name": "stdout",
     "text": [
      "136\nOf a series of 58 aliphatic nucleoside analogues, (S)-9-(2,3-dihydroxypropyl)adenine [(S)-DHPA] proved to be the most active congener, when assayed for antiviral activity in primary rabbit kidney cell cultures challenged with either vaccinia or vesicular stomatitis virus. Whereas most analogues derived from substituted purine and pyrimidine bases and bearing various hydroxy- or amino-substituted alkyl chains did not show evidence of antiviral activity at a concentration of 2 mM, (S)-DHPA inhibited both vaccinia and vesicular stomatitis virus replication at 0.05-0.1 mM. For 9-[(RS)-2,3-diazidopropyl]adenine and some di- and trihydroxybutyl analogues of DHPA, viz., 9-[(2RS,3SR)-2,3-dihydroxybutylladenine, 9-[(RS)- or 9-[(S)-3,4-dihydroxybutyl]adenine, 9-[(2S,3R)-2,3,4-trihydroxybutyl]adenine, and 3-(adenin-9-yl)-(RS)-alanine, an antiviral effect was noted at a concentration of 0.5-1 mM.\n247\nRecent studies have shown that Ro/SSA autoantigen is heterogeneous and the autoanti-Ro/SSA response is correspondingly heterogeneous. There are two isoform families; the 60 kD forms and the 52 kD forms. We studied the antigenic difference between the native and denatured Ro/SSA isoforms and found that the autoanti-Ro/SSA response to the native 60 kD antigen is quite homogeneous. All anti-Ro/SSA sera recognize the native kD antigen regardless of the reactivities to the 60 kD band on the Western blot. Surprisingly, no anti-Ro/SSA sera without anti-La/SSB reacts with the native 52 kD Ro/SSA, although sera with both precipitating anti-Ro/SSA and anti-La/SSB can immunoprecipitate the native 52 kD antigen. Anti-Ro/SSA sera exist which react exclusively with the native 60 kD Ro/SSA protein (10/43, 23%) while no anti-Ro/SSA sera have been found which react exclusively with the denatured 52 kD Ro/SSA antigen. In sera with anti-Ro/SSA precipitins alone, only antibody to the denatured 52 kD Ro/SSA molecule is found! In sera with anti-Ro/SSA and anti-U1 RNP precipitins, no antibody to either native or denatured 52 kD Ro/SSA is found, while in sera with both anti-Ro/SSA and anti-La/SSB precipitins, antibodies to both the native and denatured forms of 52 kD Ro/SSA are present. These data suggest that the anti-Ro/SSA response to the 60 kD molecule is driven by the native 60 kD Ro/SSA molecule while the molecular identification of the antigen drive in the anti-52 kD Ro/SSA response is unknown.\n397\nForty Japanese anti-SSA(Ro) positive patients with Sjögren's syndrome were typed for HLA-A, B, C, DR and DQ antigens. No patient had either HLA-B8 or HLA-DR3 which has been reportedly associated with the immune response to SSA(Ro) antigens in white and black patients. Our patients had higher frequencies of HLA-DRw8 and HLA-DRw52 than the control population.\n530\nAntibodies against recombinant 52 kD-Ro, recombinant 60 kD-Ro and recombinant La protein were determined by ELISA in over 300 central European patients with systemic lupus erythematosus (SLE). A strong association with HLA-DR3 was found for antibodies against 52 kD-Ro and La, but not for recombinant 60 kD-Ro antibodies in the absence of antibodies against 52 kD-Ro or La. Ro/La negative SLE patients still showed an increased frequency of HLA-DR3 as compared to healthy controls. These results indicated that the preferential formation of Ro and La antibodies was not due to an unspecific stimulatory effect of HLA-DR3 but that the antibody response to certain defined proteins (52 kD-Ro and La) was influenced by MHC genes in SLE. Furthermore, the association of SLE with HLA-DR3 was independent of the effects of DR3 on the formation of 52 kD-Ro and La antibodies.\n843\nThe immune response to the Ro/SSA particles is conformation dependent. In sera with only anti-Ro/SSA precipitins, the autoantibodies to the 60 kD Ro/SSA are largely to the native 60 kD Ro/SSA while autoantibodies to the 52 kD Ro/SSA particle when present are exclusively to the denatured 52 kD Ro/SSA particle. Antibodies eluted from a recombinant 52 kD Ro/SSA fusion protein reacted in a sandwich ELISA which only measures antibody to native 60 kD Ro/SSA antigens and this reaction is largely inhibited by native homogeneous 60 kD Ro/SSA. In addition, antibody binding to the 52 kD Ro/SSA antigen in Western blot is also strongly inhibited by native 60 kD Ro/SSA. These experiment strongly suggest that reactivity of denatured 52 kD Ro/SSA antigen represents a cross reaction with autoantibodies directed to the native 60 kD Ro/SSA antigen. As a corollary of these experiments, data are presented that suggest the hY-RNAs are not associated with the 52 kD Ro/SSA protein but only with the 60 kD Ro/SSA protein. These data are consistent with the hypothesis that the autoanti-Ro/SSA response is driven by native 60 kD Ro/SSA and the immune response to denatured 52 kD Ro/SSA is largely a cross-reactive subset of the immune response to native 60 kD Ro/SSA.\n985\nUltraviolet B light (UVB) has previously been shown to induce the expression of the extractable nuclear antigens (e.g. Ro/SSA) on the surfaces of human keratinocytes in vitro. This study assessed whether injurious, metabolic, inflammatory, immunological or hormonal stimuli would also induce this expression or modulate that produced by UVB. No stimulus initiated expression alone, but 17-beta oestradiol doubled that found in response to UVB. These findings confirm the potential role of UVB in the initiation and potentiation of cutaneous lupus lesions and may help to explain the female preponderance of the disease.\n1136\nAlthough systemic lupus erythematosus (SLE) and Sjögren's syndrome (SS) are distinct collagen vascular illnesses, they share certain features. Both have clinical manifestations involving skin and mucous membranes and characteristically have high titers of circulating autoantibodies to the cellular components Ro/SS-A, calreticulin/Ro, 52 kDa Ro and La/SS-B. Viruses have been postulated to be involved in the pathogenesis of both diseases. Sensitivity to sun is a cardinal feature of SLE, and UV light may be involved in its pathogenesis. Using human B-lymphoblastoid cell lines, the effect of the resident Epstein-Barr virus on the expression of the above cellular components was investigated by flow cytometry. Sublethal irradiation with ultraviolet B light appeared to diminish EBV antigen expression (gp350/220) during the first 48 to 72 hours in culture, whereas there was no change in the expression of MHC class I or immunoglobulin host cell proteins, and an apparent increase in the expression of host cell autoantigens. The virus appeared to be more sensitive to UVB-induced damage yet did appear to be able to undergo repair. No direct correlation could be made between the presence of the virus and the increase in autoantigen expression. La/SS-B and/or 52 kDa Ro antigen(s) were found to be present in the cytoplasm of the B lymphoblastoid cells at a higher base level in EBV-infected cell lines than in the EBV-negative cell lines.\n1290\nFive synthetic peptides corresponding to the N-, the C- and a central domain in 60-kD SSA/Ro protein were prepared and tested with sera from 112 patients with systemic lupus erythematosus (SLE), 55 with primary Sjögren's syndrome (pSS) and 29 with rheumatoid arthritis. Among these five fragments, one representing residues 21-41, was recognized by antibodies in 57% of pSS patients. Interestingly, this peptide was recognized by only a few (less than or equal to 7%) of SLE sera, while 63% of pSS sera and 46% of SLE sera tested in parallel possessed antibodies reacting in ELISA with purified 60-kD SSA protein. The ELISA results were compared with the pattern of reactivity obtained in immunodiffusion and immunoblotting. The results indicate that the sensitivity of ELISA using peptide 21-41 and pSS sera was in the same range as immunoblotting and higher than immunodiffusion. Thus the peptide 21-41 proved useful for the detection of anti-SSA antibodies in the sera of patients with pSS. Furthermore, a positive ELISA using peptide 21-41 could be of potential use to discriminate pSS with systemic features from SLE. The fact that peptide 21-41 is recognized by antibodies in pSS but only by very few SLE sera implies that different mechanisms are involved in the anti-SSA immune response in these two autoimmune diseases.\n1630\nAutoantibodies reacting with the human Ro 60 kDa protein are present in anti-Ro/SS-A positive sera from patients with several different connective tissue diseases including Sjögren's syndrome and systemic lupus erythematosus. To investigate the humoral immune response to this protein, the pattern of antibody recognition of recombinant Ro 60 kDa proteins encoded by both full-length and deletion clones was analysed by immunoblotting. An antigenic region recognized by nearly all anti-Ro 60 kDa positive sera was found to reside in the middle part of the protein. In addition, some sera reacted with two other antigenic regions located in the amino-terminal and carboxyl-terminal part of the protein. For further mapping, overlapping peptides covering the most frequently recognized region of the protein were synthesized by solid-phase methods and used as antigens in ELISA. Three major patterns of reactivity to Ro 60 kDa peptides were found. These results not only indicate the presence of an immunodominant region but also heterogeneity in the autoimmune human response to the Ro 60 kDa antigen.\n2224\nThe human Y RNAs, small RNAs with an unknown function, are complexed with at least three proteins: the 60,000 M(r) Ro protein (Ro60), the 52,000 M(r) Ro protein (Ro52) and the La protein (La). In this study we examined the intermolecular interactions between the components of these so-called Ro ribonucleoprotein (Ro RNP) complexes. Incubation of 32P-labelled hY1 RNA in HeLa S100 extract allows the reconstitution of Ro RNP complexes, which were analysed by immunoprecipitation with monospecific antisera. By immunodepletion of HeLa S100 extracts for either Ro60, Ro52 or La, followed by supplementation with recombinant Ro60 or La, it was demonstrated that both Ro60 and La bind to hY1 RNA directly without being influenced by one of the other proteins. However, binding of Ro52 to hY1 RNA required the presence of Ro60, which strongly suggests that the association of Ro52 with Ro RNPs is mediated by protein-protein interactions between Ro60 and Ro52.\n2368\nThe SSA/Ro and SSB/La antigens are polypeptides which serve as autoantigens in systemic lupus erythematosus and Sjogren's syndrome. The SSA/Ro contains two major isoforms of 60 kD and 52 kD. The former is the main native antigen while the latter is a major autoantigen in its denatured form. The SSB/La is a single phosphorylated protein of 48 kD. Recently a new protein of 46 kD, termed calregulin, was suggested as an additional component of the SSA/Ro antigens. However, extensive investigations failed to confirm its relation to the SSA/Ro system. Based on molecular techniques and cDNA cloning of these antigens, it was demonstrated that the 60 kD protein is capable of binding RNA and DNA molecules, suggesting a regulatory role in transcription for this antigen. The 52 kD polypeptide contains multiple zinc finger motifs and its sequence is homologous to the mouse rptl protein, which is a T-cell regulating peptide. The SSB/La is associated with precursors of 5S RNA and tRNA, implying that it has a role in the synthesis and maturation of RNA polymerase III transcripts. The 60 kD and 52 kD SSA/Ro components may be associated within the cell. The SSA/Ro and SSB/La may also be in complex in some points of the cell cycle.\n2509\nIn this work we compared in rats the influence of heptapeptide 1-7-angiotensin II, hexapeptide 2-7-angiotensin II, pentapeptide 3-7-angiotensin II and angiotensin II on motility, stereotypy, learning of conditioned avoidance responses and recall of passive avoidance behaviour allowing to avoid aversive stimulation. The 4 peptides administered 15 min before the experiment, tended to increase the number of crossings, rearings and bar approaches in open field, significantly accelerated acquisition of conditioned avoidance responses and improved recall of the passive avoidance. All the peptides applied immediately before the experiment intensified stereotypy evoked by apomorphine in the dose 1 mg/kg and amphetamine in the dose 6.5 mg/kg given intraperitoneally. These results show full psychotropic activity of the examined fragments of angiotensin II, comparable with the activity of the parent octapeptide. Our previous hypothesis that the Val-Tyr-Ile-His-Pro fragment of angiotensin II is responsible for the psychotropic activity evoked by angiotensins in rats is thus confirmed.\n"
     ]
    }
   ],
   "source": [
    "i = 0\n",
    "for j, child in enumerate(root.iter()):\n",
    "    if child.tag == 'Abstract':\n",
    "        print(j)\n",
    "        print (child[0].text)\n",
    "        i = i +1\n",
    "    if i > 11:\n",
    "        break"
   ]
  },
  {
   "cell_type": "code",
   "execution_count": 13,
   "metadata": {},
   "outputs": [
    {
     "output_type": "error",
     "ename": "IndexError",
     "evalue": "list index out of range",
     "traceback": [
      "\u001b[0;31m---------------------------------------------------------------------------\u001b[0m",
      "\u001b[0;31mIndexError\u001b[0m                                Traceback (most recent call last)",
      "\u001b[0;32m<ipython-input-13-bacbba53a088>\u001b[0m in \u001b[0;36m<module>\u001b[0;34m\u001b[0m\n\u001b[1;32m      6\u001b[0m \u001b[0;32mfor\u001b[0m \u001b[0midx\u001b[0m\u001b[0;34m,\u001b[0m \u001b[0mchild\u001b[0m \u001b[0;32min\u001b[0m \u001b[0menumerate\u001b[0m\u001b[0;34m(\u001b[0m\u001b[0mroot\u001b[0m\u001b[0;34m)\u001b[0m\u001b[0;34m:\u001b[0m\u001b[0;34m\u001b[0m\u001b[0;34m\u001b[0m\u001b[0m\n\u001b[1;32m      7\u001b[0m     \u001b[0mtext\u001b[0m \u001b[0;34m=\u001b[0m \u001b[0;32mNone\u001b[0m\u001b[0;34m\u001b[0m\u001b[0;34m\u001b[0m\u001b[0m\n\u001b[0;32m----> 8\u001b[0;31m     \u001b[0;32mfor\u001b[0m \u001b[0mvalue\u001b[0m \u001b[0;32min\u001b[0m \u001b[0mchild\u001b[0m\u001b[0;34m[\u001b[0m\u001b[0;36m0\u001b[0m\u001b[0;34m]\u001b[0m\u001b[0;34m[\u001b[0m\u001b[0;36m3\u001b[0m\u001b[0;34m]\u001b[0m\u001b[0;34m:\u001b[0m\u001b[0;34m\u001b[0m\u001b[0;34m\u001b[0m\u001b[0m\n\u001b[0m\u001b[1;32m      9\u001b[0m         \u001b[0;32mif\u001b[0m \u001b[0mvalue\u001b[0m\u001b[0;34m.\u001b[0m\u001b[0mtag\u001b[0m \u001b[0;34m==\u001b[0m \u001b[0;34m'Abstract'\u001b[0m\u001b[0;34m:\u001b[0m\u001b[0;34m\u001b[0m\u001b[0;34m\u001b[0m\u001b[0m\n\u001b[1;32m     10\u001b[0m             \u001b[0mtext\u001b[0m \u001b[0;34m=\u001b[0m \u001b[0mvalue\u001b[0m\u001b[0;34m[\u001b[0m\u001b[0;36m0\u001b[0m\u001b[0;34m]\u001b[0m\u001b[0;34m.\u001b[0m\u001b[0mtext\u001b[0m\u001b[0;34m\u001b[0m\u001b[0;34m\u001b[0m\u001b[0m\n",
      "\u001b[0;32msrc/lxml/etree.pyx\u001b[0m in \u001b[0;36mlxml.etree._Element.__getitem__\u001b[0;34m()\u001b[0m\n",
      "\u001b[0;31mIndexError\u001b[0m: list index out of range"
     ]
    }
   ],
   "source": [
    "input_directory = ''\n",
    "filename = \"pubmed21n1063.xml\"\n",
    "tree = etree.parse(os.path.join(input_directory, filename))\n",
    "root = tree.getroot()\n",
    "abstracts = {}\n",
    "for idx, child in enumerate(root):\n",
    "    text = None\n",
    "    for value in child[0][3]:\n",
    "        if value.tag == 'Abstract':\n",
    "            text = value[0].text\n",
    "            break\n",
    "    if not text:\n",
    "        continue\n",
    "    text = \" \".join(text.split())\n",
    "    if text != \"\\n\" and text:\n",
    "        abstracts[str(idx)] = text\n",
    "output_abstracts = [':'.join([key, value]) for key, value in abstracts.items()]\n"
   ]
  },
  {
   "cell_type": "code",
   "execution_count": 15,
   "metadata": {},
   "outputs": [
    {
     "output_type": "execute_result",
     "data": {
      "text/plain": [
       "<Element PubmedArticleSet at 0x7f5c1ebf4840>"
      ]
     },
     "metadata": {},
     "execution_count": 15
    }
   ],
   "source": [
    "root"
   ]
  },
  {
   "cell_type": "code",
   "execution_count": 171,
   "metadata": {},
   "outputs": [
    {
     "output_type": "execute_result",
     "data": {
      "text/plain": [
       "'The renin angiotensin system (RAS) plays an important role in the pathogenesis of variety of diseases. Targeting the formation and action of angiotensin II (Ang II), the main RAS peptide, has been the key therapeutic target for last three decades. ACE-related carboxypeptidase (ACE2), a monocarboxypeptidase that had been discovered 20 years ago, is one of the catalytically most potent enzymes known to degrade Ang II to Ang-(1-7), a peptide that is increasingly accepted to have organ-protective properties that oppose and counterbalance those of Ang II. In addition to its role as a RAS enzyme ACE2 is the main receptor for SARS-CoV-2. In this review, we discuss various strategies that have been used to achieve amplification of ACE2 activity including the potential therapeutic potential of soluble recombinant ACE2 protein and novel shorter ACE2 variants.'"
      ]
     },
     "metadata": {},
     "execution_count": 171
    }
   ],
   "source": [
    "abstract"
   ]
  },
  {
   "cell_type": "code",
   "execution_count": 88,
   "metadata": {},
   "outputs": [],
   "source": [
    "# Load short forms dataframe\n",
    "ADAM_DF: pd.DataFrame = pd.read_csv(\"../../datasets/adam/valid_adam.txt\", sep='\\t')"
   ]
  },
  {
   "cell_type": "code",
   "execution_count": 181,
   "metadata": {
    "tags": [
     "outputPrepend"
    ]
   },
   "outputs": [
    {
     "output_type": "stream",
     "name": "stdout",
     "text": [
      "       DTC  DTC:8|dtc:2  dithiocarbamate\n",
      "      PREFERRED_AB VARIANT_AB                  EXPANSION\n",
      "22633         dUMP     dUMP:9  deoxyuridinemonophosphate\n",
      "      PREFERRED_AB VARIANT_AB       EXPANSION\n",
      "22635         dUMP     dUMP:9  deoxyuridylate\n",
      "      PREFERRED_AB VARIANT_AB         EXPANSION\n",
      "22640          DBT     DBT:78  dibenzothiophene\n",
      "      PREFERRED_AB VARIANT_AB EXPANSION\n",
      "22663           DO  DO:7|do:2     hlado\n",
      "      PREFERRED_AB VARIANT_AB               EXPANSION\n",
      "22671          DRM     DRM:18  deeseroedigermcdermott\n",
      "      PREFERRED_AB VARIANT_AB   EXPANSION\n",
      "22672          DRM      DRM:9  doramectin\n",
      "      PREFERRED_AB VARIANT_AB       EXPANSION\n",
      "22674        dsDNA    dsDNA:9  doublestranded\n",
      "      PREFERRED_AB VARIANT_AB          EXPANSION\n",
      "22689           DS  DS:9|ds:1  diazepamsensitive\n",
      "      PREFERRED_AB      VARIANT_AB        EXPANSION\n",
      "22728         ECoG  ECoG:44|ECOG:2  electrocortical\n",
      "      PREFERRED_AB VARIANT_AB              EXPANSION\n",
      "22730         ECoG    ECoG:73  electrocorticographic\n",
      "      PREFERRED_AB VARIANT_AB             EXPANSION\n",
      "22732          EGG     EGG:23  electrogastrographic\n",
      "      PREFERRED_AB VARIANT_AB            EXPANSION\n",
      "22733          EGG    EGG:155  electrogastrography\n",
      "      PREFERRED_AB VARIANT_AB           EXPANSION\n",
      "22734          EGG      EGG:9  electroglottograph\n",
      "      PREFERRED_AB VARIANT_AB             EXPANSION\n",
      "22735          EGG     EGG:23  electroglottographic\n",
      "      PREFERRED_AB VARIANT_AB            EXPANSION\n",
      "22736          EGG     EGG:28  electroglottography\n",
      "      PREFERRED_AB           VARIANT_AB EXPANSION\n",
      "22737          env  env:406|Env:6|ENV:1  envelope\n",
      "      PREFERRED_AB VARIANT_AB             EXPANSION\n",
      "22745          EPG     EPG:10  electropalatographic\n",
      "      PREFERRED_AB VARIANT_AB            EXPANSION\n",
      "22746          EPG     EPG:38  electropalatography\n",
      "      PREFERRED_AB    VARIANT_AB     EXPANSION\n",
      "22748          exp  exp:10|Exp:2  experimental\n",
      "      PREFERRED_AB   VARIANT_AB      EXPANSION\n",
      "22756           FH  FH:18|F-H:3  ficollhypaque\n",
      "      PREFERRED_AB VARIANT_AB        EXPANSION\n",
      "22776         free     free:9  nonproteinbound\n",
      "      PREFERRED_AB VARIANT_AB     EXPANSION\n",
      "22777         free    free:15  unconjugated\n",
      "      PREFERRED_AB VARIANT_AB     EXPANSION\n",
      "22778         free    free:13  unesterified\n",
      "      PREFERRED_AB             VARIANT_AB  EXPANSION\n",
      "22785          glu  glu:816|Glu:42|GLU:13  glutamate\n",
      "      PREFERRED_AB VARIANT_AB           EXPANSION\n",
      "22787          Glx     Glx:15  glutamateglutamine\n",
      "      PREFERRED_AB VARIANT_AB EXPANSION\n",
      "22791           gl      gl:19   glucose\n",
      "      PREFERRED_AB  VARIANT_AB   EXPANSION\n",
      "22792           gl  gl:11|GL:1  glycolipid\n",
      "      PREFERRED_AB                     VARIANT_AB       EXPANSION\n",
      "22810          HLH  HLH:236|H-L-H:3|hlh:1|h-l-h:1  helixloophelix\n",
      "      PREFERRED_AB      VARIANT_AB                     EXPANSION\n",
      "22821          HPG  HPG:90|H-P-G:3  hypothalamicpituitarygonadal\n",
      "      PREFERRED_AB VARIANT_AB                    EXPANSION\n",
      "22822          HPG     HPG:25  hypothalamopituitarygonadal\n",
      "      PREFERRED_AB VARIANT_AB                     EXPANSION\n",
      "22823          HPG      HPG:9  hypothalamuspituitarygonadal\n",
      "      PREFERRED_AB VARIANT_AB EXPANSION\n",
      "22841          HIM      HIM:9  hyperigm\n",
      "      PREFERRED_AB VARIANT_AB EXPANSION\n",
      "22861         i.a.    i.a.:22    artery\n",
      "      PREFERRED_AB VARIANT_AB     EXPANSION\n",
      "22864       i.c.v.  i.c.v.:14  pretreatment\n",
      "      PREFERRED_AB VARIANT_AB       EXPANSION\n",
      "22868         i.c.    i.c.:15  intracutaneous\n",
      "      PREFERRED_AB      VARIANT_AB     EXPANSION\n",
      "22873         i.g.  i.g.:97|I.G.:2  intragastric\n",
      "      PREFERRED_AB      VARIANT_AB         EXPANSION\n",
      "22874         i.g.  i.g.:46|I.G.:1  intragastrically\n",
      "      PREFERRED_AB VARIANT_AB     EXPANSION\n",
      "22875        i.pl.   i.pl.:68  intraplantar\n",
      "      PREFERRED_AB VARIANT_AB     EXPANSION\n",
      "22876        i.pl.   i.pl.:18  intrapleural\n",
      "      PREFERRED_AB VARIANT_AB  EXPANSION\n",
      "22879         i.t.     i.t.:9  injection\n",
      "      PREFERRED_AB VARIANT_AB      EXPANSION\n",
      "22880         i.t.    i.t.:13  intrathoracic\n",
      "      PREFERRED_AB VARIANT_AB   EXPANSION\n",
      "22882         i.v.    i.v.:12  injections\n",
      "      PREFERRED_AB VARIANT_AB      EXPANSION\n",
      "22887          I/M     I/M:11  intimatomedia\n",
      "      PREFERRED_AB VARIANT_AB      EXPANSION\n",
      "22888          I/M      I/M:9  intimalmedial\n",
      "      PREFERRED_AB   VARIANT_AB       EXPANSION\n",
      "22914          IDE  IDE:6|ide:3  erythropoiesis\n",
      "      PREFERRED_AB                  VARIANT_AB            EXPANSION\n",
      "22918       indels  indels:8|INDELs:1|InDels:1  insertionsdeletions\n",
      "      PREFERRED_AB VARIANT_AB   EXPANSION\n",
      "22920          ind     ind:12  indapamide\n",
      "      PREFERRED_AB   VARIANT_AB      EXPANSION\n",
      "22921          ind  ind:7|Ind:2  indeterminate\n",
      "      PREFERRED_AB VARIANT_AB                      EXPANSION\n",
      "22926           IQ      IQ:10  aminomethylhimidazofquinoline\n",
      "      PREFERRED_AB VARIANT_AB                     EXPANSION\n",
      "22927           IQ      IQ:25  aminomethylimidazofquinoline\n",
      "      PREFERRED_AB VARIANT_AB   EXPANSION\n",
      "22928           IQ      IQ:12  fquinoline\n",
      "      PREFERRED_AB VARIANT_AB     EXPANSION\n",
      "22929           IQ      IQ:10  ilimaquinone\n",
      "      PREFERRED_AB  VARIANT_AB     EXPANSION\n",
      "22930           IQ  IQ:39|iq:1  intelligence\n",
      "      PREFERRED_AB VARIANT_AB      EXPANSION\n",
      "22931           IQ      IQ:11  interquartile\n",
      "      PREFERRED_AB   VARIANT_AB  EXPANSION\n",
      "22940          IVT  IVT:8|ivt:1  ventricle\n",
      "      PREFERRED_AB VARIANT_AB      EXPANSION\n",
      "22945           K1      K1:13  phylloquinone\n",
      "      PREFERRED_AB  VARIANT_AB     EXPANSION\n",
      "22946           Kv  Kv:18|KV:2  voltagegated\n",
      "      PREFERRED_AB    VARIANT_AB   EXPANSION\n",
      "22956          lev  lev:39|Lev:4  levamisole\n",
      "      PREFERRED_AB     VARIANT_AB      EXPANSION\n",
      "22957          lev  lev:59|Lev:20  levetiracetam\n",
      "      PREFERRED_AB    VARIANT_AB   EXPANSION\n",
      "22975          m/z  m/z:13|M/Z:1  masscharge\n",
      "      PREFERRED_AB VARIANT_AB     EXPANSION\n",
      "22976          m/z     m/z:19  masstocharge\n",
      "      PREFERRED_AB VARIANT_AB          EXPANSION\n",
      "22978          MCG     MCG:27  magnetocardiogram\n",
      "      PREFERRED_AB VARIANT_AB             EXPANSION\n",
      "22979          MCG     MCG:29  magnetocardiographic\n",
      "      PREFERRED_AB VARIANT_AB            EXPANSION\n",
      "22980          MCG     MCG:44  magnetocardiography\n",
      "      PREFERRED_AB VARIANT_AB EXPANSION\n",
      "22993           MF      MF:12    fibres\n",
      "      PREFERRED_AB VARIANT_AB      EXPANSION\n",
      "23001           MF      MF:28  microfilament\n",
      "      PREFERRED_AB      VARIANT_AB       EXPANSION\n",
      "23002           mf  mf:7|MF:4|Mf:1  microfilaremia\n",
      "      PREFERRED_AB             VARIANT_AB     EXPANSION\n",
      "23003           mf  mf:70|MF:13|Mf:7|mF:1  microfilaria\n",
      "      PREFERRED_AB       VARIANT_AB      EXPANSION\n",
      "23004           mf  mf:28|Mf:5|MF:4  microfilarial\n",
      "      PREFERRED_AB VARIANT_AB        EXPANSION\n",
      "23005           MF      MF:38  microfiltration\n",
      "      PREFERRED_AB VARIANT_AB     EXPANSION\n",
      "23007           MF       MF:9  midfrequency\n",
      "      PREFERRED_AB VARIANT_AB  EXPANSION\n",
      "23014           MF       MF:9  motherfed\n",
      "      PREFERRED_AB   VARIANT_AB          EXPANSION\n",
      "23027          MAN  MAN:7|man:2  methacrylonitrile\n",
      "      PREFERRED_AB    VARIANT_AB            EXPANSION\n",
      "23029          mdx  mdx:26|MDX:1  dystrophindeficient\n",
      "      PREFERRED_AB           VARIANT_AB  \\\n",
      "23031       MeCCNU  MeCCNU:10|Me-CCNU:3   \n",
      "\n",
      "                                    EXPANSION  \n",
      "23031  chloroethylmethylcyclohexylnitrosourea  \n",
      "      PREFERRED_AB          VARIANT_AB  \\\n",
      "23032       MeCCNU  MeCCNU:8|Me-CCNU:1   \n",
      "\n",
      "                                         EXPANSION  \n",
      "23032  chloroethyltransmethylcyclohexylnitrosourea  \n",
      "      PREFERRED_AB VARIANT_AB EXPANSION\n",
      "23033          min      min:9   minutes\n",
      "      PREFERRED_AB VARIANT_AB          EXPANSION\n",
      "23039         MMHg     MMHg:9  monomethylmercury\n",
      "      PREFERRED_AB VARIANT_AB     EXPANSION\n",
      "23042          MOM     MOM:11  metalonmetal\n",
      "      PREFERRED_AB VARIANT_AB   EXPANSION\n",
      "23044          MOM     MOM:15  miocamycin\n",
      "      PREFERRED_AB VARIANT_AB   EXPANSION\n",
      "23045          MOM     MOM:13  miokamycin\n",
      "      PREFERRED_AB  VARIANT_AB   EXPANSION\n",
      "23053           mo  mo:93|Mo:7  molybdenum\n",
      "      PREFERRED_AB  VARIANT_AB EXPANSION\n",
      "23054           mo  mo:35|Mo:2  monocyte\n",
      "      PREFERRED_AB  VARIANT_AB             EXPANSION\n",
      "23055           mo  mo:18|Mo:1  monocytesmacrophages\n",
      "      PREFERRED_AB VARIANT_AB  EXPANSION\n",
      "23056           mo  mo:9|Mo:1  monoolein\n",
      "      PREFERRED_AB VARIANT_AB EXPANSION\n",
      "23059           mo       mo:9   mottled\n",
      "      PREFERRED_AB VARIANT_AB  EXPANSION\n",
      "23070           MU  MU:7|mu:2  megaunits\n",
      "      PREFERRED_AB  VARIANT_AB EXPANSION\n",
      "23073           mu  mu:26|Mu:1    murine\n",
      "      PREFERRED_AB VARIANT_AB   EXPANSION\n",
      "23076           N2      N2:15  dinitrogen\n",
      "      PREFERRED_AB VARIANT_AB EXPANSION\n",
      "23078           NH      NH:10     amide\n",
      "      PREFERRED_AB  VARIANT_AB        EXPANSION\n",
      "23081           NH  NH:28|Nh:2  neurohypophysis\n",
      "      PREFERRED_AB VARIANT_AB  EXPANSION\n",
      "23083           NH      NH:10  norharman\n",
      "      PREFERRED_AB VARIANT_AB     EXPANSION\n",
      "23096         nu/+     nu/+:9  heterozygote\n",
      "      PREFERRED_AB VARIANT_AB   EXPANSION\n",
      "23102         nude     nude:9  hypothymic\n",
      "      PREFERRED_AB VARIANT_AB        EXPANSION\n",
      "23103         nude    nude:10  immunodeficient\n",
      "      PREFERRED_AB     VARIANT_AB           EXPANSION\n",
      "23106          OAT  OAT:15|O-AT:5  oacetyltransferase\n",
      "      PREFERRED_AB     VARIANT_AB         EXPANSION\n",
      "23107          OAT  OAT:10|o-AT:1  oaminoazotoluene\n",
      "      PREFERRED_AB VARIANT_AB                     EXPANSION\n",
      "23108          OAT     OAT:28  oligoasthenoteratozoospermia\n",
      "      PREFERRED_AB VARIANT_AB                       EXPANSION\n",
      "23113          OAT     OAT:16  ornithinedeltaaminotransferase\n",
      "      PREFERRED_AB VARIANT_AB        EXPANSION\n",
      "23116        ob/ob   ob/ob:28  leptindeficient\n",
      "      PREFERRED_AB VARIANT_AB EXPANSION\n",
      "23118          one     one:14  bleeding\n",
      "      PREFERRED_AB VARIANT_AB EXPANSION\n",
      "23119          one      one:9  leukemia\n",
      "      PREFERRED_AB VARIANT_AB    EXPANSION\n",
      "23120          one      one:9  obstruction\n",
      "      PREFERRED_AB VARIANT_AB     EXPANSION\n",
      "23121          one      one:9  pancreatitis\n",
      "      PREFERRED_AB VARIANT_AB         EXPANSION\n",
      "23144         p.i.    p.i.:14  postimmunization\n",
      "      PREFERRED_AB VARIANT_AB  EXPANSION\n",
      "23147         p.o.    p.o.:15  perorally\n",
      "      PREFERRED_AB                VARIANT_AB               EXPANSION\n",
      "23152         PCMB  PCMB:70|pCMB:29|p-CMB:10  pchloromercuribenzoate\n",
      "      PREFERRED_AB VARIANT_AB                  EXPANSION\n",
      "23159          PGH      PGH:9  phosphoglycolohydroxamate\n",
      "      PREFERRED_AB VARIANT_AB               EXPANSION\n",
      "23174          PHI     PHI:10  phosphohexoseisomerase\n",
      "      PREFERRED_AB  VARIANT_AB EXPANSION\n",
      "23179           pH  pH:15|PH:1   acidity\n",
      "      PREFERRED_AB  VARIANT_AB EXPANSION\n",
      "23180           PH  PH:8|-PH:1   history\n",
      "      PREFERRED_AB VARIANT_AB    EXPANSION\n",
      "23182           PH      PH:18  hyperplasia\n",
      "      PREFERRED_AB  VARIANT_AB EXPANSION\n",
      "23187           PH  PH:12|Ph:8    phenol\n",
      "      PREFERRED_AB VARIANT_AB          EXPANSION\n",
      "23198          PIs     PIs:20  phosphoinositides\n",
      "      PREFERRED_AB VARIANT_AB              EXPANSION\n",
      "23218           PI      PI:11  phosphatidylinositide\n",
      "      PREFERRED_AB VARIANT_AB        EXPANSION\n",
      "23219           PI      PI:21  phosphoinositol\n",
      "      PREFERRED_AB VARIANT_AB EXPANSION\n",
      "23221           PI      PI:24    plaque\n",
      "      PREFERRED_AB VARIANT_AB             EXPANSION\n",
      "23224           PI      PI:17  polyphosphoinositide\n",
      "      PREFERRED_AB  VARIANT_AB      EXPANSION\n",
      "23227           PI  PI:17|pi:5  postinjection\n",
      "      PREFERRED_AB  VARIANT_AB   EXPANSION\n",
      "23231           PI  PI:38|Pi:2  proinsulin\n",
      "      PREFERRED_AB                   VARIANT_AB     EXPANSION\n",
      "23254          PNP  PNP:95|pNP:23|p-NP:16|pnp:1  pnitrophenol\n",
      "      PREFERRED_AB   VARIANT_AB        EXPANSION\n",
      "23255          PNP  PNP:5|pNP:4  paranitrophenol\n",
      "      PREFERRED_AB VARIANT_AB            EXPANSION\n",
      "23259          PNP      PNP:9  poissonnernstplanck\n",
      "      PREFERRED_AB VARIANT_AB EXPANSION\n",
      "23266          POA     POA:10  preoptic\n",
      "      PREFERRED_AB      VARIANT_AB        EXPANSION\n",
      "23274         PACE  PACE:9|PA-CE:1  electrophoresis\n",
      "      PREFERRED_AB   VARIANT_AB  EXPANSION\n",
      "23276          PCD  PCD:9|pcd:1  detection\n",
      "      PREFERRED_AB VARIANT_AB              EXPANSION\n",
      "23285          PDP     PDP:11  pachydermoperiostosis\n",
      "      PREFERRED_AB VARIANT_AB     EXPANSION\n",
      "23302           PD      PD:10  parkinsonian\n",
      "      PREFERRED_AB VARIANT_AB     EXPANSION\n",
      "23303           PD       PD:9  parkinsonism\n",
      "      PREFERRED_AB  VARIANT_AB      EXPANSION\n",
      "23315           PD  PD:12|Pd:7  plasmodesmata\n",
      "      PREFERRED_AB VARIANT_AB   EXPANSION\n",
      "23327           PD      PD:11  progressed\n",
      "      PREFERRED_AB  VARIANT_AB       EXPANSION\n",
      "23332           PD  PD:9|P-D:5  proximaldistal\n",
      "      PREFERRED_AB       VARIANT_AB         EXPANSION\n",
      "23333           PD  PD:10|Pd:4|pd:2  pseudodeficiency\n",
      "      PREFERRED_AB VARIANT_AB                   EXPANSION\n",
      "23340          PIA     PIA:10  nlphenylisopropyladenosine\n",
      "      PREFERRED_AB VARIANT_AB                  EXPANSION\n",
      "23341          PIA     PIA:40  nphenylisopropyladenosine\n",
      "      PREFERRED_AB VARIANT_AB                 EXPANSION\n",
      "23342          PIA     PIA:34  phenylisopropyladenosine\n",
      "      PREFERRED_AB      VARIANT_AB   EXPANSION\n",
      "23350         polh  polh:13|Polh:2  polyhedrin\n",
      "      PREFERRED_AB VARIANT_AB     EXPANSION\n",
      "23352           po  po:7|PO:2  administered\n",
      "      PREFERRED_AB VARIANT_AB         EXPANSION\n",
      "23358           po  po:6|PO:3  parietooccipital\n",
      "      PREFERRED_AB   VARIANT_AB      EXPANSION\n",
      "23363           PO  PO:48|po:19  phenoloxidase\n",
      "      PREFERRED_AB         VARIANT_AB       EXPANSION\n",
      "23364           PO  PO:26|po:15|P-O:1  phosphodiester\n",
      "      PREFERRED_AB VARIANT_AB   EXPANSION\n",
      "23365           po       po:9  polyolefin\n",
      "      PREFERRED_AB   VARIANT_AB  EXPANSION\n",
      "23387          psi  psi:8|Psi:1  packaging\n",
      "      PREFERRED_AB           VARIANT_AB      EXPANSION\n",
      "23394          psi  psi:46|Psi:20|PSI:1  pseudouridine\n",
      "      PREFERRED_AB  VARIANT_AB    EXPANSION\n",
      "23409           R2  R2:10|r2:1  variability\n",
      "      PREFERRED_AB  VARIANT_AB  EXPANSION\n",
      "23410           R2  R2:10|r2:3  variation\n",
      "      PREFERRED_AB VARIANT_AB     EXPANSION\n",
      "23447           RI      RI:37  radioisotope\n",
      "      PREFERRED_AB VARIANT_AB     EXPANSION\n",
      "23493          rat     rat:10  heterologous\n",
      "      PREFERRED_AB VARIANT_AB   EXPANSION\n",
      "23494          rat     rat:12  homologous\n",
      "      PREFERRED_AB VARIANT_AB  EXPANSION\n",
      "23495          rat     rat:36  mammalian\n",
      "      PREFERRED_AB    VARIANT_AB     EXPANSION\n",
      "23498          reg  reg:15|Reg:1  regenerating\n",
      "      PREFERRED_AB    VARIANT_AB    EXPANSION\n",
      "23525          rho  rho:13|Rho:4  correlation\n",
      "      PREFERRED_AB    VARIANT_AB   EXPANSION\n",
      "23526          rho  rho:11|Rho:2  rhodamine \n",
      "      PREFERRED_AB          VARIANT_AB EXPANSION\n",
      "23527          rho  rho:30|Rho:8|RHO:1  rhomboid\n",
      "      PREFERRED_AB VARIANT_AB                EXPANSION\n",
      "23532          RIS     RIS:75  radioimmunoscintigraphy\n",
      "      PREFERRED_AB    VARIANT_AB    EXPANSION\n",
      "23537          ris  ris:15|Ris:1  risedronate\n",
      "      PREFERRED_AB    VARIANT_AB    EXPANSION\n",
      "23538          ris  ris:16|RIS:3  risperidone\n",
      "      PREFERRED_AB VARIANT_AB  EXPANSION\n",
      "23554          SBT     SBT:26  sulbactam\n",
      "      PREFERRED_AB  VARIANT_AB         EXPANSION\n",
      "23578           SX  SX:13|Sx:1  sympathectomized\n",
      "      PREFERRED_AB   VARIANT_AB EXPANSION\n",
      "23595          sec  sec:8|SEC:1  secretin\n",
      "      PREFERRED_AB VARIANT_AB  EXPANSION\n",
      "23596          sec     sec:21  secretory\n",
      "      PREFERRED_AB VARIANT_AB EXPANSION\n",
      "23618           SM  SM:8|sm:2    margin\n",
      "      PREFERRED_AB VARIANT_AB EXPANSION\n",
      "23619           SM      SM:10    memory\n",
      "      PREFERRED_AB      VARIANT_AB   EXPANSION\n",
      "23621           SM  SM:9|Sm:1|sm:1  salmeterol\n",
      "      PREFERRED_AB VARIANT_AB       EXPANSION\n",
      "23626           SM      SM:10  selfmonitoring\n",
      "      PREFERRED_AB       VARIANT_AB        EXPANSION\n",
      "23627           SM  SM:45|Sm:1|sm:1  semimembranosus\n",
      "      PREFERRED_AB VARIANT_AB EXPANSION\n",
      "23632           sm       sm:9   smokers\n",
      "      PREFERRED_AB VARIANT_AB    EXPANSION\n",
      "23633           Sm       Sm:9  sparsomycin\n",
      "      PREFERRED_AB VARIANT_AB      EXPANSION\n",
      "23636           SM      SM:10  sternomastoid\n",
      "      PREFERRED_AB VARIANT_AB      EXPANSION\n",
      "23640           SM      SM:12  submandibular\n",
      "      PREFERRED_AB VARIANT_AB   EXPANSION\n",
      "23641           SM  SM:9|sm:8  submucosal\n",
      "      PREFERRED_AB VARIANT_AB      EXPANSION\n",
      "23642           SM       SM:9  syringomyelia\n",
      "      PREFERRED_AB VARIANT_AB       EXPANSION\n",
      "23666        ssDNA   ssDNA:10  singlestranded\n",
      "      PREFERRED_AB    VARIANT_AB   EXPANSION\n",
      "23676          str  str:24|Str:4  strychnine\n",
      "      PREFERRED_AB VARIANT_AB      EXPANSION\n",
      "23679          SUs     SUs:11  sulfonylureas\n",
      "      PREFERRED_AB VARIANT_AB  EXPANSION\n",
      "23681          syn     syn:18  syncytial\n",
      "      PREFERRED_AB VARIANT_AB           EXPANSION\n",
      "23690          TBA     TBA:44  tetrabutylammonium\n",
      "      PREFERRED_AB VARIANT_AB EXPANSION\n",
      "23704          tau     tau:14  efficacy\n",
      "      PREFERRED_AB VARIANT_AB    EXPANSION\n",
      "23722          TET     TET:72  triethyltin\n",
      "      PREFERRED_AB VARIANT_AB        EXPANSION\n",
      "23725         thal    thal:24  betathalassemia\n",
      "      PREFERRED_AB     VARIANT_AB    EXPANSION\n",
      "23726         thal  thal:9|Thal:1  thalassemia\n",
      "      PREFERRED_AB      VARIANT_AB EXPANSION\n",
      "23737           Tm  Tm:6|tm:2|TM:1  midpoint\n",
      "      PREFERRED_AB        VARIANT_AB       EXPANSION\n",
      "23745           TM  TM:613|Tm:8|tm:4  thrombomodulin\n",
      "      PREFERRED_AB        VARIANT_AB      EXPANSION\n",
      "23753           TM  TM:643|tm:7|Tm:4  transmembrane\n",
      "      PREFERRED_AB  VARIANT_AB  EXPANSION\n",
      "23758           TM  TM:41|tm:2  treadmill\n",
      "      PREFERRED_AB   VARIANT_AB    EXPANSION\n",
      "23759           TM  TM:90|Tm:75  tropomyosin\n",
      "      PREFERRED_AB         VARIANT_AB    EXPANSION\n",
      "23763           TM  TM:101|tm:10|Tm:4  tunicamycin\n",
      "      PREFERRED_AB VARIANT_AB  EXPANSION\n",
      "23788           Ts  Ts:8|ts:3  tailshort\n",
      "      PREFERRED_AB       VARIANT_AB     EXPANSION\n",
      "23789           TS  TS:7|T-S:3|ts:1  takagisugeno\n",
      "      PREFERRED_AB       VARIANT_AB        EXPANSION\n",
      "23795           ts  ts:22|Ts:3|TS:3  thermosensitive\n",
      "      PREFERRED_AB  VARIANT_AB     EXPANSION\n",
      "23796           TS  TS:24|ts:4  thermostable\n",
      "      PREFERRED_AB  VARIANT_AB         EXPANSION\n",
      "23801           ts  ts:10|TS:5  tokishakuyakusan\n",
      "      PREFERRED_AB               VARIANT_AB              EXPANSION\n",
      "23817        TTX-S  TTX-S:45|TTXs:3|TTX-s:2  tetrodotoxinsensitive\n",
      "      PREFERRED_AB               VARIANT_AB     EXPANSION\n",
      "23818        TTX-S  TTX-S:18|TTXs:2|TTX-s:1  ttxsensitive\n",
      "      PREFERRED_AB                               VARIANT_AB      EXPANSION\n",
      "23845   15d-PGJ(2)  15d-PGJ(2):29|15-d-PGJ(2):2|15dPGJ(2):2  deoxydeltapgj\n",
      "      PREFERRED_AB    VARIANT_AB                       EXPANSION\n",
      "23852    8-OH-DPAT  8-OH-DPAT:10  hydroxydinpropylaminotetraline\n",
      "      PREFERRED_AB      VARIANT_AB                 EXPANSION\n",
      "23891  H(+)-ATPase  H(+)-ATPase:15  hadenosinetriphosphatase\n",
      "      PREFERRED_AB              VARIANT_AB            EXPANSION\n",
      "23903      IalphaI  IalphaI:26|I-alpha-I:1  interalphainhibitor\n",
      "      PREFERRED_AB             VARIANT_AB          EXPANSION\n",
      "23919      P450c17  P450c17:21|P-450c17:4   alphahydroxylase\n",
      "         PREFERRED_AB                          VARIANT_AB  \\\n",
      "23948  [35S]GTPgammaS  [35S]GTPgammaS:8|[35S]GTP-gammaS:1   \n",
      "\n",
      "                         EXPANSION  \n",
      "23948  sguanosineothiotriphosphate  \n",
      "         PREFERRED_AB         VARIANT_AB                    EXPANSION\n",
      "23949  [35S]GTPgammaS  [35S]GTPgammaS:15  guanosineosthiotriphosphate\n",
      "      PREFERRED_AB             VARIANT_AB                    EXPANSION\n",
      "23958     alpha-MG  alpha-MG:12|alphaMG:3  alphamethyldglucopyranoside\n",
      "      PREFERRED_AB             VARIANT_AB              EXPANSION\n",
      "23959     alpha-MG  alpha-MG:10|alphaMG:1  alphamethyldglucoside\n",
      "      PREFERRED_AB             VARIANT_AB           EXPANSION\n",
      "23969     beta-gal  beta-gal:9|beta-Gal:6  betadgalactosidase\n"
     ]
    }
   ],
   "source": [
    "for expansion in ADAM_DF.EXPANSION:\n",
    "    if len(tokenize(expansion, \"en\"))==1:\n",
    "        print(ADAM_DF[ADAM_DF.EXPANSION==expansion])        "
   ]
  },
  {
   "cell_type": "code",
   "execution_count": 182,
   "metadata": {},
   "outputs": [
    {
     "output_type": "execute_result",
     "data": {
      "text/plain": [
       "[1, 1, 1]"
      ]
     },
     "metadata": {},
     "execution_count": 182
    }
   ],
   "source": [
    "[len(expansion.split()) for expansion in expansions]"
   ]
  },
  {
   "cell_type": "code",
   "execution_count": 184,
   "metadata": {},
   "outputs": [
    {
     "output_type": "execute_result",
     "data": {
      "text/plain": [
       "['carboxypeptidase', 'receptor', 'variants']"
      ]
     },
     "metadata": {},
     "execution_count": 184
    }
   ],
   "source": [
    "wcs = [len(expansion.split()) for expansion in expansions]\n",
    "first_words = [expansion.split()[0] for expansion in expansions]\n",
    "first_words"
   ]
  },
  {
   "cell_type": "code",
   "execution_count": 237,
   "metadata": {},
   "outputs": [],
   "source": [
    "abstract_problem = 'neutrophils are the most abundant circulating white blood cells and are the central players of the innate immune response during their lifecycle neutrophils mainly evolve under low oxygen conditions o'"
   ]
  },
  {
   "cell_type": "code",
   "execution_count": 187,
   "metadata": {},
   "outputs": [],
   "source": [
    "expansions\n",
    "import numpy as np"
   ]
  },
  {
   "cell_type": "code",
   "execution_count": 188,
   "metadata": {},
   "outputs": [
    {
     "output_type": "execute_result",
     "data": {
      "text/plain": [
       "1"
      ]
     },
     "metadata": {},
     "execution_count": 188
    }
   ],
   "source": [
    "max_wc = np.max(wcs)\n",
    "max_wc"
   ]
  },
  {
   "cell_type": "code",
   "execution_count": 231,
   "metadata": {},
   "outputs": [
    {
     "output_type": "stream",
     "name": "stdout",
     "text": [
      "(6, 9)\n(21, 24)\n"
     ]
    }
   ],
   "source": [
    "from re import finditer\n",
    "for match in finditer(\"hiv\", \"hello hiv my name is hiv\", 1):\n",
    "    print(match.span())"
   ]
  },
  {
   "cell_type": "code",
   "execution_count": 236,
   "metadata": {},
   "outputs": [
    {
     "output_type": "execute_result",
     "data": {
      "text/plain": [
       "(6, 9)"
      ]
     },
     "metadata": {},
     "execution_count": 236
    }
   ],
   "source": [
    "list(finditer(\"hiv\", \"hello hiv my name is hiv\", 1))[0].span()"
   ]
  },
  {
   "cell_type": "code",
   "execution_count": 190,
   "metadata": {},
   "outputs": [],
   "source": [
    "import random\n",
    "\n",
    "def decision(probability):\n",
    "    return random.random() < probability"
   ]
  },
  {
   "cell_type": "code",
   "execution_count": 238,
   "metadata": {},
   "outputs": [],
   "source": [
    "\n",
    "dict_abb = dict(zip(ADAM_DF.EXPANSION,ADAM_DF.PREFERRED_AB))\n",
    "# Get the long forms that appear in the abstract\n",
    "matches: list = [long_form for long_form in ADAM_DF.EXPANSION.to_list() if long_form in abstract_problem]"
   ]
  },
  {
   "cell_type": "code",
   "execution_count": 239,
   "metadata": {},
   "outputs": [
    {
     "output_type": "execute_result",
     "data": {
      "text/plain": [
       "['central', 'neutrophil', 'layer', 'white blood cells', 'white']"
      ]
     },
     "metadata": {},
     "execution_count": 239
    }
   ],
   "source": [
    "matches"
   ]
  },
  {
   "cell_type": "code",
   "execution_count": 240,
   "metadata": {},
   "outputs": [
    {
     "output_type": "execute_result",
     "data": {
      "text/plain": [
       "'neutrophils are the most abundant circulating white blood cells and are the central players of the innate immune response during their lifecycle neutrophils mainly evolve under low oxygen conditions o'"
      ]
     },
     "metadata": {},
     "execution_count": 240
    }
   ],
   "source": [
    "abstract_problem"
   ]
  },
  {
   "cell_type": "code",
   "execution_count": 257,
   "metadata": {},
   "outputs": [],
   "source": [
    "import re\n",
    "word = 'is result'.strip\n",
    "editor = \"This is result of the match\"\n",
    "new_editor = re.sub(r\"\\b\"+word+\"\\b\",\"resultado\",editor)"
   ]
  },
  {
   "cell_type": "code",
   "execution_count": 265,
   "metadata": {},
   "outputs": [
    {
     "output_type": "execute_result",
     "data": {
      "text/plain": [
       "False"
      ]
     },
     "metadata": {},
     "execution_count": 265
    }
   ],
   "source": [
    "decision(0)"
   ]
  },
  {
   "cell_type": "code",
   "execution_count": null,
   "metadata": {},
   "outputs": [],
   "source": []
  },
  {
   "cell_type": "code",
   "execution_count": 249,
   "metadata": {},
   "outputs": [
    {
     "output_type": "execute_result",
     "data": {
      "text/plain": [
       "      PREFERRED_AB   VARIANT_AB            EXPANSION\n",
       "19260           SL        SL:13   cardiac sarcolemma\n",
       "19261           SL        SL:19  cardiac sarcolemmal\n",
       "19262           SL         SL:9   db sensation level\n",
       "19263           SL        SL:14                layer\n",
       "19264           SL        SL:20         scapholunate\n",
       "19265           SL         SL:6      sham laparotomy\n",
       "19266           SL         SL:8        short latency\n",
       "19267           SL        SL:11        sleep latency\n",
       "19268           SL        SL:16           smyth line\n",
       "19269           SL         SL:6       sodium lactate\n",
       "19270           SL         SL:6            spin lock\n",
       "19271           SL        SL:13      spiral ligament\n",
       "19272           SL  SL:104|sl:1       spliced leader\n",
       "19273           SL        SL:16             stemloop\n",
       "19274           SL         SL:9   stereolithographic\n",
       "19275           SL        SL:24        stride length\n",
       "19276           SL        SL:10    structured lipids\n",
       "19277           SL   SL:26|sl:2           sublingual\n",
       "19278           SL         SL:9    surface laplacian\n",
       "19279           SL         SL:8      surrogate light\n",
       "19280           SL        SL:11  suspensory ligament"
      ],
      "text/html": "<div>\n<style scoped>\n    .dataframe tbody tr th:only-of-type {\n        vertical-align: middle;\n    }\n\n    .dataframe tbody tr th {\n        vertical-align: top;\n    }\n\n    .dataframe thead th {\n        text-align: right;\n    }\n</style>\n<table border=\"1\" class=\"dataframe\">\n  <thead>\n    <tr style=\"text-align: right;\">\n      <th></th>\n      <th>PREFERRED_AB</th>\n      <th>VARIANT_AB</th>\n      <th>EXPANSION</th>\n    </tr>\n  </thead>\n  <tbody>\n    <tr>\n      <th>19260</th>\n      <td>SL</td>\n      <td>SL:13</td>\n      <td>cardiac sarcolemma</td>\n    </tr>\n    <tr>\n      <th>19261</th>\n      <td>SL</td>\n      <td>SL:19</td>\n      <td>cardiac sarcolemmal</td>\n    </tr>\n    <tr>\n      <th>19262</th>\n      <td>SL</td>\n      <td>SL:9</td>\n      <td>db sensation level</td>\n    </tr>\n    <tr>\n      <th>19263</th>\n      <td>SL</td>\n      <td>SL:14</td>\n      <td>layer</td>\n    </tr>\n    <tr>\n      <th>19264</th>\n      <td>SL</td>\n      <td>SL:20</td>\n      <td>scapholunate</td>\n    </tr>\n    <tr>\n      <th>19265</th>\n      <td>SL</td>\n      <td>SL:6</td>\n      <td>sham laparotomy</td>\n    </tr>\n    <tr>\n      <th>19266</th>\n      <td>SL</td>\n      <td>SL:8</td>\n      <td>short latency</td>\n    </tr>\n    <tr>\n      <th>19267</th>\n      <td>SL</td>\n      <td>SL:11</td>\n      <td>sleep latency</td>\n    </tr>\n    <tr>\n      <th>19268</th>\n      <td>SL</td>\n      <td>SL:16</td>\n      <td>smyth line</td>\n    </tr>\n    <tr>\n      <th>19269</th>\n      <td>SL</td>\n      <td>SL:6</td>\n      <td>sodium lactate</td>\n    </tr>\n    <tr>\n      <th>19270</th>\n      <td>SL</td>\n      <td>SL:6</td>\n      <td>spin lock</td>\n    </tr>\n    <tr>\n      <th>19271</th>\n      <td>SL</td>\n      <td>SL:13</td>\n      <td>spiral ligament</td>\n    </tr>\n    <tr>\n      <th>19272</th>\n      <td>SL</td>\n      <td>SL:104|sl:1</td>\n      <td>spliced leader</td>\n    </tr>\n    <tr>\n      <th>19273</th>\n      <td>SL</td>\n      <td>SL:16</td>\n      <td>stemloop</td>\n    </tr>\n    <tr>\n      <th>19274</th>\n      <td>SL</td>\n      <td>SL:9</td>\n      <td>stereolithographic</td>\n    </tr>\n    <tr>\n      <th>19275</th>\n      <td>SL</td>\n      <td>SL:24</td>\n      <td>stride length</td>\n    </tr>\n    <tr>\n      <th>19276</th>\n      <td>SL</td>\n      <td>SL:10</td>\n      <td>structured lipids</td>\n    </tr>\n    <tr>\n      <th>19277</th>\n      <td>SL</td>\n      <td>SL:26|sl:2</td>\n      <td>sublingual</td>\n    </tr>\n    <tr>\n      <th>19278</th>\n      <td>SL</td>\n      <td>SL:9</td>\n      <td>surface laplacian</td>\n    </tr>\n    <tr>\n      <th>19279</th>\n      <td>SL</td>\n      <td>SL:8</td>\n      <td>surrogate light</td>\n    </tr>\n    <tr>\n      <th>19280</th>\n      <td>SL</td>\n      <td>SL:11</td>\n      <td>suspensory ligament</td>\n    </tr>\n  </tbody>\n</table>\n</div>"
     },
     "metadata": {},
     "execution_count": 249
    }
   ],
   "source": [
    "ADAM_DF.loc[ADAM_DF.PREFERRED_AB=='SL']"
   ]
  },
  {
   "cell_type": "code",
   "execution_count": 208,
   "metadata": {},
   "outputs": [],
   "source": [
    "x = ADAM_DF[['EXPANSION', 'PREFERRED_AB']].to_dict()"
   ]
  },
  {
   "cell_type": "code",
   "execution_count": 346,
   "metadata": {},
   "outputs": [],
   "source": [
    "    def decision() -> bool:\n",
    "        \"\"\"\n",
    "        Return True/False based on a given probability.\n",
    "        \"\"\"\n",
    "        return random.random() < 0.5"
   ]
  },
  {
   "cell_type": "code",
   "execution_count": 368,
   "metadata": {},
   "outputs": [
    {
     "output_type": "execute_result",
     "data": {
      "text/plain": [
       "['casa', 'pasa']"
      ]
     },
     "metadata": {},
     "execution_count": 368
    }
   ],
   "source": [
    "long_forms = ['Casa', 'pasa', 'Spain', 'sadfasdf3242']\n",
    "abstract = 'la casa de mi casas no pasa si pasas en nSpainn'\n",
    "matches= [re.findall(r\"\\b%s\\b\" % long_form, abstract, re.IGNORECASE) for long_form in long_forms]\n",
    "matches=list(itertools.chain.from_iterable(matches))\n",
    "matches\n"
   ]
  },
  {
   "cell_type": "code",
   "execution_count": 360,
   "metadata": {},
   "outputs": [
    {
     "output_type": "execute_result",
     "data": {
      "text/plain": [
       "'la casa de mi casas no pasa si pasas en nSpainn'"
      ]
     },
     "metadata": {},
     "execution_count": 360
    }
   ],
   "source": [
    "x = [word for word in ['Casa', 'pasa', 'Spain'] if decision()]\n",
    "abstract"
   ]
  },
  {
   "cell_type": "code",
   "execution_count": 366,
   "metadata": {},
   "outputs": [
    {
     "output_type": "execute_result",
     "data": {
      "text/plain": [
       "[(23, 27), (3, 7)]"
      ]
     },
     "metadata": {},
     "execution_count": 366
    }
   ],
   "source": [
    "long_forms = ['pasa', 'casa']\n",
    "abstract = 'la casa de mi casas no pasa si pasas en nSpainn casa casa'\n",
    "matches= [re.search(r\"\\b%s\\b\" % long_form, abstract).span() for long_form in long_forms]\n",
    "matches"
   ]
  },
  {
   "cell_type": "code",
   "execution_count": 338,
   "metadata": {},
   "outputs": [],
   "source": [
    "long_forms = ['Spain']\n",
    "matches= [re.findall(r\"\\b%s\\b\" % long_form, abstract) for long_form in long_forms]\n"
   ]
  },
  {
   "cell_type": "code",
   "execution_count": 340,
   "metadata": {},
   "outputs": [
    {
     "output_type": "execute_result",
     "data": {
      "text/plain": [
       "[]"
      ]
     },
     "metadata": {},
     "execution_count": 340
    }
   ],
   "source": [
    "re.findall(r\"\\b%s\\b\" % 'SFSA', abstract) "
   ]
  },
  {
   "cell_type": "code",
   "execution_count": 335,
   "metadata": {},
   "outputs": [
    {
     "output_type": "execute_result",
     "data": {
      "text/plain": [
       "['casa', 'pasa']"
      ]
     },
     "metadata": {},
     "execution_count": 335
    }
   ],
   "source": [
    "import itertools\n",
    "list(itertools.chain.from_iterable(matches))\n"
   ]
  },
  {
   "cell_type": "code",
   "execution_count": 378,
   "metadata": {},
   "outputs": [
    {
     "output_type": "execute_result",
     "data": {
      "text/plain": [
       "  long_form span abstract\n",
       "0         1    2        3"
      ],
      "text/html": "<div>\n<style scoped>\n    .dataframe tbody tr th:only-of-type {\n        vertical-align: middle;\n    }\n\n    .dataframe tbody tr th {\n        vertical-align: top;\n    }\n\n    .dataframe thead th {\n        text-align: right;\n    }\n</style>\n<table border=\"1\" class=\"dataframe\">\n  <thead>\n    <tr style=\"text-align: right;\">\n      <th></th>\n      <th>long_form</th>\n      <th>span</th>\n      <th>abstract</th>\n    </tr>\n  </thead>\n  <tbody>\n    <tr>\n      <th>0</th>\n      <td>1</td>\n      <td>2</td>\n      <td>3</td>\n    </tr>\n  </tbody>\n</table>\n</div>"
     },
     "metadata": {},
     "execution_count": 378
    }
   ],
   "source": [
    "results = pd.DataFrame(columns = ['long_form', 'span', 'abstract'])\n",
    "results = results.append({'long_form': 1, 'span': 2, 'abstract':3}, ignore_index=True)\n",
    "results"
   ]
  },
  {
   "cell_type": "code",
   "execution_count": 449,
   "metadata": {},
   "outputs": [
    {
     "output_type": "stream",
     "name": "stdout",
     "text": [
      "[[], ['Spain']]\n"
     ]
    }
   ],
   "source": [
    "txt = \" The rains rasSpainasdf in Spain\"\n",
    "words = [\"The rain\",\"Spain\"]\n",
    "\n",
    "x = [re.findall(r\"\\b%s\\b\" % word, txt) for word in words]\n",
    "print(x)\n",
    "\n",
    "# Print the run time\n"
   ]
  },
  {
   "cell_type": "code",
   "execution_count": 451,
   "metadata": {},
   "outputs": [
    {
     "output_type": "execute_result",
     "data": {
      "text/plain": [
       "['in']"
      ]
     },
     "metadata": {},
     "execution_count": 451
    }
   ],
   "source": [
    "re.findall(r\"\\b%s\\b\" % 'in', txt)"
   ]
  },
  {
   "cell_type": "code",
   "execution_count": 433,
   "metadata": {},
   "outputs": [],
   "source": [
    "abstract = 'many major allergens bind to hydrophobic lipid like molecules including mus m bet v der p and fel d these ligands are strongly retained and have the potential to influence the sensitization process either through directly stimulating the immune system or altering the biophysical properties of the allergenic protein in order to control for these variables techniques are required for the removal of endogenously bound ligands and if necessary replacement with lipids of known composition the cockroach allergen bla g encloses a large hydrophobic cavity which binds a heterogeneous mixture of endogenous lipids when purified using traditional techniques here we describe a method through which these lipids are removed using reverse phase hplc followed by thermal annealing to yield bla g in either its apo form or reloaded with a user defined mixture of fatty acid or phospholipid cargoes coupling this protocol with biochemical assays reveal that fatty acid cargoes significantly alter the thermostability and proteolytic resistance of bla g with downstream implications for the rate of t cell epitope generation and allergenicity these results highlight the importance of lipid removal reloading protocols such as the one described herein when studying allergens from both recombinant and natural sources the protocol is generalizable to other allergen families including lipocalins mus m pr bet v md der p and uteroglobin fel d providing a valuable tool to study the role of lipids in the allergic response +hiv contractility contractility'\n",
    "x = re.search(r\"\\b%s\\b\" % 'contractilitys', abstract)\n",
    "x"
   ]
  },
  {
   "cell_type": "code",
   "execution_count": 444,
   "metadata": {},
   "outputs": [
    {
     "output_type": "execute_result",
     "data": {
      "text/plain": [
       "<re.Match object; span=(9, 14), match='ergic'>"
      ]
     },
     "metadata": {},
     "execution_count": 444
    }
   ],
   "source": [
    "re.search(r\"\\b%s\\b\" % re.escape('ergic'), \"allergic ergic response\", re.IGNORECASE)\n"
   ]
  },
  {
   "cell_type": "code",
   "execution_count": 447,
   "metadata": {},
   "outputs": [
    {
     "output_type": "execute_result",
     "data": {
      "text/plain": [
       "'many major allergens bind to hydrophobic lipid like molecules including mus m bet v der p and fel d these ligands are strongly retained and have the potential to influence the sensitization process either through directly stimulating the immune system or altering the biophysical properties of the allergenic protein in order to control for these variables techniques are required for the removal of endogenously bound ligands and if necessary replacement with lipids of known composition the cockroach allergen bla g encloses a large hydrophobic cavity which binds a heterogeneous mixture of endogenous lipids when purified using traditional techniques here we describe a method through which these lipids are removed using reverse phase hplc followed by thermal annealing to yield bla g in either its apo form or reloaded with a user defined mixture of fatty acid or phospholipid cargoes coupling this protocol with biochemical assays reveal that fatty acid cargoes significantly alter the thermostability and proteolytic resistance of bla g with downstream implications for the rate of t cell epitope generation and allergenicity these results highlight the importance of lipid removal reloading protocols such as the one described herein when studying allergens from both recombinant and natural sources the protocol is generalizable to other allergen families including lipocalins mus m pr bet v md der p and uteroglobin fel d providing a valuable tool to study the role of lipids in the allergic response +hiv contractility contractility'"
      ]
     },
     "metadata": {},
     "execution_count": 447
    }
   ],
   "source": [
    "replaced_abstract = abstract\n",
    "long_forms = ['as', 'ba']\n",
    "for long_form in long_forms:\n",
    "    replaced_abstract = re.sub(r\"\\b%s\\b\" % long_form, long_form, replaced_abstract, count=1)\n",
    "replaced_abstract"
   ]
  },
  {
   "cell_type": "code",
   "execution_count": null,
   "metadata": {},
   "outputs": [],
   "source": []
  },
  {
   "cell_type": "code",
   "execution_count": 448,
   "metadata": {},
   "outputs": [
    {
     "output_type": "error",
     "ename": "error",
     "evalue": "bad escape \\H at position 0",
     "traceback": [
      "\u001b[0;31m---------------------------------------------------------------------------\u001b[0m",
      "\u001b[0;31merror\u001b[0m                                     Traceback (most recent call last)",
      "\u001b[0;32m<ipython-input-448-3d8f970efd0e>\u001b[0m in \u001b[0;36m<module>\u001b[0;34m\u001b[0m\n\u001b[0;32m----> 1\u001b[0;31m \u001b[0mre\u001b[0m\u001b[0;34m.\u001b[0m\u001b[0mfindall\u001b[0m\u001b[0;34m(\u001b[0m\u001b[0;34mr\"\\%s\"\u001b[0m \u001b[0;34m%\u001b[0m \u001b[0;34m'H(+)-ATPase'\u001b[0m\u001b[0;34m,\u001b[0m \u001b[0;34m\" +dP/dt + sadf\"\u001b[0m\u001b[0;34m,\u001b[0m \u001b[0mre\u001b[0m\u001b[0;34m.\u001b[0m\u001b[0mIGNORECASE\u001b[0m\u001b[0;34m)\u001b[0m\u001b[0;34m\u001b[0m\u001b[0;34m\u001b[0m\u001b[0m\n\u001b[0m",
      "\u001b[0;32m~/.pyenv/versions/3.8.3/lib/python3.8/re.py\u001b[0m in \u001b[0;36mfindall\u001b[0;34m(pattern, string, flags)\u001b[0m\n\u001b[1;32m    239\u001b[0m \u001b[0;34m\u001b[0m\u001b[0m\n\u001b[1;32m    240\u001b[0m     Empty matches are included in the result.\"\"\"\n\u001b[0;32m--> 241\u001b[0;31m     \u001b[0;32mreturn\u001b[0m \u001b[0m_compile\u001b[0m\u001b[0;34m(\u001b[0m\u001b[0mpattern\u001b[0m\u001b[0;34m,\u001b[0m \u001b[0mflags\u001b[0m\u001b[0;34m)\u001b[0m\u001b[0;34m.\u001b[0m\u001b[0mfindall\u001b[0m\u001b[0;34m(\u001b[0m\u001b[0mstring\u001b[0m\u001b[0;34m)\u001b[0m\u001b[0;34m\u001b[0m\u001b[0;34m\u001b[0m\u001b[0m\n\u001b[0m\u001b[1;32m    242\u001b[0m \u001b[0;34m\u001b[0m\u001b[0m\n\u001b[1;32m    243\u001b[0m \u001b[0;32mdef\u001b[0m \u001b[0mfinditer\u001b[0m\u001b[0;34m(\u001b[0m\u001b[0mpattern\u001b[0m\u001b[0;34m,\u001b[0m \u001b[0mstring\u001b[0m\u001b[0;34m,\u001b[0m \u001b[0mflags\u001b[0m\u001b[0;34m=\u001b[0m\u001b[0;36m0\u001b[0m\u001b[0;34m)\u001b[0m\u001b[0;34m:\u001b[0m\u001b[0;34m\u001b[0m\u001b[0;34m\u001b[0m\u001b[0m\n",
      "\u001b[0;32m~/.pyenv/versions/3.8.3/lib/python3.8/re.py\u001b[0m in \u001b[0;36m_compile\u001b[0;34m(pattern, flags)\u001b[0m\n\u001b[1;32m    302\u001b[0m     \u001b[0;32mif\u001b[0m \u001b[0;32mnot\u001b[0m \u001b[0msre_compile\u001b[0m\u001b[0;34m.\u001b[0m\u001b[0misstring\u001b[0m\u001b[0;34m(\u001b[0m\u001b[0mpattern\u001b[0m\u001b[0;34m)\u001b[0m\u001b[0;34m:\u001b[0m\u001b[0;34m\u001b[0m\u001b[0;34m\u001b[0m\u001b[0m\n\u001b[1;32m    303\u001b[0m         \u001b[0;32mraise\u001b[0m \u001b[0mTypeError\u001b[0m\u001b[0;34m(\u001b[0m\u001b[0;34m\"first argument must be string or compiled pattern\"\u001b[0m\u001b[0;34m)\u001b[0m\u001b[0;34m\u001b[0m\u001b[0;34m\u001b[0m\u001b[0m\n\u001b[0;32m--> 304\u001b[0;31m     \u001b[0mp\u001b[0m \u001b[0;34m=\u001b[0m \u001b[0msre_compile\u001b[0m\u001b[0;34m.\u001b[0m\u001b[0mcompile\u001b[0m\u001b[0;34m(\u001b[0m\u001b[0mpattern\u001b[0m\u001b[0;34m,\u001b[0m \u001b[0mflags\u001b[0m\u001b[0;34m)\u001b[0m\u001b[0;34m\u001b[0m\u001b[0;34m\u001b[0m\u001b[0m\n\u001b[0m\u001b[1;32m    305\u001b[0m     \u001b[0;32mif\u001b[0m \u001b[0;32mnot\u001b[0m \u001b[0;34m(\u001b[0m\u001b[0mflags\u001b[0m \u001b[0;34m&\u001b[0m \u001b[0mDEBUG\u001b[0m\u001b[0;34m)\u001b[0m\u001b[0;34m:\u001b[0m\u001b[0;34m\u001b[0m\u001b[0;34m\u001b[0m\u001b[0m\n\u001b[1;32m    306\u001b[0m         \u001b[0;32mif\u001b[0m \u001b[0mlen\u001b[0m\u001b[0;34m(\u001b[0m\u001b[0m_cache\u001b[0m\u001b[0;34m)\u001b[0m \u001b[0;34m>=\u001b[0m \u001b[0m_MAXCACHE\u001b[0m\u001b[0;34m:\u001b[0m\u001b[0;34m\u001b[0m\u001b[0;34m\u001b[0m\u001b[0m\n",
      "\u001b[0;32m~/.pyenv/versions/3.8.3/lib/python3.8/sre_compile.py\u001b[0m in \u001b[0;36mcompile\u001b[0;34m(p, flags)\u001b[0m\n\u001b[1;32m    762\u001b[0m     \u001b[0;32mif\u001b[0m \u001b[0misstring\u001b[0m\u001b[0;34m(\u001b[0m\u001b[0mp\u001b[0m\u001b[0;34m)\u001b[0m\u001b[0;34m:\u001b[0m\u001b[0;34m\u001b[0m\u001b[0;34m\u001b[0m\u001b[0m\n\u001b[1;32m    763\u001b[0m         \u001b[0mpattern\u001b[0m \u001b[0;34m=\u001b[0m \u001b[0mp\u001b[0m\u001b[0;34m\u001b[0m\u001b[0;34m\u001b[0m\u001b[0m\n\u001b[0;32m--> 764\u001b[0;31m         \u001b[0mp\u001b[0m \u001b[0;34m=\u001b[0m \u001b[0msre_parse\u001b[0m\u001b[0;34m.\u001b[0m\u001b[0mparse\u001b[0m\u001b[0;34m(\u001b[0m\u001b[0mp\u001b[0m\u001b[0;34m,\u001b[0m \u001b[0mflags\u001b[0m\u001b[0;34m)\u001b[0m\u001b[0;34m\u001b[0m\u001b[0;34m\u001b[0m\u001b[0m\n\u001b[0m\u001b[1;32m    765\u001b[0m     \u001b[0;32melse\u001b[0m\u001b[0;34m:\u001b[0m\u001b[0;34m\u001b[0m\u001b[0;34m\u001b[0m\u001b[0m\n\u001b[1;32m    766\u001b[0m         \u001b[0mpattern\u001b[0m \u001b[0;34m=\u001b[0m \u001b[0;32mNone\u001b[0m\u001b[0;34m\u001b[0m\u001b[0;34m\u001b[0m\u001b[0m\n",
      "\u001b[0;32m~/.pyenv/versions/3.8.3/lib/python3.8/sre_parse.py\u001b[0m in \u001b[0;36mparse\u001b[0;34m(str, flags, state)\u001b[0m\n\u001b[1;32m    946\u001b[0m \u001b[0;34m\u001b[0m\u001b[0m\n\u001b[1;32m    947\u001b[0m     \u001b[0;32mtry\u001b[0m\u001b[0;34m:\u001b[0m\u001b[0;34m\u001b[0m\u001b[0;34m\u001b[0m\u001b[0m\n\u001b[0;32m--> 948\u001b[0;31m         \u001b[0mp\u001b[0m \u001b[0;34m=\u001b[0m \u001b[0m_parse_sub\u001b[0m\u001b[0;34m(\u001b[0m\u001b[0msource\u001b[0m\u001b[0;34m,\u001b[0m \u001b[0mstate\u001b[0m\u001b[0;34m,\u001b[0m \u001b[0mflags\u001b[0m \u001b[0;34m&\u001b[0m \u001b[0mSRE_FLAG_VERBOSE\u001b[0m\u001b[0;34m,\u001b[0m \u001b[0;36m0\u001b[0m\u001b[0;34m)\u001b[0m\u001b[0;34m\u001b[0m\u001b[0;34m\u001b[0m\u001b[0m\n\u001b[0m\u001b[1;32m    949\u001b[0m     \u001b[0;32mexcept\u001b[0m \u001b[0mVerbose\u001b[0m\u001b[0;34m:\u001b[0m\u001b[0;34m\u001b[0m\u001b[0;34m\u001b[0m\u001b[0m\n\u001b[1;32m    950\u001b[0m         \u001b[0;31m# the VERBOSE flag was switched on inside the pattern.  to be\u001b[0m\u001b[0;34m\u001b[0m\u001b[0;34m\u001b[0m\u001b[0;34m\u001b[0m\u001b[0m\n",
      "\u001b[0;32m~/.pyenv/versions/3.8.3/lib/python3.8/sre_parse.py\u001b[0m in \u001b[0;36m_parse_sub\u001b[0;34m(source, state, verbose, nested)\u001b[0m\n\u001b[1;32m    441\u001b[0m     \u001b[0mstart\u001b[0m \u001b[0;34m=\u001b[0m \u001b[0msource\u001b[0m\u001b[0;34m.\u001b[0m\u001b[0mtell\u001b[0m\u001b[0;34m(\u001b[0m\u001b[0;34m)\u001b[0m\u001b[0;34m\u001b[0m\u001b[0;34m\u001b[0m\u001b[0m\n\u001b[1;32m    442\u001b[0m     \u001b[0;32mwhile\u001b[0m \u001b[0;32mTrue\u001b[0m\u001b[0;34m:\u001b[0m\u001b[0;34m\u001b[0m\u001b[0;34m\u001b[0m\u001b[0m\n\u001b[0;32m--> 443\u001b[0;31m         itemsappend(_parse(source, state, verbose, nested + 1,\n\u001b[0m\u001b[1;32m    444\u001b[0m                            not nested and not items))\n\u001b[1;32m    445\u001b[0m         \u001b[0;32mif\u001b[0m \u001b[0;32mnot\u001b[0m \u001b[0msourcematch\u001b[0m\u001b[0;34m(\u001b[0m\u001b[0;34m\"|\"\u001b[0m\u001b[0;34m)\u001b[0m\u001b[0;34m:\u001b[0m\u001b[0;34m\u001b[0m\u001b[0;34m\u001b[0m\u001b[0m\n",
      "\u001b[0;32m~/.pyenv/versions/3.8.3/lib/python3.8/sre_parse.py\u001b[0m in \u001b[0;36m_parse\u001b[0;34m(source, state, verbose, nested, first)\u001b[0m\n\u001b[1;32m    523\u001b[0m \u001b[0;34m\u001b[0m\u001b[0m\n\u001b[1;32m    524\u001b[0m         \u001b[0;32mif\u001b[0m \u001b[0mthis\u001b[0m\u001b[0;34m[\u001b[0m\u001b[0;36m0\u001b[0m\u001b[0;34m]\u001b[0m \u001b[0;34m==\u001b[0m \u001b[0;34m\"\\\\\"\u001b[0m\u001b[0;34m:\u001b[0m\u001b[0;34m\u001b[0m\u001b[0;34m\u001b[0m\u001b[0m\n\u001b[0;32m--> 525\u001b[0;31m             \u001b[0mcode\u001b[0m \u001b[0;34m=\u001b[0m \u001b[0m_escape\u001b[0m\u001b[0;34m(\u001b[0m\u001b[0msource\u001b[0m\u001b[0;34m,\u001b[0m \u001b[0mthis\u001b[0m\u001b[0;34m,\u001b[0m \u001b[0mstate\u001b[0m\u001b[0;34m)\u001b[0m\u001b[0;34m\u001b[0m\u001b[0;34m\u001b[0m\u001b[0m\n\u001b[0m\u001b[1;32m    526\u001b[0m             \u001b[0msubpatternappend\u001b[0m\u001b[0;34m(\u001b[0m\u001b[0mcode\u001b[0m\u001b[0;34m)\u001b[0m\u001b[0;34m\u001b[0m\u001b[0;34m\u001b[0m\u001b[0m\n\u001b[1;32m    527\u001b[0m \u001b[0;34m\u001b[0m\u001b[0m\n",
      "\u001b[0;32m~/.pyenv/versions/3.8.3/lib/python3.8/sre_parse.py\u001b[0m in \u001b[0;36m_escape\u001b[0;34m(source, escape, state)\u001b[0m\n\u001b[1;32m    424\u001b[0m         \u001b[0;32mif\u001b[0m \u001b[0mlen\u001b[0m\u001b[0;34m(\u001b[0m\u001b[0mescape\u001b[0m\u001b[0;34m)\u001b[0m \u001b[0;34m==\u001b[0m \u001b[0;36m2\u001b[0m\u001b[0;34m:\u001b[0m\u001b[0;34m\u001b[0m\u001b[0;34m\u001b[0m\u001b[0m\n\u001b[1;32m    425\u001b[0m             \u001b[0;32mif\u001b[0m \u001b[0mc\u001b[0m \u001b[0;32min\u001b[0m \u001b[0mASCIILETTERS\u001b[0m\u001b[0;34m:\u001b[0m\u001b[0;34m\u001b[0m\u001b[0;34m\u001b[0m\u001b[0m\n\u001b[0;32m--> 426\u001b[0;31m                 \u001b[0;32mraise\u001b[0m \u001b[0msource\u001b[0m\u001b[0;34m.\u001b[0m\u001b[0merror\u001b[0m\u001b[0;34m(\u001b[0m\u001b[0;34m\"bad escape %s\"\u001b[0m \u001b[0;34m%\u001b[0m \u001b[0mescape\u001b[0m\u001b[0;34m,\u001b[0m \u001b[0mlen\u001b[0m\u001b[0;34m(\u001b[0m\u001b[0mescape\u001b[0m\u001b[0;34m)\u001b[0m\u001b[0;34m)\u001b[0m\u001b[0;34m\u001b[0m\u001b[0;34m\u001b[0m\u001b[0m\n\u001b[0m\u001b[1;32m    427\u001b[0m             \u001b[0;32mreturn\u001b[0m \u001b[0mLITERAL\u001b[0m\u001b[0;34m,\u001b[0m \u001b[0mord\u001b[0m\u001b[0;34m(\u001b[0m\u001b[0mescape\u001b[0m\u001b[0;34m[\u001b[0m\u001b[0;36m1\u001b[0m\u001b[0;34m]\u001b[0m\u001b[0;34m)\u001b[0m\u001b[0;34m\u001b[0m\u001b[0;34m\u001b[0m\u001b[0m\n\u001b[1;32m    428\u001b[0m     \u001b[0;32mexcept\u001b[0m \u001b[0mValueError\u001b[0m\u001b[0;34m:\u001b[0m\u001b[0;34m\u001b[0m\u001b[0;34m\u001b[0m\u001b[0m\n",
      "\u001b[0;31merror\u001b[0m: bad escape \\H at position 0"
     ]
    }
   ],
   "source": [
    "re.findall(r\"\\%s\" % 'H(+)-ATPase', \" +dP/dt + sadf\", re.IGNORECASE)\n"
   ]
  },
  {
   "cell_type": "code",
   "execution_count": null,
   "metadata": {},
   "outputs": [],
   "source": []
  },
  {
   "cell_type": "code",
   "execution_count": 331,
   "metadata": {},
   "outputs": [
    {
     "output_type": "execute_result",
     "data": {
      "text/plain": [
       "'The rain rasSpainasdf in Spain'"
      ]
     },
     "metadata": {},
     "execution_count": 331
    }
   ],
   "source": [
    "txt = \"The rain rasSpainasdf in Spain\"\n",
    "txt_rep = txt\n",
    "words = [\"The rain\",\"Spains\"]\n",
    "reps = [\"th\", \"sp\"]\n",
    "j = 2\n",
    "for word, rep in zip(words, reps):\n",
    "    txt_rep = re.sub(r\"\\b%s\\b\" % word, rep, txt, count=1) if j==2 else txt_rep\n",
    "txt_rep\n",
    "\n",
    "# Print the run time\n"
   ]
  },
  {
   "cell_type": "code",
   "execution_count": null,
   "metadata": {},
   "outputs": [],
   "source": []
  },
  {
   "cell_type": "code",
   "execution_count": 284,
   "metadata": {},
   "outputs": [
    {
     "output_type": "execute_result",
     "data": {
      "text/plain": [
       "False"
      ]
     },
     "metadata": {},
     "execution_count": 284
    }
   ],
   "source": []
  },
  {
   "cell_type": "code",
   "execution_count": 172,
   "metadata": {},
   "outputs": [
    {
     "output_type": "execute_result",
     "data": {
      "text/plain": [
       "['carboxypeptidase', 'receptor ', 'variants']"
      ]
     },
     "metadata": {},
     "execution_count": 172
    }
   ],
   "source": [
    "expansions = [expansion for expansion in ADAM_DF.EXPANSION if expansion in abstract]\n",
    "expansions"
   ]
  },
  {
   "cell_type": "code",
   "execution_count": 178,
   "metadata": {},
   "outputs": [
    {
     "output_type": "execute_result",
     "data": {
      "text/plain": [
       "      PREFERRED_AB VARIANT_AB  EXPANSION\n",
       "10948          KDR      KDR:6  receptor "
      ],
      "text/html": "<div>\n<style scoped>\n    .dataframe tbody tr th:only-of-type {\n        vertical-align: middle;\n    }\n\n    .dataframe tbody tr th {\n        vertical-align: top;\n    }\n\n    .dataframe thead th {\n        text-align: right;\n    }\n</style>\n<table border=\"1\" class=\"dataframe\">\n  <thead>\n    <tr style=\"text-align: right;\">\n      <th></th>\n      <th>PREFERRED_AB</th>\n      <th>VARIANT_AB</th>\n      <th>EXPANSION</th>\n    </tr>\n  </thead>\n  <tbody>\n    <tr>\n      <th>10948</th>\n      <td>KDR</td>\n      <td>KDR:6</td>\n      <td>receptor</td>\n    </tr>\n  </tbody>\n</table>\n</div>"
     },
     "metadata": {},
     "execution_count": 178
    }
   ],
   "source": [
    "ADAM_DF[ADAM_DF.EXPANSION=='receptor ']"
   ]
  },
  {
   "cell_type": "code",
   "execution_count": 92,
   "metadata": {},
   "outputs": [
    {
     "output_type": "execute_result",
     "data": {
      "text/plain": [
       "      PREFERRED_AB    VARIANT_AB                                EXPANSION\n",
       "10944          KDR        KDR:10                   kinase domain receptor\n",
       "10945          KDR  KDR:34|kdr:2  kinase insert domaincontaining receptor\n",
       "10946          KDR         KDR:7    kinase insert domaincontaining region\n",
       "10947          KDR         KDR:7            kinase insert domain receptor\n",
       "10948          KDR         KDR:6                                receptor "
      ],
      "text/html": "<div>\n<style scoped>\n    .dataframe tbody tr th:only-of-type {\n        vertical-align: middle;\n    }\n\n    .dataframe tbody tr th {\n        vertical-align: top;\n    }\n\n    .dataframe thead th {\n        text-align: right;\n    }\n</style>\n<table border=\"1\" class=\"dataframe\">\n  <thead>\n    <tr style=\"text-align: right;\">\n      <th></th>\n      <th>PREFERRED_AB</th>\n      <th>VARIANT_AB</th>\n      <th>EXPANSION</th>\n    </tr>\n  </thead>\n  <tbody>\n    <tr>\n      <th>10944</th>\n      <td>KDR</td>\n      <td>KDR:10</td>\n      <td>kinase domain receptor</td>\n    </tr>\n    <tr>\n      <th>10945</th>\n      <td>KDR</td>\n      <td>KDR:34|kdr:2</td>\n      <td>kinase insert domaincontaining receptor</td>\n    </tr>\n    <tr>\n      <th>10946</th>\n      <td>KDR</td>\n      <td>KDR:7</td>\n      <td>kinase insert domaincontaining region</td>\n    </tr>\n    <tr>\n      <th>10947</th>\n      <td>KDR</td>\n      <td>KDR:7</td>\n      <td>kinase insert domain receptor</td>\n    </tr>\n    <tr>\n      <th>10948</th>\n      <td>KDR</td>\n      <td>KDR:6</td>\n      <td>receptor</td>\n    </tr>\n  </tbody>\n</table>\n</div>"
     },
     "metadata": {},
     "execution_count": 92
    }
   ],
   "source": [
    "ADAM_DF[ADAM_DF.PREFERRED_AB=='KDR']"
   ]
  },
  {
   "cell_type": "code",
   "execution_count": 169,
   "metadata": {},
   "outputs": [
    {
     "output_type": "execute_result",
     "data": {
      "text/plain": [
       "{'the'}"
      ]
     },
     "metadata": {},
     "execution_count": 169
    }
   ],
   "source": [
    "from wordfreq import top_n_list, tokenize # type: ignore\n",
    "set(top_n_list(\"en\", -1, wordlist='best'))"
   ]
  },
  {
   "cell_type": "code",
   "execution_count": 170,
   "metadata": {
    "tags": []
   },
   "outputs": [
    {
     "output_type": "stream",
     "name": "stdout",
     "text": [
      "association for the advancement of medical instrumentation\n",
      "amplitude of the action potential\n",
      "agenesis of the corpus callosum\n",
      "adenomatosis of the colon and rectum\n",
      "presents the official recommendations of the american gastroenterological association\n",
      "presents the official recommendations of the american gastroenterological association\n",
      "caused by the deficiency of glycogendebranching enzyme\n",
      "artificial insemination using the husbands semen\n",
      "first  incidents reported to the australian incident monitoring study\n",
      "stimulation of the aortic nerve\n",
      "activated by the fosjun heterodimeric complex\n",
      "members of the american society of cataract and refractive surgery\n",
      "angiosarcoma of the liver\n",
      "area under the concentrationtime curve from  to  h\n",
      "under the concentrationtime curve from  to  h\n",
      "area under the concentrationtime curves\n",
      "under the plasma concentrationtime curves\n",
      "area under the concentration\n",
      "area under the curve of concentration versus time\n",
      "area under the plasma concentration\n",
      "under the plasma concentrationtime profile\n",
      "area under the first moment curve\n",
      "area under the moment curve\n",
      "artificial ventilation of the lungs\n",
      "dementia of the alzheimer type\n",
      "b cellactivating factor belonging to the tnf family\n",
      "factor from the tnf family\n",
      "diabetes in the biobreeding\n",
      "min to bilateral clamping of the common carotid arteries\n",
      "ligation of the common bile duct\n",
      "basolateral nucleus of the amygdala\n",
      "benign hyperplasia of the prostate\n",
      "below the knee\n",
      "cambridge examination for mental disorders of the elderly\n",
      "cambridge mental disorders of the elderly examination\n",
      "adenocarcinoma of the prostate\n",
      "cancer of the prostate\n",
      "carcinoma of the prostate\n",
      "compound action potential of the auditory nerve\n",
      "congenital cystic adenomatoid malformation of the lung\n",
      "copper chaperone for the superoxide dismutase\n",
      "congenital dislocation of the hip\n",
      "congenital dysplasia of the hip\n",
      "cystic dysplasia of the testis\n",
      "commission of the european communities\n",
      "included examination of the constant error\n",
      "caudal part of the fastigial nucleus\n",
      "colonyforming units in the spleen\n",
      "central institute for the deaf\n",
      "constructive interference in the steady state\n",
      "cancer of the liver italian program\n",
      "congenital pseudarthrosis of the tibia\n",
      "compliance of the respiratory system\n",
      "cavernous transformation of the portal vein\n",
      "coefficient of variation of the rr interval\n",
      "reached the maximum\n",
      "diagnosed at the caries into dentine\n",
      "disability of the arm shoulder and hand\n",
      "drawn from electronic files of data from the drug abuse treatment outcome study\n",
      "ductal carcinoma in situ of the breast\n",
      "dementia of the frontal type\n",
      "reflected by the nonenzymatic formation of dihydroxybenzoic acid\n",
      "diffusing capacity of the lung\n",
      "diffusing capacity of the lung for carbon monoxide\n",
      "diffusion capacity of the lung for carbon monoxide\n",
      "dorsolateral nucleus of the thalamus\n",
      "progressive muscular dystrophy of the duchenne type\n",
      "dorsomedial nucleus of the hypothalamus\n",
      " untranslated region of the myotonic dystrophy protein kinase gene\n",
      "dorsal nerve of the penis\n",
      "democratic republic of the congo\n",
      "driving under the influence of alcohol\n",
      "dorsomedial nucleus of the intercollicular complex\n",
      " of the maximal effect\n",
      " of the maximum effect\n",
      "half of the maximal effect\n",
      "half the maximal response\n",
      "electrical activity of the brain\n",
      "evaluation of e for the prevention of ischemic complications\n",
      "slope of the endsystolic pressurevolume relationship\n",
      "granulosa cells from the first\n",
      "granulosa cells obtained from the largest\n",
      "familial amyloidosis of the finnish type\n",
      "food and agriculture organization of the united nations\n",
      "volume of air expelled in the first second of forced expiration\n",
      "flowmediated dilation of the brachial artery\n",
      "fractional resistance of the apical membrane\n",
      "cells in the ganglion cell layer\n",
      "breakdown of the germinal vesicle\n",
      "hereditary cerebral hemorrhage with amyloidosis of the dutch type\n",
      "electrical stimulation of the hypothalamic defense area\n",
      "horizontal limb of the diagonal band\n",
      "horizontal limb of the diagonal band of broca\n",
      "hemorrhagic fever with the renal syndrome\n",
      "home observation for measurement of the environment\n",
      "activity of the hypothalamuspituitaryadrenocortical\n",
      "caudal nucleus of the ventral hyperstriatum\n",
      "interruption of the aortic arch\n",
      "deficiency of the lysosomal enzyme iduronatesulfatase\n",
      "intermediate and medial part of the hyperstriatum ventrale\n",
      "transection of the infraorbital\n",
      "activation of the inflammatory response system\n",
      "latin america and the caribbean\n",
      "latent autoimmune diabetes of the adult\n",
      "lateral nucleus of the amygdala\n",
      "left displacement of the abomasum\n",
      "hypertensive rats of the lyon strain\n",
      "studied at the light\n",
      "lymph node carcinoma of the prostate\n",
      "presented in either the left\n",
      "lymphocytic infiltration of the skin\n",
      "medullary carcinoma of the thyroid gland\n",
      "intrafemoral artery infusions of the endotheliumdependent vasodilator methacholine chloride\n",
      "mediodorsal nucleus of the thalamus\n",
      "lhrh release from explants of the median eminence area\n",
      "malignant histiocytosis of the intestine\n",
      "mics at which  of the isolates are inhibited\n",
      " of the isolates are inhibited\n",
      "medial nucleus of the solitary tract\n",
      "cells of the mononuclear phagocyte series\n",
      "determine the maximumtolerated dose\n",
      "minisatellite variant repeat mapping by the polymerase chain reaction\n",
      "neurointermediate lobe of the pituitary\n",
      "water immersion to the neck\n",
      "calculate the relative benefit and the numberneededtotreat\n",
      "calculate the relative benefit and the numberneededtotreat\n",
      "nucleus of the posterior commissure\n",
      "nodular regenerative hyperplasia of the liver\n",
      "neovascularization of the disc\n",
      "product of the obesity\n",
      "ossification of the ligamentum flavum\n",
      "ossification of the posterior longitudinal ligament\n",
      "ossification of the posterior longitudinal ligament of the spine\n",
      "ossification of the posterior longitudinal ligament of the spine\n",
      "endogenous ligand of the opioid receptorlike \n",
      "organum vasculosum of the lamina terminalis\n",
      "after the onset of inspiration\n",
      "primary angiitis of the central nervous system\n",
      "primary angiitis of the cns\n",
      "cleavage of the polyadpribosepolymerase\n",
      "cells of the parvocellular\n",
      "e component of the pyruvate dehydrogenase complex\n",
      "belongs to the pentaefhand\n",
      "effect was the prevented fraction\n",
      "prostaglandins of the e series\n",
      "conditioned by leukocytes in the presence of phytohemagglutinin\n",
      "protein named the progesteroneinduced blocking factor\n",
      "inhibitor of the campdependent protein kinase\n",
      "persistent pulmonary hypertension of the neonate\n",
      "persistent pulmonary hypertension of the newborn\n",
      "product of the retinoblastoma gene\n",
      "product of the retinoblastoma tumor suppressor gene\n",
      "principal sensory nucleus of the trigeminal nerve\n",
      "mutations in the presenilin\n",
      "paraventricular nucleus of the thalamus\n",
      "robust nucleus of the archistriatum\n",
      "cells of the reticuloepithelial\n",
      "under the control of the rat insulin promoter\n",
      "under the control of the rat insulin promoter\n",
      "resistance of the lung\n",
      " ms of the qrs complex\n",
      "voltage in the terminal  ms\n",
      "rupture of the membranes\n",
      "resistance of the respiratory system\n",
      "systolic anterior motion of the mitral valve\n",
      "scale for the assessment of positive symptoms\n",
      "squamous cell carcinoma of the esophagus\n",
      "structuredness of the cytoplasmic matrix\n",
      "suprachiasmatic nuclei of the hypothalamus\n",
      "suprachiasmatic nucleus of the hypothalamus\n",
      "senile dementia of the alzheimer type\n",
      "selective decontamination of the digestive tract\n",
      "standard deviation of the difference\n",
      "standard error of the measurement\n",
      "spontaneously hypertensive rats of the munster strain\n",
      "spinal nucleus of the bulbocavernosus\n",
      "annual meeting of the society of toxicology\n",
      "sex determining region of the y\n",
      "sexdetermining region of the y chromosome\n",
      "first twitch of the tof\n",
      "first twitch of the trainoffour\n",
      "studies on the function of concentration maintenance\n",
      "tat protein with the transactivation responsive region\n",
      "transitional cell carcinoma of the bladder\n",
      "transitional cell carcinoma of the urinary bladder\n",
      "inhibition of the nociceptive tailflick\n",
      "transposition of the great arteries\n",
      "transient osteoporosis of the hip\n",
      "translocase of the outer membrane\n",
      "translocase of the outer mitochondrial membrane\n",
      "transgenic adenocarcinoma of the mouse prostate\n",
      "traumatic rupture of the aorta\n",
      "traumatic rupture of the thoracic aorta\n",
      "transient tachypnea of the newborn\n",
      "transient tachypnoea of the newborn\n",
      "transurethral resection of the bladder tumour\n",
      "transurethral resection of the prostate\n",
      "ulnar neuropathy at the elbow\n",
      "volume of the peripheral compartment\n",
      "mandibular division of the trigeminal nerve\n",
      "ventral intermediate nucleus of the thalamus\n",
      "ventrolateral nucleus of the thalamus\n",
      "venoocclusive disease of the liver\n",
      "correction for the residual plasma volume\n",
      "exposure to the trichothecene vomitoxin\n",
      "ventrobasal nucleus of the thalamus\n",
      "maximum rate of rise of the action potential upstroke\n",
      "upstroke velocity of the action potential\n",
      "nucleus of the thalamus\n",
      "gain of the vestibulospinal\n",
      "normotensive control the wistarkyoto rat\n",
      "normotensive rats of the wistarkyoto strain\n",
      "increase in number of the weibelpalade\n",
      "long arm of the y chromosome\n",
      "component of the second heart sound\n",
      "adenocarcinoma of the lung\n",
      "electrical stimulation of the aortic depressor nerve\n",
      "clifton assessment procedures for the elderly\n",
      "magnocellular nucleus of the anterior neostriatum\n",
      "preoptic area of the hypothalamus\n",
      "program of allinclusive care for the elderly\n",
      "along the proximodistal\n",
      "potential difference across the cell membrane\n",
      "probability of the channel being open\n",
      "rostral interstitial nucleus of the medial longitudinal fasciculus\n",
      "squamous cell carcinoma of the cervix\n",
      "squamous cell carcinoma of the skin\n",
      "neurons of the tuberomammillary\n",
      "trial of nonpharmacologic interventions in the elderly\n",
      "transurethral needle ablation of the prostate\n",
      "functional polymorphism in the upstream regulatory region of the serotonin transporter gene\n",
      "functional polymorphism in the upstream regulatory region of the serotonin transporter gene\n",
      "polymorphism in the promoter region of the serotonin transporter gene\n",
      "polymorphism in the promoter region of the serotonin transporter gene\n",
      "cognitive subscale of the alzheimers disease assessment scale\n",
      "forced expiratory flow during the middle half of fvc\n",
      "ratio of the preejection period to left ventricular ejection time\n",
      "polyacrylamide gel electrophoresis in the presence of sds\n",
      "polyacrylamide gel electrophoresis in the presence of sodium dodecyl sulfate\n",
      "cterminal domain of the rna polymerase alpha subunit\n",
      "encodes a member of the basichelixloophelixleucine zipper\n",
      "phosphorylation of the alpha subunit of eukaryotic initiation factor \n"
     ]
    }
   ],
   "source": [
    "for i in ADAM_DF.EXPANSION:\n",
    "    for item in  tokenize(i, \"en\"):\n",
    "        if item in set(top_n_list(\"en\", 0, wordlist='best')):\n",
    "            print(i)"
   ]
  },
  {
   "cell_type": "code",
   "execution_count": null,
   "metadata": {},
   "outputs": [],
   "source": []
  }
 ]
}