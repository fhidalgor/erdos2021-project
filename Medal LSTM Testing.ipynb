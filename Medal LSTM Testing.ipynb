{
 "cells": [
  {
   "cell_type": "code",
   "execution_count": 1,
   "id": "3cb03dc6",
   "metadata": {},
   "outputs": [],
   "source": [
    "import os, pickle\n",
    "import numpy as np\n",
    "import pandas as pd\n",
    "from tqdm import tqdm\n",
    "from itertools import compress\n",
    "\n",
    "import fasttext\n",
    "\n",
    "import torch\n",
    "from torch import nn\n",
    "import matplotlib.pyplot as plt\n",
    "import torch.nn.functional as F"
   ]
  },
  {
   "cell_type": "code",
   "execution_count": 3,
   "id": "cc367e18",
   "metadata": {},
   "outputs": [
    {
     "name": "stdout",
     "output_type": "stream",
     "text": [
      "/Users/szabo.48/Desktop/Erdos_proj/erdos2021-project\n"
     ]
    }
   ],
   "source": [
    "cd erdos2021-project/"
   ]
  },
  {
   "cell_type": "code",
   "execution_count": 12,
   "id": "8bbbbae0",
   "metadata": {},
   "outputs": [],
   "source": [
    "from engine.utils.LSTM_loader import ADAM_DF\n",
    "from engine.utils.LSTM_loader import LSTM, LSTM_SA, FastTextTokenizer, EmbeddingsDataset, load_dataframes, get_LSTM_tokenizer\n",
    "from engine.utils import load_LSTM_pretrained\n",
    "from engine.wrappers.wrapper import Wrapper"
   ]
  },
  {
   "cell_type": "code",
   "execution_count": 5,
   "id": "e04ecd2f",
   "metadata": {},
   "outputs": [
    {
     "name": "stdout",
     "output_type": "stream",
     "text": [
      "Data loaded\n",
      "Loading word index from cache... Done.\n"
     ]
    },
    {
     "name": "stderr",
     "output_type": "stream",
     "text": [
      "Warning : `load_model` does not return WordVectorModel or SupervisedModel any more, but a `FastText` object which is very similar.\n",
      "100%|██████████| 3188033/3188033 [00:38<00:00, 83507.77it/s]\n"
     ]
    },
    {
     "name": "stdout",
     "output_type": "stream",
     "text": [
      "Tokenizer Built\n"
     ]
    }
   ],
   "source": [
    "data_dir, adam_path, emb_path = '../data/medal-emnlp/pretrain_subset', 'datasets/adam/valid_adam.txt', '../crawl-300d-2M-subword/crawl-300d-2M-subword.bin'\n",
    "\n",
    "tokenizer = get_LSTM_tokenizer(data_dir, adam_path, emb_path);"
   ]
  },
  {
   "cell_type": "code",
   "execution_count": 6,
   "id": "4be0ee87",
   "metadata": {},
   "outputs": [],
   "source": [
    "train = pd.read_csv(os.path.join(data_dir, 'train.csv'), engine='c')\n",
    "adam_df = pd.read_csv(adam_path, sep='\\t')\n",
    "unique_labels = adam_df.EXPANSION.unique()\n",
    "label_to_ix = {label: ix for ix, label in enumerate(unique_labels)}\n",
    "\n",
    "train['LABEL_NUM'] = train.LABEL.apply(lambda l: label_to_ix[l]);"
   ]
  },
  {
   "cell_type": "code",
   "execution_count": 7,
   "id": "9a1a7a95",
   "metadata": {},
   "outputs": [],
   "source": [
    "DEVICE = torch.device(f\"cuda\" if torch.cuda.is_available() else \"cpu\")\n",
    "\n",
    "train_data = EmbeddingsDataset(train, tokenizer=tokenizer, device=DEVICE);"
   ]
  },
  {
   "cell_type": "markdown",
   "id": "d480f393",
   "metadata": {},
   "source": [
    "# Test the Torch.hub.load LSTM Models\n",
    "\n",
    "## 1. BiLSTM\n",
    "## 2. LSTM + SAA"
   ]
  },
  {
   "cell_type": "code",
   "execution_count": 9,
   "id": "83991537",
   "metadata": {},
   "outputs": [
    {
     "name": "stdout",
     "output_type": "stream",
     "text": [
      "Predicted values: \n",
      "11547         leukocyte migration inhibition\n",
      "6754            diaphragmatic electromyogram\n",
      "12586                  myofibrillar myopathy\n",
      "492              atypical ductal hyperplasia\n",
      "4151                   creatinephosphokinase\n",
      "4686                         cytolytic tcell\n",
      "13155                       matching pursuit\n",
      "15821                    photon flux density\n",
      "10982                          ketoreductase\n",
      "11821                      heat labile toxin\n",
      "6575                         electric fields\n",
      "7519                     friedreichs disease\n",
      "2718                computeraided diagnostic\n",
      "93                      min walking distance\n",
      "5534                daltons lymphoma ascites\n",
      "7975                            furazolidone\n",
      "6947                  endocochlear potential\n",
      "3105                         cervical cancer\n",
      "13261                     mandelate racemase\n",
      "16585    slow waves or pacesetter potentials\n",
      "Name: EXPANSION, dtype: object\n",
      "Actual: \n",
      "6613    enteroglucagon\n",
      "Name: EXPANSION, dtype: object\n",
      "Actual: \n",
      "enteroglucagon\n"
     ]
    },
    {
     "name": "stderr",
     "output_type": "stream",
     "text": [
      "/Users/szabo.48/.cache/torch/hub/BruceWen120_medal_master/models/rnn.py:24: UserWarning: To copy construct from a tensor, it is recommended to use sourceTensor.clone().detach() or sourceTensor.clone().detach().requires_grad_(True), rather than torch.tensor(sourceTensor).\n",
      "  sents = torch.tensor(sents, dtype=torch.float32).to(self.device)\n"
     ]
    }
   ],
   "source": [
    "net = LSTM;\n",
    "net.eval();\n",
    "\n",
    "index = 23450;\n",
    "with torch.no_grad():\n",
    "    idx = torch.tensor([index]);\n",
    "    sents, locs, labels = train_data[idx];\n",
    "    outputs = net(sents, locs);\n",
    "\n",
    "pLabels = torch.topk(outputs,20);\n",
    "print('Predicted values: ')\n",
    "print(adam_df['EXPANSION'].iloc[pLabels[1].numpy()[0]])\n",
    "\n",
    "print('Actual: ')\n",
    "print(adam_df['EXPANSION'].iloc[labels.numpy()])\n",
    "print('Actual: ')\n",
    "print(train[\"LABEL\"][index])"
   ]
  },
  {
   "cell_type": "code",
   "execution_count": 10,
   "id": "0248d10f",
   "metadata": {},
   "outputs": [
    {
     "name": "stdout",
     "output_type": "stream",
     "text": [
      "Predicted values: \n",
      "4242                                c peptide\n",
      "7364                           acid synthesis\n",
      "10444        individual placement and support\n",
      "5486        diisothiocyanostilbenedisulfonate\n",
      "3870             chronic myelogenous leukemia\n",
      "9166                          hypoxic hypoxia\n",
      "11998                        aerobic capacity\n",
      "4016                     congenital nystagmus\n",
      "13378                   minimum spanning tree\n",
      "6112                   diffuse leiomyomatosis\n",
      "11798                   longterm facilitation\n",
      "11479                     inhibitory activity\n",
      "14981            premenstrual assessment form\n",
      "3054     sulfated cholecystokinin octapeptide\n",
      "13774                        neuroborreliosis\n",
      "11757                    laminar shear stress\n",
      "428                        activated charcoal\n",
      "14317                 neurosecretory granules\n",
      "4789        common variable immune deficiency\n",
      "3755        cutaneous lymphocyteassociated ag\n",
      "Name: EXPANSION, dtype: object\n",
      "Actual: \n",
      "6613    enteroglucagon\n",
      "Name: EXPANSION, dtype: object\n",
      "Actual: \n",
      "enteroglucagon\n"
     ]
    }
   ],
   "source": [
    "net = LSTM_SA;\n",
    "net.eval();\n",
    "\n",
    "index = 23450;\n",
    "with torch.no_grad():\n",
    "    idx = torch.tensor([index]);\n",
    "    sents, locs, labels = train_data[idx];\n",
    "    outputs = net(sents, locs);\n",
    "\n",
    "pLabels = torch.topk(outputs,20);\n",
    "print('Predicted values: ')\n",
    "print(adam_df['EXPANSION'].iloc[pLabels[1].numpy()[0]])\n",
    "\n",
    "print('Actual: ')\n",
    "print(adam_df['EXPANSION'].iloc[labels.numpy()])\n",
    "print('Actual: ')\n",
    "print(train[\"LABEL\"][index])"
   ]
  },
  {
   "cell_type": "markdown",
   "id": "f52f7a18",
   "metadata": {},
   "source": [
    "# Test loading pretrained from \"load_LSTM_pretrained\"\n",
    "\n",
    "## 1. BiLSTM\n",
    "## 2. LSTM + SAA"
   ]
  },
  {
   "cell_type": "code",
   "execution_count": 13,
   "id": "1064031e",
   "metadata": {},
   "outputs": [
    {
     "name": "stdout",
     "output_type": "stream",
     "text": [
      "Predicted values: \n",
      "16418                                   net photosynthesis\n",
      "5358                                    dental fear survey\n",
      "9051                                hydroalcoholic extract\n",
      "16050    procollagen type i carboxyterminal extension p...\n",
      "13007                                     mononuclear cell\n",
      "5076                       developmental apraxia of speech\n",
      "11473                                           lefthanded\n",
      "11464                                      lungheart ratio\n",
      "5258                       developmental defects of enamel\n",
      "8308                                   rat pituitary tumor\n",
      "3886                               caudal mediastinal node\n",
      "14989                                  periaqueductal grey\n",
      "5712                                     dinitrophenylated\n",
      "12213                              mast cell degranulating\n",
      "6052                                driving while impaired\n",
      "11318                                 laser doppler imager\n",
      "15906                            porous graphitized carbon\n",
      "9783                        mixture of  helium and  oxygen\n",
      "1346                               aldehyde reactive probe\n",
      "9551                                     hepatic resection\n",
      "Name: EXPANSION, dtype: object\n",
      "Actual: \n",
      "6613    enteroglucagon\n",
      "Name: EXPANSION, dtype: object\n",
      "Actual: \n",
      "enteroglucagon\n"
     ]
    },
    {
     "name": "stderr",
     "output_type": "stream",
     "text": [
      "/Users/szabo.48/Desktop/Erdos_proj/erdos2021-project/engine/utils/LSTM.py:24: UserWarning: To copy construct from a tensor, it is recommended to use sourceTensor.clone().detach() or sourceTensor.clone().detach().requires_grad_(True), rather than torch.tensor(sourceTensor).\n",
      "  sents = torch.tensor(sents, dtype=torch.float32).to(self.device)\n"
     ]
    }
   ],
   "source": [
    "net = load_LSTM_pretrained.lstm()\n",
    "net.eval();\n",
    "\n",
    "index = 23450;\n",
    "with torch.no_grad():\n",
    "    idx = torch.tensor([index]);\n",
    "    sents, locs, labels = train_data[idx];\n",
    "    outputs = net(sents, locs);\n",
    "\n",
    "pLabels = torch.topk(outputs,20);\n",
    "print('Predicted values: ')\n",
    "print(adam_df['EXPANSION'].iloc[pLabels[1].numpy()[0]])\n",
    "\n",
    "print('Actual: ')\n",
    "print(adam_df['EXPANSION'].iloc[labels.numpy()])\n",
    "print('Actual: ')\n",
    "print(train[\"LABEL\"][index])"
   ]
  },
  {
   "cell_type": "code",
   "execution_count": null,
   "id": "564c045c",
   "metadata": {},
   "outputs": [],
   "source": []
  }
 ],
 "metadata": {
  "kernelspec": {
   "display_name": "Python 3",
   "language": "python",
   "name": "python3"
  },
  "language_info": {
   "codemirror_mode": {
    "name": "ipython",
    "version": 3
   },
   "file_extension": ".py",
   "mimetype": "text/x-python",
   "name": "python",
   "nbconvert_exporter": "python",
   "pygments_lexer": "ipython3",
   "version": "3.7.10"
  }
 },
 "nbformat": 4,
 "nbformat_minor": 5
}
