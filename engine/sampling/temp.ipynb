{
 "metadata": {
  "language_info": {
   "codemirror_mode": {
    "name": "ipython",
    "version": 3
   },
   "file_extension": ".py",
   "mimetype": "text/x-python",
   "name": "python",
   "nbconvert_exporter": "python",
   "pygments_lexer": "ipython3",
   "version": "3.8.3"
  },
  "orig_nbformat": 2,
  "kernelspec": {
   "name": "python383jvsc74a57bd05ff2e97f2700942b88f4f63a758b83b1732fbe9984934997a5f4b9403efe2385",
   "display_name": "Python 3.8.3 64-bit ('erdos2021-project-_DDWgEhi-py3.8': poetry)"
  }
 },
 "nbformat": 4,
 "nbformat_minor": 2,
 "cells": [
  {
   "cell_type": "code",
   "execution_count": 10,
   "metadata": {},
   "outputs": [],
   "source": [
    "import pandas as pd"
   ]
  },
  {
   "cell_type": "code",
   "execution_count": 19,
   "metadata": {},
   "outputs": [],
   "source": [
    "df = pd.read_csv(\"../../datasets/pubmed/replaced_abstracts/pubmed21n1067_tokenized_longforms_replaced.csv\", converters={'long_forms': eval})\n",
    "\n",
    "ADAM_DF = pd.read_csv(\"../../datasets/adam/valid_adam.txt\", sep='\\t')\n"
   ]
  },
  {
   "cell_type": "code",
   "execution_count": 26,
   "metadata": {},
   "outputs": [
    {
     "output_type": "execute_result",
     "data": {
      "text/plain": [
       "     long_forms unique_key\n",
       "0     compounds     V13O_0\n",
       "0     secondary     V13O_0\n",
       "0     precursor     V13O_0\n",
       "0  heterologous     V13O_0\n",
       "0       factors     V13O_0"
      ],
      "text/html": "<div>\n<style scoped>\n    .dataframe tbody tr th:only-of-type {\n        vertical-align: middle;\n    }\n\n    .dataframe tbody tr th {\n        vertical-align: top;\n    }\n\n    .dataframe thead th {\n        text-align: right;\n    }\n</style>\n<table border=\"1\" class=\"dataframe\">\n  <thead>\n    <tr style=\"text-align: right;\">\n      <th></th>\n      <th>long_forms</th>\n      <th>unique_key</th>\n    </tr>\n  </thead>\n  <tbody>\n    <tr>\n      <th>0</th>\n      <td>compounds</td>\n      <td>V13O_0</td>\n    </tr>\n    <tr>\n      <th>0</th>\n      <td>secondary</td>\n      <td>V13O_0</td>\n    </tr>\n    <tr>\n      <th>0</th>\n      <td>precursor</td>\n      <td>V13O_0</td>\n    </tr>\n    <tr>\n      <th>0</th>\n      <td>heterologous</td>\n      <td>V13O_0</td>\n    </tr>\n    <tr>\n      <th>0</th>\n      <td>factors</td>\n      <td>V13O_0</td>\n    </tr>\n  </tbody>\n</table>\n</div>"
     },
     "metadata": {},
     "execution_count": 26
    }
   ],
   "source": [
    "df_explode = df[['long_forms', 'unique_key']].explode('long_forms')\n",
    "df_explode.head()"
   ]
  },
  {
   "cell_type": "code",
   "execution_count": 58,
   "metadata": {},
   "outputs": [],
   "source": [
    "df_merged = ADAM_DF[['EXPANSION']].merge(df_explode, how='left', left_on=['EXPANSION'], right_on = ['long_forms'])\n",
    "x = df_merged.groupby(by=['EXPANSION'], as_index = False).agg(['count'])\n",
    "x.reset_index(inplace=True)"
   ]
  },
  {
   "cell_type": "code",
   "execution_count": 62,
   "metadata": {},
   "outputs": [],
   "source": [
    "import numpy as np"
   ]
  },
  {
   "cell_type": "code",
   "execution_count": 93,
   "metadata": {},
   "outputs": [
    {
     "output_type": "execute_result",
     "data": {
      "text/plain": [
       "                                           long_form  counts\n",
       "0                                      contractility       0\n",
       "1      rate of left ventricular pressure development       0\n",
       "2                                   anhydrodglucitol       0\n",
       "3                                    anhydroglucitol       0\n",
       "4                    labeled with radioactive carbon       0\n",
       "...                                              ...     ...\n",
       "24000                   serine proteinase inhibitors       0\n",
       "24001     hydroxymethylglutaryl coenzyme a reductase       0\n",
       "24002                 inhibitors of hmgcoa reductase       0\n",
       "24003            vacuolar protontranslocating atpase       0\n",
       "24004                           vacuolartype hatpase       0\n",
       "\n",
       "[24005 rows x 2 columns]"
      ],
      "text/html": "<div>\n<style scoped>\n    .dataframe tbody tr th:only-of-type {\n        vertical-align: middle;\n    }\n\n    .dataframe tbody tr th {\n        vertical-align: top;\n    }\n\n    .dataframe thead th {\n        text-align: right;\n    }\n</style>\n<table border=\"1\" class=\"dataframe\">\n  <thead>\n    <tr style=\"text-align: right;\">\n      <th></th>\n      <th>long_form</th>\n      <th>counts</th>\n    </tr>\n  </thead>\n  <tbody>\n    <tr>\n      <th>0</th>\n      <td>contractility</td>\n      <td>0</td>\n    </tr>\n    <tr>\n      <th>1</th>\n      <td>rate of left ventricular pressure development</td>\n      <td>0</td>\n    </tr>\n    <tr>\n      <th>2</th>\n      <td>anhydrodglucitol</td>\n      <td>0</td>\n    </tr>\n    <tr>\n      <th>3</th>\n      <td>anhydroglucitol</td>\n      <td>0</td>\n    </tr>\n    <tr>\n      <th>4</th>\n      <td>labeled with radioactive carbon</td>\n      <td>0</td>\n    </tr>\n    <tr>\n      <th>...</th>\n      <td>...</td>\n      <td>...</td>\n    </tr>\n    <tr>\n      <th>24000</th>\n      <td>serine proteinase inhibitors</td>\n      <td>0</td>\n    </tr>\n    <tr>\n      <th>24001</th>\n      <td>hydroxymethylglutaryl coenzyme a reductase</td>\n      <td>0</td>\n    </tr>\n    <tr>\n      <th>24002</th>\n      <td>inhibitors of hmgcoa reductase</td>\n      <td>0</td>\n    </tr>\n    <tr>\n      <th>24003</th>\n      <td>vacuolar protontranslocating atpase</td>\n      <td>0</td>\n    </tr>\n    <tr>\n      <th>24004</th>\n      <td>vacuolartype hatpase</td>\n      <td>0</td>\n    </tr>\n  </tbody>\n</table>\n<p>24005 rows × 2 columns</p>\n</div>"
     },
     "metadata": {},
     "execution_count": 93
    }
   ],
   "source": [
    "df = pd.DataFrame(list(dict_counts.items()),columns = ['long_form','counts'])\n",
    "df"
   ]
  },
  {
   "cell_type": "code",
   "execution_count": 95,
   "metadata": {},
   "outputs": [
    {
     "output_type": "error",
     "ename": "TypeError",
     "evalue": "list expected at most 1 argument, got 2",
     "traceback": [
      "\u001b[0;31m---------------------------------------------------------------------------\u001b[0m",
      "\u001b[0;31mTypeError\u001b[0m                                 Traceback (most recent call last)",
      "\u001b[0;32m<ipython-input-95-576dcdeddb7f>\u001b[0m in \u001b[0;36m<module>\u001b[0;34m\u001b[0m\n\u001b[0;32m----> 1\u001b[0;31m \u001b[0mlist\u001b[0m\u001b[0;34m(\u001b[0m\u001b[0mdict_counts\u001b[0m\u001b[0;34m.\u001b[0m\u001b[0mitems\u001b[0m\u001b[0;34m(\u001b[0m\u001b[0;34m)\u001b[0m\u001b[0;34m,\u001b[0m \u001b[0mdict_counts\u001b[0m\u001b[0;34m.\u001b[0m\u001b[0mvalues\u001b[0m\u001b[0;34m(\u001b[0m\u001b[0;34m)\u001b[0m\u001b[0;34m)\u001b[0m\u001b[0;34m\u001b[0m\u001b[0;34m\u001b[0m\u001b[0m\n\u001b[0m",
      "\u001b[0;31mTypeError\u001b[0m: list expected at most 1 argument, got 2"
     ]
    }
   ],
   "source": [
    "list(dict_counts.items(), dict_counts.values())"
   ]
  },
  {
   "cell_type": "code",
   "execution_count": 112,
   "metadata": {},
   "outputs": [
    {
     "output_type": "stream",
     "name": "stdout",
     "text": [
      "OrderedDict([('a', ['hello']), ('b', ['lasdf'])])\n"
     ]
    }
   ],
   "source": [
    "import collections\n",
    "a_dict = collections.defaultdict(list)\n",
    "a_dict[\"a\"].append(\"hello\")\n",
    "a_dict[\"b\"].append(\"lasdf\")\n",
    "a_dict = collections.OrderedDict(a_dict)\n",
    "print(a_dict)"
   ]
  },
  {
   "cell_type": "code",
   "execution_count": 113,
   "metadata": {},
   "outputs": [],
   "source": [
    "a_dict[\"b\"].append(\"lasdf\")"
   ]
  },
  {
   "cell_type": "code",
   "execution_count": 105,
   "metadata": {},
   "outputs": [],
   "source": [
    "a_dict[\"b\"].append('asdf')"
   ]
  },
  {
   "cell_type": "code",
   "execution_count": 114,
   "metadata": {},
   "outputs": [
    {
     "output_type": "execute_result",
     "data": {
      "text/plain": [
       "OrderedDict([('a', ['hello']), ('b', ['lasdf', 'lasdf'])])"
      ]
     },
     "metadata": {},
     "execution_count": 114
    }
   ],
   "source": [
    "a_dict"
   ]
  },
  {
   "cell_type": "code",
   "execution_count": 306,
   "metadata": {},
   "outputs": [
    {
     "output_type": "execute_result",
     "data": {
      "text/plain": [
       "1"
      ]
     },
     "metadata": {},
     "execution_count": 306
    }
   ],
   "source": [
    "a = ['a', 'b', 'c']\n",
    "a.index('b')"
   ]
  },
  {
   "cell_type": "code",
   "execution_count": 308,
   "metadata": {},
   "outputs": [
    {
     "output_type": "execute_result",
     "data": {
      "text/plain": [
       "long_form                                         contractility\n",
       "counts                                                       41\n",
       "unique_key    [FR3VMLOB_151, FR3VMLOB_641, FR3VMLOB_643, FR3...\n",
       "Name: 0, dtype: object"
      ]
     },
     "metadata": {},
     "execution_count": 308
    }
   ],
   "source": [
    "df.iloc[0]"
   ]
  },
  {
   "cell_type": "code",
   "execution_count": 307,
   "metadata": {},
   "outputs": [
    {
     "output_type": "execute_result",
     "data": {
      "text/plain": [
       "                                           long_form  ...                                         unique_key\n",
       "0                                      contractility  ...  [FR3VMLOB_151, FR3VMLOB_641, FR3VMLOB_643, FR3...\n",
       "1      rate of left ventricular pressure development  ...                                                 []\n",
       "2                                   anhydrodglucitol  ...                                                 []\n",
       "3                                    anhydroglucitol  ...                                                 []\n",
       "4                    labeled with radioactive carbon  ...                                                 []\n",
       "...                                              ...  ...                                                ...\n",
       "24000                   serine proteinase inhibitors  ...                                                 []\n",
       "24001     hydroxymethylglutaryl coenzyme a reductase  ...                                                 []\n",
       "24002                 inhibitors of hmgcoa reductase  ...                                                 []\n",
       "24003            vacuolar protontranslocating atpase  ...                                                 []\n",
       "24004                           vacuolartype hatpase  ...                                                 []\n",
       "\n",
       "[24005 rows x 3 columns]"
      ],
      "text/html": "<div>\n<style scoped>\n    .dataframe tbody tr th:only-of-type {\n        vertical-align: middle;\n    }\n\n    .dataframe tbody tr th {\n        vertical-align: top;\n    }\n\n    .dataframe thead th {\n        text-align: right;\n    }\n</style>\n<table border=\"1\" class=\"dataframe\">\n  <thead>\n    <tr style=\"text-align: right;\">\n      <th></th>\n      <th>long_form</th>\n      <th>counts</th>\n      <th>unique_key</th>\n    </tr>\n  </thead>\n  <tbody>\n    <tr>\n      <th>0</th>\n      <td>contractility</td>\n      <td>41</td>\n      <td>[FR3VMLOB_151, FR3VMLOB_641, FR3VMLOB_643, FR3...</td>\n    </tr>\n    <tr>\n      <th>1</th>\n      <td>rate of left ventricular pressure development</td>\n      <td>0</td>\n      <td>[]</td>\n    </tr>\n    <tr>\n      <th>2</th>\n      <td>anhydrodglucitol</td>\n      <td>0</td>\n      <td>[]</td>\n    </tr>\n    <tr>\n      <th>3</th>\n      <td>anhydroglucitol</td>\n      <td>0</td>\n      <td>[]</td>\n    </tr>\n    <tr>\n      <th>4</th>\n      <td>labeled with radioactive carbon</td>\n      <td>0</td>\n      <td>[]</td>\n    </tr>\n    <tr>\n      <th>...</th>\n      <td>...</td>\n      <td>...</td>\n      <td>...</td>\n    </tr>\n    <tr>\n      <th>24000</th>\n      <td>serine proteinase inhibitors</td>\n      <td>0</td>\n      <td>[]</td>\n    </tr>\n    <tr>\n      <th>24001</th>\n      <td>hydroxymethylglutaryl coenzyme a reductase</td>\n      <td>0</td>\n      <td>[]</td>\n    </tr>\n    <tr>\n      <th>24002</th>\n      <td>inhibitors of hmgcoa reductase</td>\n      <td>0</td>\n      <td>[]</td>\n    </tr>\n    <tr>\n      <th>24003</th>\n      <td>vacuolar protontranslocating atpase</td>\n      <td>0</td>\n      <td>[]</td>\n    </tr>\n    <tr>\n      <th>24004</th>\n      <td>vacuolartype hatpase</td>\n      <td>0</td>\n      <td>[]</td>\n    </tr>\n  </tbody>\n</table>\n<p>24005 rows × 3 columns</p>\n</div>"
     },
     "metadata": {},
     "execution_count": 307
    }
   ],
   "source": [
    "df = pd.read_csv(\"../../datasets/pubmed/replaced_abstracts/counts.csv\", converters={'long_forms': eval, 'unique_key': eval})\n",
    "df"
   ]
  },
  {
   "cell_type": "code",
   "execution_count": 326,
   "metadata": {},
   "outputs": [
    {
     "output_type": "execute_result",
     "data": {
      "text/plain": [
       "\"df = df.groupby(by=['long_form'], as_index = False).agg({'frequency':'sum', 'unique_key':lambda x: con(x)})\""
      ]
     },
     "metadata": {},
     "execution_count": 326
    }
   ],
   "source": [
    "df = pd.read_csv(\"../../datasets/pubmed/replaced_abstracts/counts.csv\", converters={'long_forms': eval, 'unique_key': eval})\n",
    "df = df.sort_values(by='counts')\n",
    "df = df.explode('unique_key')\n",
    "df.dropna(inplace=True)\n",
    "df.drop_duplicates(subset='unique_key',inplace=True)\n",
    "#df['counts'] = 1\n",
    "#df['frequency'] = df['counts']/df['counts'].sum()\n",
    "'''df = df.groupby(by=['long_form'], as_index = False).agg({'frequency':'sum', 'unique_key':lambda x: con(x)})'''\n",
    "#df = df.groupby(by=['long_form'], as_index = False)['unique_key'].sum()\n",
    "#df.groupby(('long_form'))['unique_key'].apply(sum)\n"
   ]
  },
  {
   "cell_type": "code",
   "execution_count": 333,
   "metadata": {},
   "outputs": [],
   "source": [
    "x = (df.groupby(by=['long_form'])['unique_key'].apply(list))"
   ]
  },
  {
   "cell_type": "code",
   "execution_count": 335,
   "metadata": {},
   "outputs": [
    {
     "output_type": "execute_result",
     "data": {
      "text/plain": [
       "long_form\n",
       " confidence interval          [FR3VMLOB_417, FR3VMLOB_860, FR3VMLOB_1318, FR...\n",
       " dextrose                     [FR3VMLOB_17176, RNEDP3T9_8365, RNEDP3T9_8366,...\n",
       " effective concentrations            [FR3VMLOB_533, RNEDP3T9_50, ZU355LHD_6873]\n",
       " inhibition of cell growth      [FR3VMLOB_15481, ZU355LHD_2030, ZU355LHD_13129]\n",
       " inhibition of growth                                           [G37O7JMY_1228]\n",
       "                                                    ...                        \n",
       "zeta potential                [FR3VMLOB_6528, FR3VMLOB_7502, FR3VMLOB_8478, ...\n",
       "zinc deficiency                 [FR3VMLOB_9490, FR3VMLOB_12194, FR3VMLOB_16856]\n",
       "zona fasciculata                                               [FR3VMLOB_10087]\n",
       "zona pellucida                [FR3VMLOB_11129, RNEDP3T9_3957, RNEDP3T9_8487,...\n",
       "zone electrophoresis                                           [FR3VMLOB_17898]\n",
       "Name: unique_key, Length: 7006, dtype: object"
      ]
     },
     "metadata": {},
     "execution_count": 335
    }
   ],
   "source": [
    "x"
   ]
  },
  {
   "cell_type": "code",
   "execution_count": 334,
   "metadata": {},
   "outputs": [
    {
     "output_type": "execute_result",
     "data": {
      "text/plain": [
       "Index([' confidence interval', ' dextrose', ' effective concentrations',\n",
       "       ' inhibition of cell growth', ' inhibition of growth', ' million units',\n",
       "       ' minutes', ' month', ' months later', ' nacl',\n",
       "       ...\n",
       "       'xanthan gum', 'xanthohumol', 'xyloglucan', 'years later', 'yolk sac',\n",
       "       'zeta potential', 'zinc deficiency', 'zona fasciculata',\n",
       "       'zona pellucida ', 'zone electrophoresis'],\n",
       "      dtype='object', name='long_form', length=7006)"
      ]
     },
     "metadata": {},
     "execution_count": 334
    }
   ],
   "source": [
    "x.index"
   ]
  },
  {
   "cell_type": "code",
   "execution_count": 336,
   "metadata": {},
   "outputs": [],
   "source": [
    "text = \"leydig cells reflect the activation of inflammation decrease of androgen productionIC50 and promotion of cell apoptosis under orchitis maternally expressed gene meg3 exerts a crucial role in various human diseases but under orchitis the role and underlying molecular mechanism of meg3 in leydig cells remain unclear\""
   ]
  },
  {
   "cell_type": "code",
   "execution_count": 338,
   "metadata": {},
   "outputs": [],
   "source": [
    "from itertools import product"
   ]
  },
  {
   "cell_type": "code",
   "execution_count": 342,
   "metadata": {},
   "outputs": [
    {
     "output_type": "error",
     "ename": "TypeError",
     "evalue": "list() takes no keyword arguments",
     "traceback": [
      "\u001b[0;31m---------------------------------------------------------------------------\u001b[0m",
      "\u001b[0;31mTypeError\u001b[0m                                 Traceback (most recent call last)",
      "\u001b[0;32m<ipython-input-342-fbfe79f32fad>\u001b[0m in \u001b[0;36m<module>\u001b[0;34m\u001b[0m\n\u001b[0;32m----> 1\u001b[0;31m \u001b[0mlist\u001b[0m\u001b[0;34m(\u001b[0m\u001b[0mproduct\u001b[0m\u001b[0;34m(\u001b[0m\u001b[0;34m[\u001b[0m\u001b[0;34m'a'\u001b[0m\u001b[0;34m,\u001b[0m \u001b[0;34m'b'\u001b[0m\u001b[0;34m]\u001b[0m\u001b[0;34m,\u001b[0m \u001b[0;34m[\u001b[0m\u001b[0;34m'c'\u001b[0m\u001b[0;34m,\u001b[0m \u001b[0;34m'd'\u001b[0m\u001b[0;34m]\u001b[0m\u001b[0;34m)\u001b[0m\u001b[0;34m,\u001b[0m \u001b[0mrepeat\u001b[0m\u001b[0;34m=\u001b[0m\u001b[0;36m2\u001b[0m\u001b[0;34m)\u001b[0m\u001b[0;34m\u001b[0m\u001b[0;34m\u001b[0m\u001b[0m\n\u001b[0m",
      "\u001b[0;31mTypeError\u001b[0m: list() takes no keyword arguments"
     ]
    }
   ],
   "source": [
    "list(product(['a', 'b'], ['c', 'd']))"
   ]
  },
  {
   "cell_type": "code",
   "execution_count": 345,
   "metadata": {},
   "outputs": [],
   "source": [
    "names = ['Brown', 'Wilson', 'Bartlett', 'Rivera', 'Molloy', 'Opie']\n",
    "x = list(product(names, repeat=2))"
   ]
  },
  {
   "cell_type": "code",
   "execution_count": 349,
   "metadata": {},
   "outputs": [
    {
     "output_type": "execute_result",
     "data": {
      "text/plain": [
       "[('Brown', 'Brown'),\n",
       " ('Brown', 'Wilson'),\n",
       " ('Brown', 'Bartlett'),\n",
       " ('Brown', 'Rivera'),\n",
       " ('Brown', 'Molloy'),\n",
       " ('Brown', 'Opie'),\n",
       " ('Wilson', 'Brown'),\n",
       " ('Wilson', 'Wilson'),\n",
       " ('Wilson', 'Bartlett'),\n",
       " ('Wilson', 'Rivera'),\n",
       " ('Wilson', 'Molloy'),\n",
       " ('Wilson', 'Opie'),\n",
       " ('Bartlett', 'Brown'),\n",
       " ('Bartlett', 'Wilson'),\n",
       " ('Bartlett', 'Bartlett'),\n",
       " ('Bartlett', 'Rivera'),\n",
       " ('Bartlett', 'Molloy'),\n",
       " ('Bartlett', 'Opie'),\n",
       " ('Rivera', 'Brown'),\n",
       " ('Rivera', 'Wilson'),\n",
       " ('Rivera', 'Bartlett'),\n",
       " ('Rivera', 'Rivera'),\n",
       " ('Rivera', 'Molloy'),\n",
       " ('Rivera', 'Opie'),\n",
       " ('Molloy', 'Brown'),\n",
       " ('Molloy', 'Wilson'),\n",
       " ('Molloy', 'Bartlett'),\n",
       " ('Molloy', 'Rivera'),\n",
       " ('Molloy', 'Molloy'),\n",
       " ('Molloy', 'Opie'),\n",
       " ('Opie', 'Brown'),\n",
       " ('Opie', 'Wilson'),\n",
       " ('Opie', 'Bartlett'),\n",
       " ('Opie', 'Rivera'),\n",
       " ('Opie', 'Molloy'),\n",
       " ('Opie', 'Opie')]"
      ]
     },
     "metadata": {},
     "execution_count": 349
    }
   ],
   "source": [
    "x"
   ]
  },
  {
   "cell_type": "code",
   "execution_count": 348,
   "metadata": {
    "tags": []
   },
   "outputs": [
    {
     "output_type": "stream",
     "name": "stdout",
     "text": [
      "Brown Brown\nBrown Wilson\nBrown Bartlett\nBrown Rivera\nBrown Molloy\nBrown Opie\nWilson Brown\nWilson Wilson\nWilson Bartlett\nWilson Rivera\nWilson Molloy\nWilson Opie\nBartlett Brown\nBartlett Wilson\nBartlett Bartlett\nBartlett Rivera\nBartlett Molloy\nBartlett Opie\nRivera Brown\nRivera Wilson\nRivera Bartlett\nRivera Rivera\nRivera Molloy\nRivera Opie\nMolloy Brown\nMolloy Wilson\nMolloy Bartlett\nMolloy Rivera\nMolloy Molloy\nMolloy Opie\nOpie Brown\nOpie Wilson\nOpie Bartlett\nOpie Rivera\nOpie Molloy\nOpie Opie\n"
     ]
    }
   ],
   "source": [
    "for item, k in x:\n",
    "    print(item, k)"
   ]
  },
  {
   "cell_type": "code",
   "execution_count": 291,
   "metadata": {},
   "outputs": [
    {
     "output_type": "execute_result",
     "data": {
      "text/plain": [
       "Empty DataFrame\n",
       "Columns: []\n",
       "Index: []"
      ],
      "text/html": "<div>\n<style scoped>\n    .dataframe tbody tr th:only-of-type {\n        vertical-align: middle;\n    }\n\n    .dataframe tbody tr th {\n        vertical-align: top;\n    }\n\n    .dataframe thead th {\n        text-align: right;\n    }\n</style>\n<table border=\"1\" class=\"dataframe\">\n  <thead>\n    <tr style=\"text-align: right;\">\n      <th></th>\n    </tr>\n  </thead>\n  <tbody>\n  </tbody>\n</table>\n</div>"
     },
     "metadata": {},
     "execution_count": 291
    }
   ],
   "source": [
    "df_new = pd.DataFrame()\n",
    "df_new.append(df.loc[df['long_form']=='breathing rate'])\n",
    "df_new"
   ]
  },
  {
   "cell_type": "code",
   "execution_count": 204,
   "metadata": {},
   "outputs": [
    {
     "output_type": "execute_result",
     "data": {
      "text/plain": [
       "                                       long_form  ...                                         unique_key\n",
       "0                                  contractility  ...  ['FR3VMLOB_151', 'FR3VMLOB_641', 'FR3VMLOB_643...\n",
       "1  rate of left ventricular pressure development  ...                                                 []\n",
       "2                               anhydrodglucitol  ...                                                 []\n",
       "3                                anhydroglucitol  ...                                                 []\n",
       "4                labeled with radioactive carbon  ...                                                 []\n",
       "\n",
       "[5 rows x 3 columns]"
      ],
      "text/html": "<div>\n<style scoped>\n    .dataframe tbody tr th:only-of-type {\n        vertical-align: middle;\n    }\n\n    .dataframe tbody tr th {\n        vertical-align: top;\n    }\n\n    .dataframe thead th {\n        text-align: right;\n    }\n</style>\n<table border=\"1\" class=\"dataframe\">\n  <thead>\n    <tr style=\"text-align: right;\">\n      <th></th>\n      <th>long_form</th>\n      <th>counts</th>\n      <th>unique_key</th>\n    </tr>\n  </thead>\n  <tbody>\n    <tr>\n      <th>0</th>\n      <td>contractility</td>\n      <td>41</td>\n      <td>['FR3VMLOB_151', 'FR3VMLOB_641', 'FR3VMLOB_643...</td>\n    </tr>\n    <tr>\n      <th>1</th>\n      <td>rate of left ventricular pressure development</td>\n      <td>0</td>\n      <td>[]</td>\n    </tr>\n    <tr>\n      <th>2</th>\n      <td>anhydrodglucitol</td>\n      <td>0</td>\n      <td>[]</td>\n    </tr>\n    <tr>\n      <th>3</th>\n      <td>anhydroglucitol</td>\n      <td>0</td>\n      <td>[]</td>\n    </tr>\n    <tr>\n      <th>4</th>\n      <td>labeled with radioactive carbon</td>\n      <td>0</td>\n      <td>[]</td>\n    </tr>\n  </tbody>\n</table>\n</div>"
     },
     "metadata": {},
     "execution_count": 204
    }
   ],
   "source": [
    "df = pd.read_csv(\"../../datasets/pubmed/replaced_abstracts/counts.csv\", converters={'long_forms': eval, 'unique_keys': eval})\n",
    "df.head()"
   ]
  },
  {
   "cell_type": "code",
   "execution_count": 325,
   "metadata": {},
   "outputs": [
    {
     "output_type": "execute_result",
     "data": {
      "text/plain": [
       "1"
      ]
     },
     "metadata": {},
     "execution_count": 325
    }
   ],
   "source": [
    "x = pd.DataFrame({'a':[1,1,2,2],'b':['a','a','a','b'],'c':[[1,2],[3,4],[5,6],[7,8]]})\n",
    "x.iloc[0:1]['c'][0].index(2)\n"
   ]
  },
  {
   "cell_type": "code",
   "execution_count": 267,
   "metadata": {},
   "outputs": [
    {
     "output_type": "execute_result",
     "data": {
      "text/plain": [
       "a\n",
       "1    [1, 2, 3, 4]\n",
       "2    [5, 6, 7, 8]\n",
       "Name: c, dtype: object"
      ]
     },
     "metadata": {},
     "execution_count": 267
    }
   ],
   "source": [
    "x.groupby(('a'))['c'].apply(sum)"
   ]
  },
  {
   "cell_type": "code",
   "execution_count": 179,
   "metadata": {},
   "outputs": [],
   "source": [
    "df = df.groupby(by=['long_form'], as_index = False).agg({'frequency':'sum', 'unique_keys':lambda x: ','.join(x)})"
   ]
  },
  {
   "cell_type": "code",
   "execution_count": 184,
   "metadata": {},
   "outputs": [
    {
     "output_type": "error",
     "ename": "SyntaxError",
     "evalue": "invalid syntax (<ipython-input-184-f07bb6ae6fe7>, line 12)",
     "traceback": [
      "\u001b[0;36m  File \u001b[0;32m\"<ipython-input-184-f07bb6ae6fe7>\"\u001b[0;36m, line \u001b[0;32m12\u001b[0m\n\u001b[0;31m    df_abstracts.to_csv(os.path.join(self.output_path, \"sampled_dataset\"), index = False)\u001b[0m\n\u001b[0m    ^\u001b[0m\n\u001b[0;31mSyntaxError\u001b[0m\u001b[0;31m:\u001b[0m invalid syntax\n"
     ]
    }
   ],
   "source": [
    "# read csv file with that batch name\n",
    "dicti = {}\n",
    "for file in files:\n",
    "    df = pd.read_csv(os.path.join(self.input_path, key), usecols = 'D:E')\n",
    "    dicti[key] = df\n",
    "\n",
    "for row in rows.iter():\n",
    "    for i, key in enumerate(row['unique_key']):\n",
    "        # get out\n",
    "        if i > N\n",
    "            break \n",
    "        # look for the abstract and return abstract\n",
    "        df_temp = dicti[key]\n",
    "        abstract = df_temp.loc[df_temp['unique_key']==key, 'replaced_abstract'].tolist()[0]\n",
    "        # append to df\n",
    "        df_abstracts = df_abstracts.append({\n",
    "            'long_forms': row['long_forms'], 'span_short_form': row['span_short_form'],\n",
    "            'abstract': abstract, 'unique_keys': key\n",
    "        }\n",
    "# saved abstract to new csv file\n",
    "df_abstracts.to_csv(os.path.join(self.output_path, \"sampled_dataset\"), index = False)"
   ]
  },
  {
   "cell_type": "code",
   "execution_count": null,
   "metadata": {},
   "outputs": [],
   "source": []
  }
 ]
}